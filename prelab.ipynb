{
 "cells": [
  {
   "cell_type": "markdown",
   "id": "90042150",
   "metadata": {},
   "source": [
    "# Pre-lab: Getting started with Python and Jupyter\n",
    "## MET2010 Applied Statistics\n",
    "## NTNU Business School\n",
    "\n",
    "### Literature: [PDS Ch 1](https://jakevdp.github.io/PythonDataScienceHandbook/01.00-ipython-beyond-normal-python.html)\n",
    "(Not everything is equally relevant or important in this chapter, so feel free to skim through quickly.)"
   ]
  },
  {
   "cell_type": "markdown",
   "id": "63bf7893",
   "metadata": {},
   "source": [
    "# Learning goals in this lab\n",
    "\n",
    "- Understand why we take the time to learn how to use Python for data manipulation, visualisation and statistical analysis\n",
    "\n",
    "- Introducing IPython interpreter and Jupyter notebooks\n",
    "- Introducing markdown\n",
    "- Introduce the main Python packages used in data analysis\n",
    "- How to get help with Python and data analysis in Python\n",
    "- Importing and visualising our first data set"
   ]
  },
  {
   "cell_type": "markdown",
   "id": "c81c6f2b",
   "metadata": {},
   "source": [
    "# Why Python/Pandas?\n"
   ]
  },
  {
   "cell_type": "markdown",
   "id": "8b83397d",
   "metadata": {},
   "source": [
    "You may have used specialized statistical programs in other courses, like Stata, SPSS, or SAS. These have some advantages like being relatively user-friendly with menu-based interfaces. Their routines are also often rigorously tested by the for-profit companies that make the software."
   ]
  },
  {
   "cell_type": "markdown",
   "id": "49f8edae",
   "metadata": {},
   "source": [
    "But when it comes to the tools that are most commonly used in both academia and industry, the choice really is between the statistical programming language, [R](https://cran.r-project.org), and the general programming language Python along with packages that aid in data and statistical analysis and visualisations"
   ]
  },
  {
   "cell_type": "markdown",
   "id": "8c0a9e3a",
   "metadata": {},
   "source": [
    "R has become the standard among academic statistics as well as many empirical researchers across many fields. There is large and growing universe of packages that allow you to do almost any data-analysis or statistical routines. In addition, many text books in statistics now make use of R-code.  I would also argue that R is marginally more user-friendly compared to Python, but that is a bit subjective."
   ]
  },
  {
   "cell_type": "markdown",
   "id": "62c76708",
   "metadata": {},
   "source": [
    "So, why use Python instead in this course? A few reasons: \n",
    "\n",
    "- The data management, statistical, and visualisation capabilities of Python has grown enormously. Most things that you can easily do in R, you can now do in Python\n",
    "- Python, as a stand-alone programming language, is more flexible and in some ways more powerful than R. \n",
    "- Within the growing field of Machine Learning and AI, usually associated with engineering departments and computer science (but increasingly business schools), and tech companies, Python is often the tool of choice. \n",
    "- As NTNU bachelor students, you have already had an introduction to Python, and if you continue with courses in statistics and data analysis, there is a high probability you will get more exposure to Python. "
   ]
  },
  {
   "cell_type": "markdown",
   "id": "9c4ae379",
   "metadata": {},
   "source": [
    "In reality, people that work heavily with data often end up learning both R and Python, and use each where appropriate. In addition, the packages and norms in both R and Python borrow heavily from each. If you have mastered one, it will be easier to master the other. "
   ]
  },
  {
   "cell_type": "markdown",
   "id": "e03275dc",
   "metadata": {},
   "source": [
    "Finally, both R and Python are open source. This has some obvious benefits: you do not need to pay licence fees to get full versions, nor fiddle around with under-powered student versions. \n",
    "\n",
    "A more subtle advantage is that the open-source nature of the programs has helped establish some strong network effects. There are now thousands of people working on packages for R and Python and millions making use of those packages. This also leads to a quite robust network of courses, documentation and question-and-answer forums. "
   ]
  },
  {
   "cell_type": "markdown",
   "id": "2b18fc00",
   "metadata": {},
   "source": [
    "### Can I use R in this course if I want?"
   ]
  },
  {
   "cell_type": "markdown",
   "id": "3d01d8a2",
   "metadata": {},
   "source": [
    "Yes.\n",
    "\n",
    "All the labs as well as the final project could also be done in r and you are welcome to do so if you prefer. \n",
    "\n",
    "But then you accept that you may not be able to get the same degree of help, support and feedback from the instructor and teaching assistant.\n",
    "\n",
    "\n"
   ]
  },
  {
   "cell_type": "markdown",
   "id": "b95e7740",
   "metadata": {},
   "source": [
    "## Main packages"
   ]
  },
  {
   "cell_type": "markdown",
   "id": "ce245be9",
   "metadata": {},
   "source": [
    "Base Python is an excellent general programming language. But we need to make use of set of extra add-on packages to really get the most of Python for data analysis. The main packages we will be using are: \n",
    "\n",
    "- [Pandas](https://pandas.pydata.org) for data management, transformation, and simple visualisation\n",
    "- [Numpy](https://numpy.org) for numerical calculations\n",
    "- [Statsmodels](https://www.statsmodels.org/stable/index.html) for statistical routines and calculations\n",
    "- [Jupyter](https://jupyter.org) for creating \"comutational documents\" (these labs are created using Jupyter, and you will be working within Jupyter with your assignments and term project)\n",
    "\n",
    "We will also use other packages like *seaborn* for statistical visualisation, that make use of these base packages as \"dependencies\". In fact, much of Statsmodels can be considered as an add-on package for Numpy. \n",
    "\n",
    "Luckily, you won't need to download and install these packages independently. They are all included in a Python-based platform for data science called Anaconda."
   ]
  },
  {
   "cell_type": "markdown",
   "id": "67ff5970",
   "metadata": {},
   "source": [
    "# Installing Anaconda"
   ]
  },
  {
   "cell_type": "markdown",
   "id": "7c68434c",
   "metadata": {},
   "source": [
    "You can download and install anaconda by going to this address:\n",
    "\n",
    "https://www.anaconda.com/products/individual\n",
    "\n",
    "You can download versions for Windows, Mac or Linux.\n",
    "\n",
    "The download is free and with no restrictions on use. \n",
    "\n",
    "If you have technical problems, you can consult the documentation: \n",
    "\n",
    "https://docs.anaconda.com/anaconda/install/index.html\n"
   ]
  },
  {
   "cell_type": "markdown",
   "id": "654d8dd4",
   "metadata": {},
   "source": [
    "# Opening a Jupyter notebook"
   ]
  },
  {
   "cell_type": "markdown",
   "id": "c23e3bb1",
   "metadata": {},
   "source": [
    "In this course, we will be working within Jupyter notebooks to work through labs, completing assignments and creating the project assignment. \n",
    "\n",
    "Jupyter notebooks run on a webbrowser and allows you to run commands for python\n",
    "\n",
    "But it also allows you to write and format text and mathematical notation and then save the combination of text, code, and mathematical notation as a pdf or html file. \n",
    "\n",
    "Jupyter is not always the best choice for doing analysis. For complex projects I often prefer to use a development environment, like Spyder, which also comes along with the Anaconda platform. But for our purposes, Jupyter functions very well.\n",
    "\n",
    "Before opening up a jupyter notebook, you should create a folder on your computer where you will save your notebooks and other materials for the work, preferably on the local drive under your username. So for example on my macintosh I have created a folder under:\n",
    "\n",
    "*Macintosh HD/Users/johannesmauritzen/anv_statistikk*\n",
    "\n",
    "Exactly where doesn't matter, as long as you can easily find it. I would however avoid various cloud drives like icloud, onedrive, etc, since these can lead to problems. \n",
    "\n",
    "Once you have installed anaconda and created a folder, you can open up jupyter notebooks in two ways. \n",
    "\n",
    "1. If you are familiar with using the terminal/command line on your system, you can open up the terminal app, navigate to the folder you have created and type in the following command:\n",
    "\n",
    "        jupyter notebook\n",
    "        \n",
    "2. Alternatively, you can find the Anaconda-Navigator navigator app installed on your machine. Then click on the *launch* button under the Jupyter Notebook icon. You can then navigate to the folder you created from within jupyter. \n",
    "\n",
    "To start a new Jupyter notebook, click on the *new* button, then *Python 3* in the drop-down menu"
   ]
  },
  {
   "cell_type": "markdown",
   "id": "69038d5b",
   "metadata": {},
   "source": [
    "# Big problems with installing jupyter notebook?"
   ]
  },
  {
   "cell_type": "markdown",
   "id": "9fb084d4",
   "metadata": {},
   "source": [
    "Hopefully, installing Anaconda and getting a jupyter notebook up and running has not been a problem. But if you are running into problems which you can not easily fix, you might consider using Google's colab:\n",
    "\n",
    "https://colab.research.google.com\n",
    "\n",
    "With a google account, you can easily run python in the cloud. Google provides a user-friendly tutorial. "
   ]
  },
  {
   "cell_type": "markdown",
   "id": "9638c477",
   "metadata": {},
   "source": [
    "## Finding your local disk and user folder\n",
    "\n",
    "On both mac and PC, anaconda and jupyter notebooks will have as the default folder your user folder on your machine, located on your local hard disk. It is here you will create a folder for your class work and project. If you do not know how to find your user folder, the below video walks you through the process on a mac. The process is similar on a pc. \n",
    "\n",
    "<iframe src=\"https://ntnu.cloud.panopto.eu/Panopto/Pages/Embed.aspx?id=174e51f1-71d4-4141-8d0d-af1600ddc9fd&autoplay=false&offerviewer=true&showtitle=true&showbrand=true&captions=false&interactivity=all\" height=\"405\" width=\"720\" style=\"border: 1px solid #464646;\" allowfullscreen allow=\"autoplay\"></iframe>"
   ]
  },
  {
   "cell_type": "markdown",
   "id": "10f0624f",
   "metadata": {},
   "source": [
    "\n",
    "# Working with ipython and a jupyter notebook\n"
   ]
  },
  {
   "cell_type": "markdown",
   "id": "cf214c48",
   "metadata": {},
   "source": [
    "You should now have a pretty blank looking screen in front of you, with a single box with *In* written on the left, something like this:"
   ]
  },
  {
   "cell_type": "code",
   "execution_count": null,
   "id": "c62ad580",
   "metadata": {},
   "outputs": [],
   "source": []
  },
  {
   "cell_type": "markdown",
   "id": "1bbf18a3",
   "metadata": {},
   "source": [
    "This is our computation/interpreter field. \"Behind\" this field is iPython, basically a version of the Python interpreter with some special tools especially designed for interactive work-flows.\n",
    "\n",
    "If we wanted, we could use it as a simple calculator. We could ask, for example ask what 5+5 is:"
   ]
  },
  {
   "cell_type": "code",
   "execution_count": 6,
   "id": "2e71e1c9",
   "metadata": {},
   "outputs": [
    {
     "data": {
      "text/plain": [
       "10"
      ]
     },
     "execution_count": 6,
     "metadata": {},
     "output_type": "execute_result"
    }
   ],
   "source": [
    "5+5"
   ]
  },
  {
   "cell_type": "markdown",
   "id": "017de8f1",
   "metadata": {},
   "source": [
    "Here we run the computation by pressing the *run* button, or pressing *shift + return*"
   ]
  },
  {
   "cell_type": "markdown",
   "id": "ed452c2f",
   "metadata": {},
   "source": [
    "We can also run other python commands:"
   ]
  },
  {
   "cell_type": "code",
   "execution_count": 7,
   "id": "cc7b894c",
   "metadata": {},
   "outputs": [
    {
     "name": "stdout",
     "output_type": "stream",
     "text": [
      "Hello World!\n"
     ]
    }
   ],
   "source": [
    "print(\"Hello World!\")"
   ]
  },
  {
   "cell_type": "markdown",
   "id": "2d08825b",
   "metadata": {},
   "source": [
    "Or create an object, update that value and print it:"
   ]
  },
  {
   "cell_type": "code",
   "execution_count": 9,
   "id": "aea9b414",
   "metadata": {},
   "outputs": [
    {
     "name": "stdout",
     "output_type": "stream",
     "text": [
      "26\n"
     ]
    }
   ],
   "source": [
    "myFavoriteNumber=21\n",
    "myFavoriteNumber+=5\n",
    "#same as myFavoriteNumber = myFavoriteNumber +5\n",
    "print(myFavoriteNumber)"
   ]
  },
  {
   "cell_type": "markdown",
   "id": "0c4feb14",
   "metadata": {},
   "source": [
    "(Notice the use of # to comment)\n",
    "\n",
    "Basically, most things you can do with Python, you can do in the iPython interpreter fields"
   ]
  },
  {
   "cell_type": "markdown",
   "id": "3edfc846",
   "metadata": {},
   "source": [
    "# Text, markdown and equations"
   ]
  },
  {
   "cell_type": "markdown",
   "id": "ec0fda4c",
   "metadata": {},
   "source": [
    "You can also easily create formatted text and equations instead of code. While in a field, you can do one of two things:\n",
    "\n",
    "1. go to the *Cell* menu -> *Cell type* -> *Markdown\n",
    "\n",
    "But this will get annoying after doing it a few times. \n",
    "\n",
    "Instead, learn the hotkey combo: *cntrl m* followed by a quick extra *m*\n",
    "\n",
    "Notice now that the *In [ ]* label on the field is gone. \n",
    "\n",
    "You are now ready to write text, and when you run the field, text will be printed, nicely formatted (next subsection)"
   ]
  },
  {
   "cell_type": "markdown",
   "id": "673424b1",
   "metadata": {},
   "source": [
    "## Markdown"
   ]
  },
  {
   "cell_type": "markdown",
   "id": "b6cb80f1",
   "metadata": {},
   "source": [
    "You can format your text using markdown notation. For example\n",
    "\n",
    "# # one hashtag followed by a space gives a large header\n",
    "\n",
    "## ## two hashtage followed by a space give a smaller header\n",
    "\n",
    "* wrapping text with a \"*\"  makes it *italics*\n",
    "\n",
    "* \"\\**\" Two stars makes **bold text**\n",
    "\n",
    "You can see more with the markdown cheatsheet: https://jupyterbook.org/reference/cheatsheet.html\n",
    "\n",
    "or here:\n",
    "\n",
    "https://www.markdownguide.org/basic-syntax"
   ]
  },
  {
   "cell_type": "markdown",
   "id": "603eae64",
   "metadata": {},
   "source": [
    "In the text fields you can also write latex-style equations by wrapping the equation in \\$\n",
    "\n",
    "so \n",
    "\n",
    "        $\\sum_0^N x_i$\n",
    "\n",
    "becomes\n",
    "\n",
    "$\\sum_0^N x_i$\n",
    "\n"
   ]
  },
  {
   "cell_type": "markdown",
   "id": "f2b75eb8",
   "metadata": {},
   "source": [
    "# Getting help"
   ]
  },
  {
   "cell_type": "markdown",
   "id": "0b49fc2c",
   "metadata": {},
   "source": [
    "You will experience - quite often - not knowing how to do something or running into some error. There are a few quick ways of getting help. \n",
    "\n",
    "One is accessing the built-in documentation with Python. We might wonder what the built-in command *max* does, for example. Then we can simply write:"
   ]
  },
  {
   "cell_type": "code",
   "execution_count": 9,
   "id": "591dba93",
   "metadata": {},
   "outputs": [],
   "source": [
    "?max"
   ]
  },
  {
   "cell_type": "markdown",
   "id": "ab43ad32",
   "metadata": {},
   "source": [
    "This should lead to some documentation to pop-up below in your browser:"
   ]
  },
  {
   "cell_type": "code",
   "execution_count": 11,
   "id": "a34e23c0",
   "metadata": {},
   "outputs": [
    {
     "data": {
      "text/plain": [
       "7"
      ]
     },
     "execution_count": 11,
     "metadata": {},
     "output_type": "execute_result"
    }
   ],
   "source": [
    "max(5,4,2,7)"
   ]
  },
  {
   "cell_type": "markdown",
   "id": "d95f542c",
   "metadata": {},
   "source": [
    "But sometimes you don't even know which command or set of commands you should use to do a certain task. This is something that happens constantly to even the most experienced programmer/analyst. \n",
    "\n",
    "The solution is often to get on the net and start googling. \n",
    "\n",
    "If you are using certain packages (like Pandas), you might also check their online documentation. [Here](https://pandas.pydata.org/docs/) is the pandas documentation for example."
   ]
  },
  {
   "cell_type": "markdown",
   "id": "c8256dc9",
   "metadata": {},
   "source": [
    "# Getting started with an analysis"
   ]
  },
  {
   "cell_type": "markdown",
   "id": "cda6ed1a",
   "metadata": {},
   "source": [
    "Now we should be ready to get started with an analysis. If you installed Anaconda, then the basic packages we need for data analysis should be ready to go. All we need to do is to load them into memory:"
   ]
  },
  {
   "cell_type": "code",
   "execution_count": 2,
   "id": "9c8cb5eb",
   "metadata": {},
   "outputs": [],
   "source": [
    "import pandas as pd\n",
    "import numpy as np\n",
    "import matplotlib.pyplot as plt"
   ]
  },
  {
   "cell_type": "markdown",
   "id": "6fcfb2fc",
   "metadata": {},
   "source": [
    "Now we have loaded in pandas, numby and and sub-package pyplot in matplotlib - you can think of matplotlib as the parent program giving the basic tools and techniques for all sorts of visualisation, where pyplot works on top of these tools to give an easier way of quickly creating charts.\n",
    "\n",
    "we use the *as* to give these packages short names: pd, np and plt. \n",
    "\n",
    "We can see what types of functions are available in each package by typing in the shortcut followed by a \".\" and then pressing *tab*. For example"
   ]
  },
  {
   "cell_type": "markdown",
   "id": "b5df6f5a",
   "metadata": {},
   "source": [
    "        pd. [+tab]"
   ]
  },
  {
   "cell_type": "markdown",
   "id": "440e5dad",
   "metadata": {},
   "source": [
    "We'll start by loading in a data set of carbon emissions by country directly from my website. You could also load data from your local drive, preferable in the same folder, then the command below can be used. We will discuss more about loading in data in the next lab. What we can notice now however is that we used a *Pandas* command (*pd.read_csv()*) to load in the data (which is in csv format). "
   ]
  },
  {
   "cell_type": "code",
   "execution_count": 3,
   "id": "8d20d0ba",
   "metadata": {},
   "outputs": [],
   "source": [
    "utslipp = pd.read_csv(\"https://jmaurit.github.io/anv_statistikk/data/carbonEmissions.csv\", sep=\";\", decimal=\",\")\n",
    "#utslipp = pd.read_csv(\"data/carbonEmissions.csv\", sep=\";\", decimal=\",\")\n",
    "\n",
    "\n"
   ]
  },
  {
   "cell_type": "markdown",
   "id": "1dc9b538",
   "metadata": {},
   "source": [
    "The data has been loaded in a pandas object called *utslipp*. Think of this as an excel sheet with data, as well as the ability to apply a range of functions. We can, for examaple, take a look at the first 5 entries:"
   ]
  },
  {
   "cell_type": "code",
   "execution_count": 4,
   "id": "5c4b3e4d",
   "metadata": {},
   "outputs": [
    {
     "data": {
      "text/html": [
       "<div>\n",
       "<style scoped>\n",
       "    .dataframe tbody tr th:only-of-type {\n",
       "        vertical-align: middle;\n",
       "    }\n",
       "\n",
       "    .dataframe tbody tr th {\n",
       "        vertical-align: top;\n",
       "    }\n",
       "\n",
       "    .dataframe thead th {\n",
       "        text-align: right;\n",
       "    }\n",
       "</style>\n",
       "<table border=\"1\" class=\"dataframe\">\n",
       "  <thead>\n",
       "    <tr style=\"text-align: right;\">\n",
       "      <th></th>\n",
       "      <th>year</th>\n",
       "      <th>Canada</th>\n",
       "      <th>Mexico</th>\n",
       "      <th>US</th>\n",
       "      <th>Total North America</th>\n",
       "      <th>Argentina</th>\n",
       "      <th>Brazil</th>\n",
       "      <th>Chile</th>\n",
       "      <th>Colombia</th>\n",
       "      <th>Ecuador</th>\n",
       "      <th>...</th>\n",
       "      <th>Sri Lanka</th>\n",
       "      <th>Taiwan</th>\n",
       "      <th>Thailand</th>\n",
       "      <th>Vietnam</th>\n",
       "      <th>Other Asia Pacific</th>\n",
       "      <th>Total Asia Pacific</th>\n",
       "      <th>Total World</th>\n",
       "      <th>OECD</th>\n",
       "      <th>Non-OECD</th>\n",
       "      <th>European Union</th>\n",
       "    </tr>\n",
       "  </thead>\n",
       "  <tbody>\n",
       "    <tr>\n",
       "      <th>0</th>\n",
       "      <td>1965</td>\n",
       "      <td>260.3</td>\n",
       "      <td>62.1</td>\n",
       "      <td>3480.1</td>\n",
       "      <td>3802.6</td>\n",
       "      <td>77.3</td>\n",
       "      <td>51.5</td>\n",
       "      <td>16.7</td>\n",
       "      <td>21.3</td>\n",
       "      <td>2.1</td>\n",
       "      <td>...</td>\n",
       "      <td>1.5</td>\n",
       "      <td>18.8</td>\n",
       "      <td>7.4</td>\n",
       "      <td>8.2</td>\n",
       "      <td>52.6</td>\n",
       "      <td>1425.2</td>\n",
       "      <td>11207.7</td>\n",
       "      <td>7703.2</td>\n",
       "      <td>3504.6</td>\n",
       "      <td>3304.5</td>\n",
       "    </tr>\n",
       "    <tr>\n",
       "      <th>1</th>\n",
       "      <td>1966</td>\n",
       "      <td>271.7</td>\n",
       "      <td>65.1</td>\n",
       "      <td>3675.5</td>\n",
       "      <td>4012.2</td>\n",
       "      <td>79.6</td>\n",
       "      <td>56.2</td>\n",
       "      <td>17.9</td>\n",
       "      <td>23.1</td>\n",
       "      <td>2.2</td>\n",
       "      <td>...</td>\n",
       "      <td>1.5</td>\n",
       "      <td>20.0</td>\n",
       "      <td>8.7</td>\n",
       "      <td>13.9</td>\n",
       "      <td>56.3</td>\n",
       "      <td>1548.3</td>\n",
       "      <td>11725.3</td>\n",
       "      <td>8015.8</td>\n",
       "      <td>3709.5</td>\n",
       "      <td>3344.1</td>\n",
       "    </tr>\n",
       "    <tr>\n",
       "      <th>2</th>\n",
       "      <td>1967</td>\n",
       "      <td>285.5</td>\n",
       "      <td>66.6</td>\n",
       "      <td>3772.6</td>\n",
       "      <td>4124.8</td>\n",
       "      <td>81.8</td>\n",
       "      <td>58.0</td>\n",
       "      <td>18.3</td>\n",
       "      <td>24.4</td>\n",
       "      <td>2.3</td>\n",
       "      <td>...</td>\n",
       "      <td>1.5</td>\n",
       "      <td>21.8</td>\n",
       "      <td>9.9</td>\n",
       "      <td>19.0</td>\n",
       "      <td>61.7</td>\n",
       "      <td>1614.7</td>\n",
       "      <td>12084.7</td>\n",
       "      <td>8281.0</td>\n",
       "      <td>3803.8</td>\n",
       "      <td>3412.1</td>\n",
       "    </tr>\n",
       "    <tr>\n",
       "      <th>3</th>\n",
       "      <td>1968</td>\n",
       "      <td>308.3</td>\n",
       "      <td>72.2</td>\n",
       "      <td>3994.2</td>\n",
       "      <td>4374.7</td>\n",
       "      <td>84.2</td>\n",
       "      <td>68.1</td>\n",
       "      <td>18.7</td>\n",
       "      <td>25.2</td>\n",
       "      <td>2.8</td>\n",
       "      <td>...</td>\n",
       "      <td>1.6</td>\n",
       "      <td>23.9</td>\n",
       "      <td>13.0</td>\n",
       "      <td>19.8</td>\n",
       "      <td>67.2</td>\n",
       "      <td>1720.4</td>\n",
       "      <td>12743.1</td>\n",
       "      <td>8804.5</td>\n",
       "      <td>3938.6</td>\n",
       "      <td>3613.6</td>\n",
       "    </tr>\n",
       "    <tr>\n",
       "      <th>4</th>\n",
       "      <td>1969</td>\n",
       "      <td>320.4</td>\n",
       "      <td>79.1</td>\n",
       "      <td>4170.1</td>\n",
       "      <td>4569.7</td>\n",
       "      <td>86.9</td>\n",
       "      <td>74.3</td>\n",
       "      <td>19.9</td>\n",
       "      <td>25.3</td>\n",
       "      <td>2.9</td>\n",
       "      <td>...</td>\n",
       "      <td>1.6</td>\n",
       "      <td>25.2</td>\n",
       "      <td>14.1</td>\n",
       "      <td>23.3</td>\n",
       "      <td>71.9</td>\n",
       "      <td>1956.9</td>\n",
       "      <td>13530.9</td>\n",
       "      <td>9334.1</td>\n",
       "      <td>4196.8</td>\n",
       "      <td>3855.7</td>\n",
       "    </tr>\n",
       "  </tbody>\n",
       "</table>\n",
       "<p>5 rows × 104 columns</p>\n",
       "</div>"
      ],
      "text/plain": [
       "   year  Canada  Mexico      US  Total North America  Argentina  Brazil  \\\n",
       "0  1965   260.3    62.1  3480.1               3802.6       77.3    51.5   \n",
       "1  1966   271.7    65.1  3675.5               4012.2       79.6    56.2   \n",
       "2  1967   285.5    66.6  3772.6               4124.8       81.8    58.0   \n",
       "3  1968   308.3    72.2  3994.2               4374.7       84.2    68.1   \n",
       "4  1969   320.4    79.1  4170.1               4569.7       86.9    74.3   \n",
       "\n",
       "   Chile  Colombia  Ecuador  ...  Sri Lanka  Taiwan  Thailand  Vietnam  \\\n",
       "0   16.7      21.3      2.1  ...        1.5    18.8       7.4      8.2   \n",
       "1   17.9      23.1      2.2  ...        1.5    20.0       8.7     13.9   \n",
       "2   18.3      24.4      2.3  ...        1.5    21.8       9.9     19.0   \n",
       "3   18.7      25.2      2.8  ...        1.6    23.9      13.0     19.8   \n",
       "4   19.9      25.3      2.9  ...        1.6    25.2      14.1     23.3   \n",
       "\n",
       "   Other Asia Pacific  Total Asia Pacific  Total World    OECD  Non-OECD  \\\n",
       "0                52.6              1425.2      11207.7  7703.2    3504.6   \n",
       "1                56.3              1548.3      11725.3  8015.8    3709.5   \n",
       "2                61.7              1614.7      12084.7  8281.0    3803.8   \n",
       "3                67.2              1720.4      12743.1  8804.5    3938.6   \n",
       "4                71.9              1956.9      13530.9  9334.1    4196.8   \n",
       "\n",
       "   European Union  \n",
       "0          3304.5  \n",
       "1          3344.1  \n",
       "2          3412.1  \n",
       "3          3613.6  \n",
       "4          3855.7  \n",
       "\n",
       "[5 rows x 104 columns]"
      ]
     },
     "execution_count": 4,
     "metadata": {},
     "output_type": "execute_result"
    }
   ],
   "source": [
    "utslipp.head()"
   ]
  },
  {
   "cell_type": "markdown",
   "id": "1c17f55d",
   "metadata": {},
   "source": [
    "You can igore the code below for the moment if you want - I am basically just formatting some of the settings for the plots. So If I want to make a series of charts with the same style, I only need to change the settings this one time in a series. The plotting will still work fine without doing anything here:"
   ]
  },
  {
   "cell_type": "code",
   "execution_count": 5,
   "id": "9e9bfc88",
   "metadata": {},
   "outputs": [],
   "source": [
    "from cycler import cycler\n",
    "\n",
    "plt.rcParams['xtick.labelsize'] = 12\n",
    "plt.rcParams['ytick.labelsize'] = 12\n",
    "plt.rcParams[\"axes.labelsize\"]= 12\n",
    "plt.rcParams[\"figure.facecolor\"] = \"#f2f2f2\"\n",
    "#plt.rcParams['figure.savefig.dpi'] = 100\n",
    "plt.rcParams['savefig.edgecolor'] = \"#f2f2f2\"\n",
    "plt.rcParams['savefig.facecolor'] =\"#f2f2f2\"\n",
    "plt.rcParams[\"figure.figsize\"] = [16,10]\n",
    "plt.rcParams['savefig.bbox'] = \"tight\"\n",
    "plt.rcParams['font.size'] = 14\n",
    "greens = ['#66c2a4','#41ae76','#238b45','#006d2c','#00441b']\n",
    "multi =['#66c2a4','#1f78b4','#a6cee3','#b2df8a','#33a02c','#fb9a99','#e31a1c','#fdbf6f']\n",
    "plt.rcParams[\"axes.prop_cycle\"] = cycler(color=multi)\n",
    "\n"
   ]
  },
  {
   "cell_type": "markdown",
   "id": "19162dfa",
   "metadata": {},
   "source": [
    "Now we can plot CO2 emissions in Sweden Denmark and Norway since 1960:"
   ]
  },
  {
   "cell_type": "code",
   "execution_count": 14,
   "id": "15e0d4d5",
   "metadata": {},
   "outputs": [
    {
     "data": {
      "image/png": "[encoded data removed]",
      "text/plain": [
       "<Figure size 1152x720 with 1 Axes>"
      ]
     },
     "metadata": {},
     "output_type": "display_data"
    }
   ],
   "source": [
    "fig, ax = plt.subplots()\n",
    "ax.plot(utslipp[\"year\"], utslipp[\"Norway\"])\n",
    "ax.plot(utslipp[\"year\"], utslipp[\"Sweden\"])\n",
    "ax.plot(utslipp[\"year\"], utslipp[\"Denmark\"])\n",
    "plt.show()"
   ]
  },
  {
   "cell_type": "markdown",
   "id": "66ef3005",
   "metadata": {},
   "source": [
    "It would be good to get some labels on this chart - both for the individual series labels, and for the y-axis"
   ]
  },
  {
   "cell_type": "code",
   "execution_count": 15,
   "id": "4184379a",
   "metadata": {},
   "outputs": [
    {
     "data": {
      "image/png": "[encoded data removed]",
      "text/plain": [
       "<Figure size 1152x720 with 1 Axes>"
      ]
     },
     "metadata": {},
     "output_type": "display_data"
    }
   ],
   "source": [
    "fig, ax = plt.subplots()\n",
    "ax.plot(utslipp[\"year\"], utslipp[\"Norway\"])\n",
    "ax.annotate(\"Norway\", xy=(2000, 30))\n",
    "ax.plot(utslipp[\"year\"], utslipp[\"Sweden\"])\n",
    "ax.annotate(\"Sweden\", xy=(1975, 80))\n",
    "ax.plot(utslipp[\"year\"], utslipp[\"Denmark\"])\n",
    "ax.annotate(\"Denmark\", xy=(1975, 50))\n",
    "#ax.plot(utslipp[\"year\"], utslipp[\"European Union\"])\n",
    "#ax.annotate(\"Air and sea traffic, fishing\", xy=(2010, 6000))\n",
    "ax.set_ylabel(\"Greenhouse gas emissions, millions tonn C02 equivalent\")\n",
    "plt.show()"
   ]
  },
  {
   "cell_type": "markdown",
   "id": "4ccea260",
   "metadata": {},
   "source": [
    "This is a fairly basic time-series chart, but it actually gives us a lot of information. We will talk more about visualisation later, but an important principle is that an important point of visualisation is to make comparisons. Here we get a very stark comparison between emissions in Norway, on the one hand, and Denmark and Sweden on the other in this 50 year period. \n",
    "\n",
    "- Why do you think they have such diverging emissions trends? \n",
    "\n",
    "- Why did Norway have such low emissions compared to Denmark and Sweden in the 1960s?\n",
    "\n",
    "- What has Denmark done since 2000 that has led to such a large fall in emissions?\n",
    "\n",
    "- Are there ways that this visualisation is *lying* or perhaps misrepresenting reality? Are there transformations we could do to make the visualisation more honest?"
   ]
  },
  {
   "cell_type": "markdown",
   "id": "124d4a1b",
   "metadata": {},
   "source": [
    "### The next step\n",
    "\n",
    "Hopefully, after working through this pre-lab, you have been able to download and install the anaconda package and gain some initial experience working with a Jupyter Notebook. Now it is time to go on to [Lab 1](https://nbviewer.org/url/jmaurit.github.io/anv_statistikk/lab1.ipynb) where we start looking at the basics of using Python to import, clean and manipulate data"
   ]
  },
  {
   "cell_type": "code",
   "execution_count": null,
   "id": "cb6e1367",
   "metadata": {},
   "outputs": [],
   "source": []
  }
 ],
 "metadata": {
  "kernelspec": {
   "display_name": "Python 3 (ipykernel)",
   "language": "python",
   "name": "python3"
  },
  "language_info": {
   "codemirror_mode": {
    "name": "ipython",
    "version": 3
   },
   "file_extension": ".py",
   "mimetype": "text/x-python",
   "name": "python",
   "nbconvert_exporter": "python",
   "pygments_lexer": "ipython3",
   "version": "3.9.7"
  }
 },
 "nbformat": 4,
 "nbformat_minor": 5
}
