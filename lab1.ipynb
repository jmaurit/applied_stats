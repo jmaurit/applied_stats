{
 "cells": [
  {
   "cell_type": "markdown",
   "id": "5bd1b333",
   "metadata": {},
   "source": [
    "# Lab 1: Working with data: data types, basic cleaning, transformation, visualisation\n",
    "\n",
    "## Johannes Mauritzen\n",
    "## MET2010 Applied Statistics\n",
    "## NTNU Business School\n"
   ]
  },
  {
   "cell_type": "markdown",
   "id": "1020837f",
   "metadata": {},
   "source": [
    " ## Learning goals\n",
    "    \n",
    "- Understanding what lists and arrays are in Python and how to manipulate them\n",
    "- Using np.array\n",
    "- Transformation of arrays and np.arrays\n",
    "- Computing summary statistics on np.arrays\n",
    "\n",
    "\n",
    "## Literature\n",
    "\n",
    "- PDS [Ch 2](https://jakevdp.github.io/PythonDataScienceHandbook/02.00-introduction-to-numpy.html). We won't cover everything in this chapter, so feel free to skim. I will also refer to specific sub-chapters in the lab-text."
   ]
  },
  {
   "cell_type": "markdown",
   "id": "f1696e9f",
   "metadata": {},
   "source": [
    "### Loading in packages"
   ]
  },
  {
   "cell_type": "markdown",
   "id": "162f0213",
   "metadata": {},
   "source": [
    "We start this analysis like we start almost every analysis: by loading in the packages we want to use and giving them short-names. Here we load in both numpy (as np), which gives us some basic data-types to use. We also will import matplotlib for plotting tools. "
   ]
  },
  {
   "cell_type": "code",
   "execution_count": 8,
   "id": "57656a5c",
   "metadata": {},
   "outputs": [],
   "source": [
    "import numpy as np\n",
    "import matplotlib.pyplot as plt"
   ]
  },
  {
   "cell_type": "markdown",
   "id": "69440231",
   "metadata": {},
   "source": [
    "# Lists and Numpy Arrays\n",
    "## An application to electricity prices"
   ]
  },
  {
   "cell_type": "markdown",
   "id": "6427f370",
   "metadata": {},
   "source": [
    "## Lists"
   ]
  },
  {
   "cell_type": "markdown",
   "id": "cab9ab34",
   "metadata": {},
   "source": [
    "<iframe src=\"https://ntnu.cloud.panopto.eu/Panopto/Pages/Embed.aspx?id=1a48b810-fab7-4125-bd94-aee6008a1561&autoplay=false&offerviewer=true&showtitle=true&showbrand=true&captions=false&interactivity=all\" height=\"405\" width=\"720\" style=\"border: 1px solid #464646;\" allowfullscreen allow=\"autoplay\"></iframe>"
   ]
  },
  {
   "cell_type": "markdown",
   "id": "eacb36a4",
   "metadata": {},
   "source": [
    "Data, in the broadest sense, is just a collection of information objects. Often times it is numbers, like stock prices, but not always. You can have categories, names, or written text. \n",
    "\n",
    "The standard Python object for storing multiple data points is a list. Lists are super easy, just a collection of entries put between square brackets [ ]:\n",
    "\n",
    "Below we will make two lists. The first consists of electricity price areas that trade on the Nord Pool electricity markets (this includes all of the Nordic countries except Iceland. So for example SE1 is the southernmost part of Sweden, where Malmö is the largest city. The Norwegian price areas (6) are described by each area's biggest city.\n",
    "\n",
    "Then I create a list of integers from 1 to 17 indicating the first 17 days of 2022"
   ]
  },
  {
   "cell_type": "code",
   "execution_count": 9,
   "id": "06ac3f5e",
   "metadata": {},
   "outputs": [
    {
     "name": "stdout",
     "output_type": "stream",
     "text": [
      "['SYS', 'SE1', 'SE2', 'SE3', 'SE4', 'FI', 'DK1', 'DK2', 'Oslo', ' Kr.sand', 'Bergen', 'Molde', 'Tr.heim', 'Tromsø', 'EE', 'LV', 'LT', 'AT', 'BE', 'DE-LU', 'FR', 'NL'] [1, 2, 3, 4, 5, 6, 7, 8, 9, 10, 11, 12, 13, 14, 15, 16, 17]\n"
     ]
    }
   ],
   "source": [
    "areas = [\"SYS\", \"SE1\", \"SE2\", \"SE3\", \"SE4\", \"FI\", \"DK1\", \"DK2\", \"Oslo\",\" Kr.sand\", \"Bergen\", \"Molde\", \"Tr.heim\", \"Tromsø\", \"EE\", \"LV\", \"LT\", \"AT\", \"BE\", \"DE-LU\", \"FR\", \"NL\"]\n",
    "\n",
    "#first 17 days in january\n",
    "dates = [i for i in range(1,18)]\n",
    "\n",
    "print(areas, dates)"
   ]
  },
  {
   "cell_type": "markdown",
   "id": "bcdd7296",
   "metadata": {},
   "source": [
    "Now that we have these data in lists we can do all sorts of fun programming things with them - often involving iterating through them with a for loop:"
   ]
  },
  {
   "cell_type": "code",
   "execution_count": 10,
   "id": "09e19613",
   "metadata": {},
   "outputs": [
    {
     "name": "stdout",
     "output_type": "stream",
     "text": [
      "My favorite price area is SYS\n",
      "My favorite price area is SE1\n",
      "My favorite price area is SE2\n",
      "My favorite price area is SE3\n",
      "My favorite price area is SE4\n",
      "My favorite price area is FI\n",
      "My favorite price area is DK1\n",
      "My favorite price area is DK2\n",
      "My favorite price area is Oslo\n",
      "My favorite price area is  Kr.sand\n",
      "My favorite price area is Bergen\n",
      "My favorite price area is Molde\n",
      "My favorite price area is Tr.heim\n",
      "My favorite price area is Tromsø\n",
      "My favorite price area is EE\n",
      "My favorite price area is LV\n",
      "My favorite price area is LT\n",
      "My favorite price area is AT\n",
      "My favorite price area is BE\n",
      "My favorite price area is DE-LU\n",
      "My favorite price area is FR\n",
      "My favorite price area is NL\n"
     ]
    }
   ],
   "source": [
    "for area in areas:\n",
    "    print(\"My favorite price area is\", area)"
   ]
  },
  {
   "cell_type": "markdown",
   "id": "0172fc17",
   "metadata": {},
   "source": [
    "We can use indexing to pull out a single entry from our list (remember that Python indexing always starts with 0 - confusingly R indexing starts with 1). "
   ]
  },
  {
   "cell_type": "code",
   "execution_count": 11,
   "id": "7e4dffa9",
   "metadata": {},
   "outputs": [
    {
     "data": {
      "text/plain": [
       "'SE2'"
      ]
     },
     "execution_count": 11,
     "metadata": {},
     "output_type": "execute_result"
    }
   ],
   "source": [
    "areas[2]"
   ]
  },
  {
   "cell_type": "markdown",
   "id": "c0c2f354",
   "metadata": {},
   "source": [
    "Lists can include any data types as well as any combination of types:\n"
   ]
  },
  {
   "cell_type": "code",
   "execution_count": 12,
   "id": "024939d7",
   "metadata": {},
   "outputs": [],
   "source": [
    "mixList = [1, \"Cats\", 3.14, \"Dogs\"]"
   ]
  },
  {
   "cell_type": "markdown",
   "id": "381967db",
   "metadata": {},
   "source": [
    "You can also have lists of objects or functions"
   ]
  },
  {
   "cell_type": "code",
   "execution_count": 13,
   "id": "d31b5c94",
   "metadata": {},
   "outputs": [],
   "source": [
    "def convert_to_dog_years(human_years):\n",
    "    return(human_years/7)\n",
    "    \n",
    "def convert_to_cat_years(human_years):\n",
    "    return(human_years/6)\n",
    "\n",
    "funcList = [convert_to_dog_years, convert_to_cat_years]"
   ]
  },
  {
   "cell_type": "markdown",
   "id": "6bb9257e",
   "metadata": {},
   "source": [
    "So then I can use a for-loop to loop through the functions and apply each in turn:"
   ]
  },
  {
   "cell_type": "code",
   "execution_count": 14,
   "id": "6662d752",
   "metadata": {},
   "outputs": [
    {
     "name": "stdout",
     "output_type": "stream",
     "text": [
      "5.714285714285714\n",
      "6.666666666666667\n"
     ]
    }
   ],
   "source": [
    "for func in funcList:\n",
    "    print(func(40))"
   ]
  },
  {
   "cell_type": "markdown",
   "id": "12b766a3",
   "metadata": {},
   "source": [
    "## np.array"
   ]
  },
  {
   "cell_type": "markdown",
   "id": "f51a119c",
   "metadata": {},
   "source": [
    "<iframe src=\"https://ntnu.cloud.panopto.eu/Panopto/Pages/Embed.aspx?id=ec084ec9-df99-454a-959e-aee6008a1569&autoplay=false&offerviewer=true&showtitle=true&showbrand=true&captions=false&interactivity=all\" height=\"405\" width=\"720\" style=\"border: 1px solid #464646;\" allowfullscreen allow=\"autoplay\"></iframe>"
   ]
  },
  {
   "cell_type": "markdown",
   "id": "34d4039d",
   "metadata": {},
   "source": [
    "The flexibility of lists is nice as a programming tool, but it becomes inefficient when trying to work with data. This is where Numpy array comes in. In a numpy array you are limited to one type of data in a given array: integers, real/floats, characters, etc. "
   ]
  },
  {
   "cell_type": "code",
   "execution_count": 15,
   "id": "2bcf9360",
   "metadata": {},
   "outputs": [
    {
     "data": {
      "text/plain": [
       "array([1, 2, 5])"
      ]
     },
     "execution_count": 15,
     "metadata": {},
     "output_type": "execute_result"
    }
   ],
   "source": [
    "np.array([1,2,5])"
   ]
  },
  {
   "cell_type": "markdown",
   "id": "de2eeac6",
   "metadata": {},
   "source": [
    "Numpy includes special functions to create arrays form scratch. For example to create an array of 10 0's you would simply write:"
   ]
  },
  {
   "cell_type": "code",
   "execution_count": 16,
   "id": "8ee495a1",
   "metadata": {},
   "outputs": [
    {
     "data": {
      "text/plain": [
       "array([0., 0., 0., 0., 0., 0., 0., 0., 0., 0.])"
      ]
     },
     "execution_count": 16,
     "metadata": {},
     "output_type": "execute_result"
    }
   ],
   "source": [
    "np.zeros(10)"
   ]
  },
  {
   "cell_type": "markdown",
   "id": "f13407ed",
   "metadata": {},
   "source": [
    "Two such function we will make use of often in this course when we generate fake data is np.linspace and np.random."
   ]
  },
  {
   "cell_type": "code",
   "execution_count": 17,
   "id": "ae688331",
   "metadata": {},
   "outputs": [
    {
     "data": {
      "text/plain": [
       "array([ 0.        ,  0.1010101 ,  0.2020202 ,  0.3030303 ,  0.4040404 ,\n",
       "        0.50505051,  0.60606061,  0.70707071,  0.80808081,  0.90909091,\n",
       "        1.01010101,  1.11111111,  1.21212121,  1.31313131,  1.41414141,\n",
       "        1.51515152,  1.61616162,  1.71717172,  1.81818182,  1.91919192,\n",
       "        2.02020202,  2.12121212,  2.22222222,  2.32323232,  2.42424242,\n",
       "        2.52525253,  2.62626263,  2.72727273,  2.82828283,  2.92929293,\n",
       "        3.03030303,  3.13131313,  3.23232323,  3.33333333,  3.43434343,\n",
       "        3.53535354,  3.63636364,  3.73737374,  3.83838384,  3.93939394,\n",
       "        4.04040404,  4.14141414,  4.24242424,  4.34343434,  4.44444444,\n",
       "        4.54545455,  4.64646465,  4.74747475,  4.84848485,  4.94949495,\n",
       "        5.05050505,  5.15151515,  5.25252525,  5.35353535,  5.45454545,\n",
       "        5.55555556,  5.65656566,  5.75757576,  5.85858586,  5.95959596,\n",
       "        6.06060606,  6.16161616,  6.26262626,  6.36363636,  6.46464646,\n",
       "        6.56565657,  6.66666667,  6.76767677,  6.86868687,  6.96969697,\n",
       "        7.07070707,  7.17171717,  7.27272727,  7.37373737,  7.47474747,\n",
       "        7.57575758,  7.67676768,  7.77777778,  7.87878788,  7.97979798,\n",
       "        8.08080808,  8.18181818,  8.28282828,  8.38383838,  8.48484848,\n",
       "        8.58585859,  8.68686869,  8.78787879,  8.88888889,  8.98989899,\n",
       "        9.09090909,  9.19191919,  9.29292929,  9.39393939,  9.49494949,\n",
       "        9.5959596 ,  9.6969697 ,  9.7979798 ,  9.8989899 , 10.        ])"
      ]
     },
     "execution_count": 17,
     "metadata": {},
     "output_type": "execute_result"
    }
   ],
   "source": [
    "np.linspace(0,10,100)"
   ]
  },
  {
   "cell_type": "markdown",
   "id": "a70e1f77",
   "metadata": {},
   "source": [
    "Here we have created an array with 100 entries evently spaced between 1 and 10. "
   ]
  },
  {
   "cell_type": "code",
   "execution_count": 18,
   "id": "10d724e8",
   "metadata": {
    "scrolled": true
   },
   "outputs": [
    {
     "data": {
      "text/plain": [
       "array([ 0.99772393,  0.17640097,  0.12364133,  2.22345518,  1.7907989 ,\n",
       "       -0.54806379,  0.50471446, -0.70669146, -1.0841188 ,  1.14322707,\n",
       "        1.14123012,  1.74355857, -0.72403392,  0.27047404,  0.9521103 ,\n",
       "        0.76770356,  0.7455969 ,  2.19801382, -0.21605045,  0.65295753,\n",
       "        0.26187283, -0.04123645,  0.33656497, -1.41821075, -0.27690134,\n",
       "       -1.65099536,  0.86229989, -0.72311669,  0.74944833,  0.63809347,\n",
       "        0.19483394, -1.40103513, -0.57597816, -1.0796097 ,  0.11527556,\n",
       "       -0.91659842,  0.46852832, -0.6829337 ,  0.67117747,  0.97126044,\n",
       "       -1.3992066 ,  1.09107657,  0.96033016,  0.12983551, -0.5481401 ,\n",
       "        0.02921879,  0.1062123 , -1.27391355, -1.32854153,  0.17130599,\n",
       "        0.81241773, -0.19007272,  0.36886134,  0.05178377, -0.68069687,\n",
       "       -0.44494773,  1.23065999, -0.03603137, -1.57658505, -1.12922529,\n",
       "       -1.44639829,  0.42183664, -0.34209131,  0.58821785, -0.50139455,\n",
       "        0.44841606, -0.61094898,  2.33795487, -0.44888541,  0.34212262,\n",
       "        1.40186404, -0.42314454,  0.21933196,  1.50457894,  0.34787757,\n",
       "       -0.62756108, -0.65451253, -2.07938722,  0.45584025,  0.20218464,\n",
       "       -0.30637383, -0.58531771, -0.27708179,  0.79121626,  1.03707483,\n",
       "       -0.71618425, -0.02663141, -0.44395644,  1.32587558,  0.50090792,\n",
       "        0.55755135, -0.24296504,  0.20228946,  1.00215983,  1.08556407,\n",
       "        0.20250976, -0.25972764, -1.08240075, -1.83100816,  0.64180349])"
      ]
     },
     "execution_count": 18,
     "metadata": {},
     "output_type": "execute_result"
    }
   ],
   "source": [
    "np.random.normal(0,1,100)"
   ]
  },
  {
   "cell_type": "markdown",
   "id": "a18a5689",
   "metadata": {},
   "source": [
    "This generated an array with 100 random numbers drawn from a normal distribution"
   ]
  },
  {
   "cell_type": "markdown",
   "id": "75696c54",
   "metadata": {},
   "source": [
    "For more examples of NP functions used to create arrays see [PDS](https://jakevdp.github.io/PythonDataScienceHandbook/02.01-understanding-data-types.html)"
   ]
  },
  {
   "cell_type": "markdown",
   "id": "dd24224c",
   "metadata": {},
   "source": [
    "Going back to our electricity price example, we can easily convert our areas and dates lists to np.arrays"
   ]
  },
  {
   "cell_type": "code",
   "execution_count": 19,
   "id": "92c6d182",
   "metadata": {},
   "outputs": [
    {
     "name": "stdout",
     "output_type": "stream",
     "text": [
      "['SYS' 'SE1' 'SE2' 'SE3' 'SE4' 'FI' 'DK1' 'DK2' 'Oslo' ' Kr.sand' 'Bergen'\n",
      " 'Molde' 'Tr.heim' 'Tromsø' 'EE' 'LV' 'LT' 'AT' 'BE' 'DE-LU' 'FR' 'NL'] [ 1  2  3  4  5  6  7  8  9 10 11 12 13 14 15 16 17]\n"
     ]
    }
   ],
   "source": [
    "areas = np.array(areas)\n",
    "dates = np.array(dates)\n",
    "print(areas, dates)"
   ]
  },
  {
   "cell_type": "markdown",
   "id": "a42fdd5b",
   "metadata": {},
   "source": [
    "NP arrays can often be in multiple dimensions. We are maybe most familiar with a 2-dimensional array (like an excel sheet), that holds columns and rows of data. \n",
    "\n",
    "Here we are going to import data on electricity prices from a text file (comma-seperated file) into a NP array"
   ]
  },
  {
   "cell_type": "code",
   "execution_count": 20,
   "id": "831d6084",
   "metadata": {},
   "outputs": [
    {
     "data": {
      "text/plain": [
       "array([[ 762.,  465.,  465.,  821.,  821.,  819.,  823.,  821., 1270.,\n",
       "        1270., 1270.,  418.,  418.,  418.,  824.,  824.,  824.],\n",
       "       [ 575.,  438.,  438.,  533.,  533.,  573.,  557.,  533., 1143.,\n",
       "        1143., 1143.,  341.,  341.,  341.,  577.,  577.,  577.],\n",
       "       [ 811.,  394.,  394.,  735.,  735.,  804.,  782.,  718., 1292.,\n",
       "        1292., 1292.,  355.,  355.,  355.,  918.,  918.,  918.],\n",
       "       [1161.,  450.,  450., 1243., 1331., 1243., 1411., 1331., 1474.,\n",
       "        1474., 1474.,  441.,  441.,  441., 1457., 1457., 1464.],\n",
       "       [1192.,  516.,  516., 1087., 1087., 1218., 1088., 1087., 1336.,\n",
       "        1336., 1336.,  516.,  516.,  512., 1228., 1228., 1228.],\n",
       "       [1443.,  527.,  527., 1701., 1709., 1696., 1879., 1801., 1859.,\n",
       "        1859., 1559.,  527.,  527.,  510., 1711., 1711., 1724.],\n",
       "       [1424.,  528.,  528., 1585., 1585., 1672., 1585., 1585., 1594.,\n",
       "        1594., 1513.,  503.,  503.,  503., 1672., 1672., 1672.],\n",
       "       [1369.,  500.,  500., 1462., 1462., 1604., 1461., 1462., 1458.,\n",
       "        1458., 1458.,  455.,  455.,  453., 1604., 1604., 1604.],\n",
       "       [1237.,  541.,  541., 1317., 1317., 1460., 1317., 1317., 1427.,\n",
       "        1427., 1427.,  427.,  427.,  427., 1460., 1460., 1460.],\n",
       "       [1704.,  507.,  507., 2471., 2471., 2491., 2449., 2471., 1940.,\n",
       "        1940., 1639.,  479.,  479.,  479., 2491., 2491., 2491.],\n",
       "       [1337.,  354.,  354., 1629., 2245., 1629., 1561., 2245., 1515.,\n",
       "        1515., 1514.,  304.,  304.,  278., 1948., 2113., 2450.],\n",
       "       [ 967.,  215.,  215.,  864., 1512.,  800., 1296., 1512., 1386.,\n",
       "        1386., 1386.,  202.,  202.,  202., 1819., 1921., 2097.],\n",
       "       [ 337.,  176.,  176.,  184.,  184.,  186.,  184.,  184., 1264.,\n",
       "        1264., 1264.,  176.,  176.,  176., 1525., 1525., 1525.],\n",
       "       [ 596.,  181.,  181.,  549.,  549.,  601.,  874.,  752., 1289.,\n",
       "        1289., 1289.,  181.,  181.,  181.,  991.,  991.,  991.],\n",
       "       [1128.,  193.,  193., 1246., 1261.,  933., 1694., 1694., 1551.,\n",
       "        1551., 1467.,  193.,  193.,  193., 1445., 1445., 1445.],\n",
       "       [ 288.,  174.,  174.,  184.,  184.,  184.,  953.,  409., 1277.,\n",
       "        1277., 1277.,  174.,  174.,  174., 1047., 1047., 1047.],\n",
       "       [ 716.,  172.,  172.,  810.,  810.,  801.,  833.,  810., 1323.,\n",
       "        1323., 1323.,  172.,  172.,  172., 1047., 1047., 1047.],\n",
       "       [1170.,  178.,  178., 1446., 1481., 1446., 1619., 1518., 1609.,\n",
       "        1609., 1490.,  178.,  178.,  178., 1686., 1740., 1740.],\n",
       "       [ 458.,  152.,  152.,  338.,  338.,  625.,  524.,  338., 1353.,\n",
       "        1353., 1353.,  152.,  152.,  152., 1509., 1509., 1509.]])"
      ]
     },
     "execution_count": 20,
     "metadata": {},
     "output_type": "execute_result"
    }
   ],
   "source": [
    "elprices = np.genfromtxt('https://jmaurit.github.io/anv_statistikk/data/elspot_prices.csv', delimiter=';')\n",
    "elprices"
   ]
  },
  {
   "cell_type": "markdown",
   "id": "b7f01548",
   "metadata": {},
   "source": [
    "In this data, each row is the daily price series for a given area that trades on the Nord Pool market. The columns represent the days"
   ]
  },
  {
   "cell_type": "markdown",
   "id": "2f7c64d8",
   "metadata": {},
   "source": [
    "If we want to access a specific value, then we can use the index in the form of \n",
    "\n",
    "        myArray[row, column]"
   ]
  },
  {
   "cell_type": "code",
   "execution_count": 21,
   "id": "f7a12023",
   "metadata": {},
   "outputs": [
    {
     "data": {
      "text/plain": [
       "1331.0"
      ]
     },
     "execution_count": 21,
     "metadata": {},
     "output_type": "execute_result"
    }
   ],
   "source": [
    "elprices[3,4]"
   ]
  },
  {
   "cell_type": "markdown",
   "id": "97cf2010",
   "metadata": {},
   "source": [
    "1331 is the value on the 4th row and 5th column (remember, indexing starts at 0!)"
   ]
  },
  {
   "cell_type": "markdown",
   "id": "560203d4",
   "metadata": {},
   "source": [
    "If we want the whole 4th row, we can write:"
   ]
  },
  {
   "cell_type": "code",
   "execution_count": 22,
   "id": "2795be42",
   "metadata": {},
   "outputs": [
    {
     "data": {
      "text/plain": [
       "array([1161.,  450.,  450., 1243., 1331., 1243., 1411., 1331., 1474.,\n",
       "       1474., 1474.,  441.,  441.,  441., 1457., 1457., 1464.])"
      ]
     },
     "execution_count": 22,
     "metadata": {},
     "output_type": "execute_result"
    }
   ],
   "source": [
    "elprices[3,:]"
   ]
  },
  {
   "cell_type": "markdown",
   "id": "676c8b85",
   "metadata": {},
   "source": [
    "Or the 4th row between columns 5 and 8"
   ]
  },
  {
   "cell_type": "code",
   "execution_count": 23,
   "id": "e39f6bda",
   "metadata": {},
   "outputs": [
    {
     "data": {
      "text/plain": [
       "array([1243., 1411., 1331., 1474.])"
      ]
     },
     "execution_count": 23,
     "metadata": {},
     "output_type": "execute_result"
    }
   ],
   "source": [
    "elprices[3,5:9]"
   ]
  },
  {
   "cell_type": "markdown",
   "id": "c23a23d1",
   "metadata": {},
   "source": [
    "Notice the convention for slicing 5:9 - the 5th element is included, but the slice goes upto but does not include the 9th element. That will say we get elements 5,6,7 and 8 by slicing 5:9"
   ]
  },
  {
   "cell_type": "markdown",
   "id": "86cd89f0",
   "metadata": {},
   "source": [
    "So lets say I want to see the series for prices in Trondheim. Then I can make use of the array we created earlier over all the price areas which we called *areas*, and then I use the *np.where* command:"
   ]
  },
  {
   "cell_type": "code",
   "execution_count": 24,
   "id": "e1ca409b",
   "metadata": {},
   "outputs": [
    {
     "data": {
      "text/plain": [
       "(array([12]),)"
      ]
     },
     "execution_count": 24,
     "metadata": {},
     "output_type": "execute_result"
    }
   ],
   "source": [
    "np.where(areas=='Tr.heim')"
   ]
  },
  {
   "cell_type": "markdown",
   "id": "d1f31f19",
   "metadata": {},
   "source": [
    "np.where tells us which index is associated with the 'Tr.heim' entry. Our price series for the Trondheim area is then:\n",
    "\n"
   ]
  },
  {
   "cell_type": "code",
   "execution_count": 25,
   "id": "8eb63ae7",
   "metadata": {},
   "outputs": [
    {
     "data": {
      "text/plain": [
       "array([ 337.,  176.,  176.,  184.,  184.,  186.,  184.,  184., 1264.,\n",
       "       1264., 1264.,  176.,  176.,  176., 1525., 1525., 1525.])"
      ]
     },
     "execution_count": 25,
     "metadata": {},
     "output_type": "execute_result"
    }
   ],
   "source": [
    "elprices[12,:]"
   ]
  },
  {
   "cell_type": "markdown",
   "id": "f3225431",
   "metadata": {},
   "source": [
    "We could do this in one line: "
   ]
  },
  {
   "cell_type": "code",
   "execution_count": 26,
   "id": "8dc6f4dc",
   "metadata": {},
   "outputs": [
    {
     "data": {
      "text/plain": [
       "array([[[ 337.,  176.,  176.,  184.,  184.,  186.,  184.,  184., 1264.,\n",
       "         1264., 1264.,  176.,  176.,  176., 1525., 1525., 1525.]]])"
      ]
     },
     "execution_count": 26,
     "metadata": {},
     "output_type": "execute_result"
    }
   ],
   "source": [
    "elprices[np.where(areas=='Tr.heim'),:]"
   ]
  },
  {
   "cell_type": "markdown",
   "id": "145eec61",
   "metadata": {},
   "source": [
    "We could compare this to our Oslo data"
   ]
  },
  {
   "cell_type": "code",
   "execution_count": 27,
   "id": "38643389",
   "metadata": {},
   "outputs": [
    {
     "data": {
      "text/plain": [
       "array([[[1237.,  541.,  541., 1317., 1317., 1460., 1317., 1317., 1427.,\n",
       "         1427., 1427.,  427.,  427.,  427., 1460., 1460., 1460.]]])"
      ]
     },
     "execution_count": 27,
     "metadata": {},
     "output_type": "execute_result"
    }
   ],
   "source": [
    "elprices[np.where(areas=='Oslo'),:]"
   ]
  },
  {
   "cell_type": "markdown",
   "id": "3e7b29aa",
   "metadata": {},
   "source": [
    "We can see that prices have been quite a bit lower in Trondheim compared to Oslo in the first days of 2022, but it would help to get a chart. More on charting in a later lab, but here is a quick and dirty chart we will make now:"
   ]
  },
  {
   "cell_type": "code",
   "execution_count": 28,
   "id": "5b013d0d",
   "metadata": {},
   "outputs": [
    {
     "data": {
      "text/plain": [
       "[<matplotlib.lines.Line2D at 0x7fe8680ed940>,\n",
       " <matplotlib.lines.Line2D at 0x7fe8787b48e0>]"
      ]
     },
     "execution_count": 28,
     "metadata": {},
     "output_type": "execute_result"
    },
    {
     "data": {
      "image/png": "[encoded data removed]",
      "text/plain": [
       "<Figure size 432x288 with 1 Axes>"
      ]
     },
     "metadata": {
      "needs_background": "light"
     },
     "output_type": "display_data"
    }
   ],
   "source": [
    "plt.plot(dates, elprices[8, :], \"r\", elprices[12, :], \"b\")\n"
   ]
  },
  {
   "cell_type": "markdown",
   "id": "c35ba958",
   "metadata": {},
   "source": [
    "Prices were much higher in Oslo over the first days in the year, but converged towards the middle of the month. (We will learn how to make much prettier charts in the next couple of labs). "
   ]
  },
  {
   "cell_type": "markdown",
   "id": "58e15d8f",
   "metadata": {},
   "source": [
    "# Transformation and computation on arrays"
   ]
  },
  {
   "cell_type": "markdown",
   "id": "f26f4d18",
   "metadata": {},
   "source": [
    "<iframe src=\"https://ntnu.cloud.panopto.eu/Panopto/Pages/Embed.aspx?id=dc27c805-cd8f-4de8-93fc-aee6008a1573&autoplay=false&offerviewer=true&showtitle=true&showbrand=true&captions=false&interactivity=all\" height=\"405\" width=\"720\" style=\"border: 1px solid #464646;\" allowfullscreen allow=\"autoplay\"></iframe>"
   ]
  },
  {
   "cell_type": "markdown",
   "id": "df5a32f0",
   "metadata": {},
   "source": [
    "NP arrays make it easy to do computations on the arrays. \n",
    "\n",
    "Doing computation and transformation on an entire array, rather than, for example, on individual elements in a for-loop, also speeds up computation significantly.\n",
    "\n",
    "This form of doing computation on arrays is called vectorization"
   ]
  },
  {
   "cell_type": "markdown",
   "id": "f5a25609",
   "metadata": {},
   "source": [
    "Here is a simple example:\n",
    "\n",
    "Our data on electricity prices is in terms of NOK/MWH, where NOK is norwegian kroners, and MWH is Megawatt-hours. \n",
    "\n",
    "Most people get their electricity bills in KWH (Kilowatthour, which is 1/1000 of a MWH, so it can be helpful to divide all elements by 1000:"
   ]
  },
  {
   "cell_type": "code",
   "execution_count": 68,
   "id": "f0527d6f",
   "metadata": {},
   "outputs": [
    {
     "data": {
      "text/plain": [
       "array([[0.762, 0.465, 0.465, 0.821, 0.821, 0.819, 0.823, 0.821, 1.27 ,\n",
       "        1.27 , 1.27 , 0.418, 0.418, 0.418, 0.824, 0.824, 0.824],\n",
       "       [0.575, 0.438, 0.438, 0.533, 0.533, 0.573, 0.557, 0.533, 1.143,\n",
       "        1.143, 1.143, 0.341, 0.341, 0.341, 0.577, 0.577, 0.577],\n",
       "       [0.811, 0.394, 0.394, 0.735, 0.735, 0.804, 0.782, 0.718, 1.292,\n",
       "        1.292, 1.292, 0.355, 0.355, 0.355, 0.918, 0.918, 0.918],\n",
       "       [1.161, 0.45 , 0.45 , 1.243, 1.331, 1.243, 1.411, 1.331, 1.474,\n",
       "        1.474, 1.474, 0.441, 0.441, 0.441, 1.457, 1.457, 1.464],\n",
       "       [1.192, 0.516, 0.516, 1.087, 1.087, 1.218, 1.088, 1.087, 1.336,\n",
       "        1.336, 1.336, 0.516, 0.516, 0.512, 1.228, 1.228, 1.228],\n",
       "       [1.443, 0.527, 0.527, 1.701, 1.709, 1.696, 1.879, 1.801, 1.859,\n",
       "        1.859, 1.559, 0.527, 0.527, 0.51 , 1.711, 1.711, 1.724],\n",
       "       [1.424, 0.528, 0.528, 1.585, 1.585, 1.672, 1.585, 1.585, 1.594,\n",
       "        1.594, 1.513, 0.503, 0.503, 0.503, 1.672, 1.672, 1.672],\n",
       "       [1.369, 0.5  , 0.5  , 1.462, 1.462, 1.604, 1.461, 1.462, 1.458,\n",
       "        1.458, 1.458, 0.455, 0.455, 0.453, 1.604, 1.604, 1.604],\n",
       "       [1.237, 0.541, 0.541, 1.317, 1.317, 1.46 , 1.317, 1.317, 1.427,\n",
       "        1.427, 1.427, 0.427, 0.427, 0.427, 1.46 , 1.46 , 1.46 ],\n",
       "       [1.704, 0.507, 0.507, 2.471, 2.471, 2.491, 2.449, 2.471, 1.94 ,\n",
       "        1.94 , 1.639, 0.479, 0.479, 0.479, 2.491, 2.491, 2.491],\n",
       "       [1.337, 0.354, 0.354, 1.629, 2.245, 1.629, 1.561, 2.245, 1.515,\n",
       "        1.515, 1.514, 0.304, 0.304, 0.278, 1.948, 2.113, 2.45 ],\n",
       "       [0.967, 0.215, 0.215, 0.864, 1.512, 0.8  , 1.296, 1.512, 1.386,\n",
       "        1.386, 1.386, 0.202, 0.202, 0.202, 1.819, 1.921, 2.097],\n",
       "       [0.337, 0.176, 0.176, 0.184, 0.184, 0.186, 0.184, 0.184, 1.264,\n",
       "        1.264, 1.264, 0.176, 0.176, 0.176, 1.525, 1.525, 1.525],\n",
       "       [0.596, 0.181, 0.181, 0.549, 0.549, 0.601, 0.874, 0.752, 1.289,\n",
       "        1.289, 1.289, 0.181, 0.181, 0.181, 0.991, 0.991, 0.991],\n",
       "       [1.128, 0.193, 0.193, 1.246, 1.261, 0.933, 1.694, 1.694, 1.551,\n",
       "        1.551, 1.467, 0.193, 0.193, 0.193, 1.445, 1.445, 1.445],\n",
       "       [0.288, 0.174, 0.174, 0.184, 0.184, 0.184, 0.953, 0.409, 1.277,\n",
       "        1.277, 1.277, 0.174, 0.174, 0.174, 1.047, 1.047, 1.047],\n",
       "       [0.716, 0.172, 0.172, 0.81 , 0.81 , 0.801, 0.833, 0.81 , 1.323,\n",
       "        1.323, 1.323, 0.172, 0.172, 0.172, 1.047, 1.047, 1.047],\n",
       "       [1.17 , 0.178, 0.178, 1.446, 1.481, 1.446, 1.619, 1.518, 1.609,\n",
       "        1.609, 1.49 , 0.178, 0.178, 0.178, 1.686, 1.74 , 1.74 ],\n",
       "       [0.458, 0.152, 0.152, 0.338, 0.338, 0.625, 0.524, 0.338, 1.353,\n",
       "        1.353, 1.353, 0.152, 0.152, 0.152, 1.509, 1.509, 1.509]])"
      ]
     },
     "execution_count": 68,
     "metadata": {},
     "output_type": "execute_result"
    }
   ],
   "source": [
    "elprices/1000"
   ]
  },
  {
   "cell_type": "markdown",
   "id": "2ba7f16c",
   "metadata": {},
   "source": [
    "Perhaps we wanted to add a certain fixed fee - lets say 100kr- for transmission to each price, then we could just calculate"
   ]
  },
  {
   "cell_type": "code",
   "execution_count": 69,
   "id": "a1c3dcde",
   "metadata": {},
   "outputs": [
    {
     "data": {
      "text/plain": [
       "array([[ 862.,  565.,  565.,  921.,  921.,  919.,  923.,  921., 1370.,\n",
       "        1370., 1370.,  518.,  518.,  518.,  924.,  924.,  924.],\n",
       "       [ 675.,  538.,  538.,  633.,  633.,  673.,  657.,  633., 1243.,\n",
       "        1243., 1243.,  441.,  441.,  441.,  677.,  677.,  677.],\n",
       "       [ 911.,  494.,  494.,  835.,  835.,  904.,  882.,  818., 1392.,\n",
       "        1392., 1392.,  455.,  455.,  455., 1018., 1018., 1018.],\n",
       "       [1261.,  550.,  550., 1343., 1431., 1343., 1511., 1431., 1574.,\n",
       "        1574., 1574.,  541.,  541.,  541., 1557., 1557., 1564.],\n",
       "       [1292.,  616.,  616., 1187., 1187., 1318., 1188., 1187., 1436.,\n",
       "        1436., 1436.,  616.,  616.,  612., 1328., 1328., 1328.],\n",
       "       [1543.,  627.,  627., 1801., 1809., 1796., 1979., 1901., 1959.,\n",
       "        1959., 1659.,  627.,  627.,  610., 1811., 1811., 1824.],\n",
       "       [1524.,  628.,  628., 1685., 1685., 1772., 1685., 1685., 1694.,\n",
       "        1694., 1613.,  603.,  603.,  603., 1772., 1772., 1772.],\n",
       "       [1469.,  600.,  600., 1562., 1562., 1704., 1561., 1562., 1558.,\n",
       "        1558., 1558.,  555.,  555.,  553., 1704., 1704., 1704.],\n",
       "       [1337.,  641.,  641., 1417., 1417., 1560., 1417., 1417., 1527.,\n",
       "        1527., 1527.,  527.,  527.,  527., 1560., 1560., 1560.],\n",
       "       [1804.,  607.,  607., 2571., 2571., 2591., 2549., 2571., 2040.,\n",
       "        2040., 1739.,  579.,  579.,  579., 2591., 2591., 2591.],\n",
       "       [1437.,  454.,  454., 1729., 2345., 1729., 1661., 2345., 1615.,\n",
       "        1615., 1614.,  404.,  404.,  378., 2048., 2213., 2550.],\n",
       "       [1067.,  315.,  315.,  964., 1612.,  900., 1396., 1612., 1486.,\n",
       "        1486., 1486.,  302.,  302.,  302., 1919., 2021., 2197.],\n",
       "       [ 437.,  276.,  276.,  284.,  284.,  286.,  284.,  284., 1364.,\n",
       "        1364., 1364.,  276.,  276.,  276., 1625., 1625., 1625.],\n",
       "       [ 696.,  281.,  281.,  649.,  649.,  701.,  974.,  852., 1389.,\n",
       "        1389., 1389.,  281.,  281.,  281., 1091., 1091., 1091.],\n",
       "       [1228.,  293.,  293., 1346., 1361., 1033., 1794., 1794., 1651.,\n",
       "        1651., 1567.,  293.,  293.,  293., 1545., 1545., 1545.],\n",
       "       [ 388.,  274.,  274.,  284.,  284.,  284., 1053.,  509., 1377.,\n",
       "        1377., 1377.,  274.,  274.,  274., 1147., 1147., 1147.],\n",
       "       [ 816.,  272.,  272.,  910.,  910.,  901.,  933.,  910., 1423.,\n",
       "        1423., 1423.,  272.,  272.,  272., 1147., 1147., 1147.],\n",
       "       [1270.,  278.,  278., 1546., 1581., 1546., 1719., 1618., 1709.,\n",
       "        1709., 1590.,  278.,  278.,  278., 1786., 1840., 1840.],\n",
       "       [ 558.,  252.,  252.,  438.,  438.,  725.,  624.,  438., 1453.,\n",
       "        1453., 1453.,  252.,  252.,  252., 1609., 1609., 1609.]])"
      ]
     },
     "execution_count": 69,
     "metadata": {},
     "output_type": "execute_result"
    }
   ],
   "source": [
    "elprices+100"
   ]
  },
  {
   "cell_type": "markdown",
   "id": "990f4161",
   "metadata": {},
   "source": [
    "Logarithms are a function we will work with quite a bit in this course, to transform to a logarithm we would simply write:"
   ]
  },
  {
   "cell_type": "code",
   "execution_count": 70,
   "id": "d933f030",
   "metadata": {},
   "outputs": [
    {
     "data": {
      "text/plain": [
       "array([[6.63594656, 6.14203741, 6.14203741, 6.71052311, 6.71052311,\n",
       "        6.70808408, 6.7129562 , 6.71052311, 7.14677218, 7.14677218,\n",
       "        7.14677218, 6.03548143, 6.03548143, 6.03548143, 6.71417053,\n",
       "        6.71417053, 6.71417053],\n",
       "       [6.35437004, 6.08221891, 6.08221891, 6.27852142, 6.27852142,\n",
       "        6.35088572, 6.32256524, 6.27852142, 7.04141166, 7.04141166,\n",
       "        7.04141166, 5.83188248, 5.83188248, 5.83188248, 6.35784227,\n",
       "        6.35784227, 6.35784227],\n",
       "       [6.69826805, 5.97635091, 5.97635091, 6.5998705 , 6.5998705 ,\n",
       "        6.68959927, 6.66185474, 6.57646957, 7.16394668, 7.16394668,\n",
       "        7.16394668, 5.87211779, 5.87211779, 5.87211779, 6.82219739,\n",
       "        6.82219739, 6.82219739],\n",
       "       [7.05703698, 6.10924758, 6.10924758, 7.12528309, 7.19368582,\n",
       "        7.12528309, 7.25205395, 7.19368582, 7.29573507, 7.29573507,\n",
       "        7.29573507, 6.08904488, 6.08904488, 6.08904488, 7.28413481,\n",
       "        7.28413481, 7.28892769],\n",
       "       [7.08338785, 6.24610677, 6.24610677, 6.99117689, 6.99117689,\n",
       "        7.10496545, 6.99209643, 6.99117689, 7.19743535, 7.19743535,\n",
       "        7.19743535, 6.24610677, 6.24610677, 6.23832463, 7.11314211,\n",
       "        7.11314211, 7.11314211],\n",
       "       [7.27447956, 6.26720055, 6.26720055, 7.43897159, 7.44366368,\n",
       "        7.43602782, 7.538495  , 7.49609735, 7.52779399, 7.52779399,\n",
       "        7.35179987, 6.26720055, 6.26720055, 6.23441073, 7.44483327,\n",
       "        7.44483327, 7.45240245],\n",
       "       [7.26122509, 6.26909628, 6.26909628, 7.36833969, 7.36833969,\n",
       "        7.42177579, 7.36833969, 7.36833969, 7.37400186, 7.37400186,\n",
       "        7.32184971, 6.22059017, 6.22059017, 6.22059017, 7.42177579,\n",
       "        7.42177579, 7.42177579],\n",
       "       [7.22183583, 6.2146081 , 6.2146081 , 7.28756064, 7.28756064,\n",
       "        7.38025579, 7.28687641, 7.28756064, 7.28482091, 7.28482091,\n",
       "        7.28482091, 6.12029742, 6.12029742, 6.11589213, 7.38025579,\n",
       "        7.38025579, 7.38025579],\n",
       "       [7.12044437, 6.29341928, 6.29341928, 7.1831117 , 7.1831117 ,\n",
       "        7.28619171, 7.1831117 , 7.1831117 , 7.26332962, 7.26332962,\n",
       "        7.26332962, 6.05678401, 6.05678401, 6.05678401, 7.28619171,\n",
       "        7.28619171, 7.28619171],\n",
       "       [7.44073371, 6.228511  , 6.228511  , 7.81237821, 7.81237821,\n",
       "        7.82043952, 7.80343506, 7.81237821, 7.57044325, 7.57044325,\n",
       "        7.40184158, 6.1717006 , 6.1717006 , 6.1717006 , 7.82043952,\n",
       "        7.82043952, 7.82043952],\n",
       "       [7.19818358, 5.86929691, 5.86929691, 7.39572161, 7.7164608 ,\n",
       "        7.39572161, 7.35308192, 7.7164608 , 7.32317072, 7.32317072,\n",
       "        7.32251043, 5.7170277 , 5.7170277 , 5.62762111, 7.57455848,\n",
       "        7.65586402, 7.8038433 ],\n",
       "       [6.8741985 , 5.37063803, 5.37063803, 6.76157277, 7.32118856,\n",
       "        6.68461173, 7.16703788, 7.32118856, 7.23417718, 7.23417718,\n",
       "        7.23417718, 5.3082677 , 5.3082677 , 5.3082677 , 7.50604218,\n",
       "        7.56060116, 7.64826303],\n",
       "       [5.82008293, 5.170484  , 5.170484  , 5.21493576, 5.21493576,\n",
       "        5.22574667, 5.21493576, 5.21493576, 7.14203657, 7.14203657,\n",
       "        7.14203657, 5.170484  , 5.170484  , 5.170484  , 7.32974969,\n",
       "        7.32974969, 7.32974969],\n",
       "       [6.39024067, 5.19849703, 5.19849703, 6.30809844, 6.30809844,\n",
       "        6.39859493, 6.77308038, 6.62273632, 7.161622  , 7.161622  ,\n",
       "        7.161622  , 5.19849703, 5.19849703, 5.19849703, 6.89871453,\n",
       "        6.89871453, 6.89871453],\n",
       "       [7.02820143, 5.26269019, 5.26269019, 7.1276937 , 7.13966034,\n",
       "        6.8384052 , 7.43484788, 7.43484788, 7.34665516, 7.34665516,\n",
       "        7.29097478, 5.26269019, 5.26269019, 5.26269019, 7.2758646 ,\n",
       "        7.2758646 , 7.2758646 ],\n",
       "       [5.66296048, 5.1590553 , 5.1590553 , 5.21493576, 5.21493576,\n",
       "        5.21493576, 6.8596149 , 6.01371516, 7.15226886, 7.15226886,\n",
       "        7.15226886, 5.1590553 , 5.1590553 , 5.1590553 , 6.95368421,\n",
       "        6.95368421, 6.95368421],\n",
       "       [6.57368017, 5.14749448, 5.14749448, 6.69703425, 6.69703425,\n",
       "        6.68586095, 6.72503364, 6.69703425, 7.18765716, 7.18765716,\n",
       "        7.18765716, 5.14749448, 5.14749448, 5.14749448, 6.95368421,\n",
       "        6.95368421, 6.95368421],\n",
       "       [7.06475903, 5.18178355, 5.18178355, 7.2765564 , 7.30047281,\n",
       "        7.2765564 , 7.38956395, 7.32514896, 7.38336815, 7.38336815,\n",
       "        7.3065314 , 5.18178355, 5.18178355, 5.18178355, 7.43011414,\n",
       "        7.46164039, 7.46164039],\n",
       "       [6.12686918, 5.02388052, 5.02388052, 5.8230459 , 5.8230459 ,\n",
       "        6.43775165, 6.26149168, 5.8230459 , 7.21007963, 7.21007963,\n",
       "        7.21007963, 5.02388052, 5.02388052, 5.02388052, 7.31920246,\n",
       "        7.31920246, 7.31920246]])"
      ]
     },
     "execution_count": 70,
     "metadata": {},
     "output_type": "execute_result"
    }
   ],
   "source": [
    "np.log(elprices)"
   ]
  },
  {
   "cell_type": "markdown",
   "id": "0947cddf",
   "metadata": {},
   "source": [
    "For more operations that can be applied to an array--called ufunctions, see [PDS](\"https://jakevdp.github.io/PythonDataScienceHandbook/02.03-computation-on-arrays-ufuncs.html\")"
   ]
  },
  {
   "cell_type": "markdown",
   "id": "6877e95d",
   "metadata": {},
   "source": [
    "## Creating summary statistics with NP arrays"
   ]
  },
  {
   "cell_type": "markdown",
   "id": "1476d36d",
   "metadata": {},
   "source": [
    "Numpy allows us to easily compute summary statistics for our data. \n",
    "\n",
    "We could, for example, find the highest price in our data:"
   ]
  },
  {
   "cell_type": "code",
   "execution_count": 71,
   "id": "3b9098bf",
   "metadata": {},
   "outputs": [
    {
     "data": {
      "text/plain": [
       "2491.0"
      ]
     },
     "execution_count": 71,
     "metadata": {},
     "output_type": "execute_result"
    }
   ],
   "source": [
    "elprices.max()"
   ]
  },
  {
   "cell_type": "markdown",
   "id": "28d9f01e",
   "metadata": {},
   "source": [
    "Or the mean price for Trondheim vs. mean price in Oslo"
   ]
  },
  {
   "cell_type": "code",
   "execution_count": 35,
   "id": "39ca95a2",
   "metadata": {},
   "outputs": [
    {
     "name": "stdout",
     "output_type": "stream",
     "text": [
      "Trondheim mean  618.0\n",
      "Oslo mean  1117.0\n"
     ]
    }
   ],
   "source": [
    "print(\"Trondheim mean \", elprices[12,:].mean())\n",
    "print(\"Oslo mean \", elprices[8,:].mean())"
   ]
  },
  {
   "cell_type": "markdown",
   "id": "d5a86bcd",
   "metadata": {},
   "source": [
    "Or the mean across all the areas"
   ]
  },
  {
   "cell_type": "code",
   "execution_count": 36,
   "id": "f793db77",
   "metadata": {},
   "outputs": [
    {
     "data": {
      "text/plain": [
       "array([ 784.29411765,  609.58823529,  768.70588235, 1102.52941176,\n",
       "       1001.58823529, 1368.82352941, 1277.52941176, 1198.17647059,\n",
       "       1117.        , 1735.29411765, 1370.29411765, 1057.76470588,\n",
       "        618.        ,  686.23529412, 1048.52941176,  590.82352941,\n",
       "        750.        , 1143.76470588,  703.94117647])"
      ]
     },
     "execution_count": 36,
     "metadata": {},
     "output_type": "execute_result"
    }
   ],
   "source": [
    "elprices.mean(axis=1)"
   ]
  },
  {
   "cell_type": "markdown",
   "id": "d3854b08",
   "metadata": {},
   "source": [
    "In this formula *axis=1* takes the mean across all columns, while *axis=0* would take the mean across all rows"
   ]
  },
  {
   "cell_type": "markdown",
   "id": "45c8d06f",
   "metadata": {},
   "source": [
    "Standard deviations are also something we will work with, and this we can also easily compute\n",
    "\n"
   ]
  },
  {
   "cell_type": "code",
   "execution_count": 37,
   "id": "87c9d81f",
   "metadata": {},
   "outputs": [
    {
     "data": {
      "text/plain": [
       "602.862199002882"
      ]
     },
     "execution_count": 37,
     "metadata": {},
     "output_type": "execute_result"
    }
   ],
   "source": [
    "elprices.std()"
   ]
  },
  {
   "cell_type": "markdown",
   "id": "6838e1f0",
   "metadata": {},
   "source": [
    "For more built-in summary statistics that you can compute on NP arrays, see [PDS](https://jakevdp.github.io/PythonDataScienceHandbook/02.04-computation-on-arrays-aggregates.html)"
   ]
  },
  {
   "cell_type": "markdown",
   "id": "1463fba9",
   "metadata": {},
   "source": [
    "### Comparison and boolean function"
   ]
  },
  {
   "cell_type": "markdown",
   "id": "4f826108",
   "metadata": {},
   "source": [
    "How many days in Trondheim did we see prices above 1000kr/MWH?"
   ]
  },
  {
   "cell_type": "markdown",
   "id": "610f9cf3",
   "metadata": {},
   "source": [
    "To calculate this, we first need to determine whether a given entry is or is not above 1000 - basically a True/False test. This is how we do it:"
   ]
  },
  {
   "cell_type": "code",
   "execution_count": 111,
   "id": "9117efe9",
   "metadata": {},
   "outputs": [
    {
     "data": {
      "text/plain": [
       "array([False, False, False, False, False, False, False, False,  True,\n",
       "        True,  True, False, False, False,  True,  True,  True])"
      ]
     },
     "execution_count": 111,
     "metadata": {},
     "output_type": "execute_result"
    }
   ],
   "source": [
    "elprices[12,:]>1000"
   ]
  },
  {
   "cell_type": "markdown",
   "id": "9bf95d6b",
   "metadata": {},
   "source": [
    "The more-than sign, >, is what we refer to as boolean operator, it will return either TRUE or FALSE. \n",
    "\n",
    "Another common boolean operator is X==Y which asks is X equal to Y? \n",
    "\n",
    "Here is an error I do all the time: I want to ask is X equal to Y, but I write X=Y, which in Python signifies that an object X is now equal to the value in Y. "
   ]
  },
  {
   "cell_type": "markdown",
   "id": "24c918d6",
   "metadata": {},
   "source": [
    "For my price example, I could count the number of \"True\" responses to get the number of days with prices over 1000 kr/MWH, but a better way to do it would be:"
   ]
  },
  {
   "cell_type": "code",
   "execution_count": 113,
   "id": "e7325393",
   "metadata": {},
   "outputs": [
    {
     "data": {
      "text/plain": [
       "6"
      ]
     },
     "execution_count": 113,
     "metadata": {},
     "output_type": "execute_result"
    }
   ],
   "source": [
    "np.sum(elprices[12,:]>1000)"
   ]
  },
  {
   "cell_type": "markdown",
   "id": "f4de6ebe",
   "metadata": {},
   "source": [
    "Here I use the np.sum function, which sums up all the values in the array. The way Python works is that a True counts as 1 and False counts as 0. "
   ]
  },
  {
   "cell_type": "markdown",
   "id": "f0bf1594",
   "metadata": {},
   "source": [
    "Did any price areas experience a price over 2000 kr/MWH?\n",
    "\n",
    "We can answer that with:"
   ]
  },
  {
   "cell_type": "code",
   "execution_count": 72,
   "id": "91a06dff",
   "metadata": {},
   "outputs": [
    {
     "data": {
      "text/plain": [
       "True"
      ]
     },
     "execution_count": 72,
     "metadata": {},
     "output_type": "execute_result"
    }
   ],
   "source": [
    "np.any(elprices>2000)"
   ]
  },
  {
   "cell_type": "markdown",
   "id": "77908993",
   "metadata": {},
   "source": [
    "To read more about comparisons in Numpy arrays, see [PDS](https://jakevdp.github.io/PythonDataScienceHandbook/02.06-boolean-arrays-and-masks.html)"
   ]
  },
  {
   "cell_type": "markdown",
   "id": "e5db0722",
   "metadata": {},
   "source": [
    "# What is not so great about Numpy arrays in statistics"
   ]
  },
  {
   "cell_type": "markdown",
   "id": "af8311ed",
   "metadata": {},
   "source": [
    "We will be using Numpy arrays a great deal--directly and indirectly--but they have their limitations. In theory we could do all the computations we needed to in this course just with np.arrays. But it would be messy and hard. "
   ]
  },
  {
   "cell_type": "markdown",
   "id": "6a7d481e",
   "metadata": {},
   "source": [
    "What we want is some frameworks for working with data in the way we are used to seeing it. \n",
    "\n",
    "- We would like to be able to easily import datasets in formats we often see -- like Excel and CSV. \n",
    "\n",
    "- We would like our data nicely organised with the ability to have column and row names. \n",
    "\n",
    "- We would like to intuitively be able to select certain variables by name, transform them and perhaps even visualise them. \n",
    "\n",
    "Basically, we would like to do all the things we are used to doing in Excel with relative ease, but with the underlying power and efficiency of Numpy and Python. "
   ]
  },
  {
   "cell_type": "markdown",
   "id": "2896c8f2",
   "metadata": {},
   "source": [
    "Luckily that tool exists and it is called **Pandas**, which we explore in the [next lab](https://nbviewer.org/url/jmaurit.github.io/anv_statistikk/lab2.ipynb)"
   ]
  },
  {
   "cell_type": "markdown",
   "id": "510b0a7a",
   "metadata": {},
   "source": [
    "# Assignment"
   ]
  },
  {
   "cell_type": "markdown",
   "id": "6ca98298",
   "metadata": {},
   "source": [
    "1.) Generating arrays - random order generator. Make an NP array list that includes the names of your immediate family as well as uncles and aunts and cousins. Now you are all staying at a small cabin with a single bathroom and shower and you need a fair way of randomly ordering who will get to use the bathroom/shower during the morning. So you offer to create a random ordering. Write a program that creates a random ordering of the names in the array. (Hint: you should probably use the function [np.random.choice()](https://docs.scipy.org/doc/numpy-1.15.0/reference/generated/numpy.random.choice.html)"
   ]
  },
  {
   "cell_type": "markdown",
   "id": "58657a78",
   "metadata": {},
   "source": [
    "2.) Generating random values\n",
    "\n",
    "    a. Generate 100 random values from a uniform distribution (you can choose the range yourself, 0-1, 0-10, whatever). Plot the values in a histogram\n",
    "    \n",
    "    b. Now generate a 100x100 2-d array of random values from a uniform distribution. \n",
    "    \n",
    "    c. Take the mean across each column and store this in a 1-d array. Plot a histogram of this array. Does it look like the array in a?\n"
   ]
  },
  {
   "cell_type": "markdown",
   "id": "61b76d83",
   "metadata": {},
   "source": [
    "3.) Working with a small data set\n",
    "    \n",
    "    a. Find a small data set on a website somewhere and import it as a numpy array. You can either copy and paste the data directly into Jupyter, or copy it into a txt document then read it in as we did above. (For those who really want a challenge, you could experiment with using a web-scraping package like [BeautifulSoup](https://beautiful-soup-4.readthedocs.io/en/latest/) to import data directly from a website.)\n",
    "    \n",
    "    b. Create a simple plot of the data - it doesn't need to be pretty. \n",
    "    "
   ]
  },
  {
   "cell_type": "code",
   "execution_count": null,
   "id": "5c993b07",
   "metadata": {},
   "outputs": [],
   "source": []
  }
 ],
 "metadata": {
  "kernelspec": {
   "display_name": "Python 3 (ipykernel)",
   "language": "python",
   "name": "python3"
  },
  "language_info": {
   "codemirror_mode": {
    "name": "ipython",
    "version": 3
   },
   "file_extension": ".py",
   "mimetype": "text/x-python",
   "name": "python",
   "nbconvert_exporter": "python",
   "pygments_lexer": "ipython3",
   "version": "3.9.7"
  }
 },
 "nbformat": 4,
 "nbformat_minor": 5
}
