{
 "cells": [
  {
   "cell_type": "markdown",
   "id": "2510cea5",
   "metadata": {},
   "source": [
    "# Solution sketch, Lab 6"
   ]
  },
  {
   "cell_type": "code",
   "execution_count": 3,
   "id": "2aa43fce",
   "metadata": {},
   "outputs": [],
   "source": [
    "import pandas as pd\n",
    "import numpy as np\n",
    "import matplotlib.pyplot as plt\n",
    "import scipy.stats as spt\n",
    "\n",
    "from cycler import cycler\n",
    "\n",
    "plt.rcParams['xtick.labelsize'] = 12\n",
    "plt.rcParams['ytick.labelsize'] = 12\n",
    "plt.rcParams[\"axes.labelsize\"]= 12\n",
    "plt.rcParams[\"figure.facecolor\"] = \"#f2f2f2\"\n",
    "#plt.rcParams['figure.savefig.dpi'] = 100\n",
    "plt.rcParams['savefig.edgecolor'] = \"#f2f2f2\"\n",
    "plt.rcParams['savefig.facecolor'] =\"#f2f2f2\"\n",
    "plt.rcParams[\"figure.figsize\"] = [16,10]\n",
    "plt.rcParams['savefig.bbox'] = \"tight\"\n",
    "plt.rcParams['font.size'] = 14\n",
    "greens = ['#66c2a4','#41ae76','#238b45','#006d2c','#00441b']\n",
    "multi =['#66c2a4','#1f78b4','#a6cee3','#b2df8a','#33a02c','#fb9a99','#e31a1c','#fdbf6f']\n",
    "plt.rcParams[\"axes.prop_cycle\"] = cycler(color=multi)\n",
    "\n",
    "\n"
   ]
  },
  {
   "cell_type": "markdown",
   "id": "b3c7aa52",
   "metadata": {},
   "source": [
    "## 1. Simulating uncertainty of sample means\n",
    "\n",
    "Say that we want to estimate the mean height of female business students in Norway. We gather a sample of 100 students and find that the sample mean is 160cm and the standard deviation of our sample is 10. \n",
    "\n",
    "a. Using a simulation with 10.000 runs, generate a distribution of the sample means. Show a histogram of the distribution of sample means and calculate the the standard error (the standard deviation of the distribution of sample means). Calculate a 95% confidence interval for the sample means. How does this compare to the analytic solution ($SE_{mean} = \\frac{\\sigma}{\\sqrt(S)}$)\n",
    "\n",
    "b. Now we also gather 100 male business students in Norway and measure their height. We get a sample mean of 178 and a standard deviation of 12. Simulate a distribution for the difference in sample means between males and females and calculate the standard error. "
   ]
  },
  {
   "cell_type": "markdown",
   "id": "f58ba320",
   "metadata": {},
   "source": [
    "# Solution Sketch"
   ]
  },
  {
   "cell_type": "code",
   "execution_count": 20,
   "id": "e3811a9d",
   "metadata": {},
   "outputs": [
    {
     "name": "stdout",
     "output_type": "stream",
     "text": [
      "Standard Error of sample means 0.9997647853146623\n"
     ]
    },
    {
     "data": {
      "image/png": "[encoded data removed]",
      "text/plain": [
       "<Figure size 1152x720 with 1 Axes>"
      ]
     },
     "metadata": {},
     "output_type": "display_data"
    }
   ],
   "source": [
    "# first the distribution of sample means for female students\n",
    "nsims = 10000\n",
    "n=100\n",
    "mu_female = 160\n",
    "sigma_female = 10\n",
    "#[s for ]\n",
    "\n",
    "smeans_female = np.array([np.random.normal(mu_female, sigma_female, n).mean() for i in range(nsims)])\n",
    "pd.Series(smeans_female).hist(bins=50)\n",
    "\n",
    "#Standard error: \n",
    "SE_f = smeans_female.std(ddof=1)\n",
    "print(\"Standard Error of sample means\", SE_f)"
   ]
  },
  {
   "cell_type": "code",
   "execution_count": 21,
   "id": "0e98971e",
   "metadata": {},
   "outputs": [
    {
     "name": "stdout",
     "output_type": "stream",
     "text": [
      "CI 158.00047042937067 161.99952957062933\n",
      "CI direct method 158.0277750352954 161.976231253897\n"
     ]
    }
   ],
   "source": [
    "#Then we can find an approximate 95% confidence interval by calculating +/- 2*SE:\n",
    "\n",
    "CI_low = mu_female - 2*SE_f\n",
    "CI_high = mu_female + 2*SE_f\n",
    "\n",
    "print(\"CI\", CI_low, CI_high)\n",
    "\n",
    "# We could also do in a more direct way be finding the quantiles in our sample mean distribution: \n",
    "\n",
    "CI_low2 = np.quantile(smeans_female,.025)\n",
    "CI_high2 = np.quantile(smeans_female,.975)\n",
    "\n",
    "print(\"CI direct method\", CI_low2, CI_high2)"
   ]
  },
  {
   "cell_type": "code",
   "execution_count": 22,
   "id": "5817a4fa",
   "metadata": {},
   "outputs": [
    {
     "data": {
      "image/png": "[encoded data removed]",
      "text/plain": [
       "<Figure size 1152x720 with 1 Axes>"
      ]
     },
     "metadata": {},
     "output_type": "display_data"
    }
   ],
   "source": [
    "#b. generate differences in sample means\n",
    "\n",
    "def diffOfMean(x1, x2):\n",
    "    return(x1.mean()-x2.mean())\n",
    "\n",
    "diffOfMeans_sim = np.array([diffOfMean(np.random.normal(178,12,100),np.random.normal(160,10,100)) for i in range(nsims)])\n",
    "\n",
    "fig, ax = plt.subplots()\n",
    "ax.hist(diffOfMeans_sim, bins=50)\n",
    "plt.show()"
   ]
  },
  {
   "cell_type": "code",
   "execution_count": 23,
   "id": "6b172317",
   "metadata": {},
   "outputs": [
    {
     "name": "stdout",
     "output_type": "stream",
     "text": [
      "SE of difference in means 1.565656853256787\n"
     ]
    }
   ],
   "source": [
    "SE_diff = diffOfMeans_sim.std(ddof=1)\n",
    "print(\"SE of difference in means\", SE_diff)"
   ]
  },
  {
   "cell_type": "markdown",
   "id": "79069ef1",
   "metadata": {},
   "source": [
    "## 2. Confidence intervals using normal and t-distributions\n",
    "\n",
    "Generate a small sample of 5 random values from a normal distribution with mean $\\mu=30$ and standard deviation $\\sigma=5$.\n",
    "\n",
    "a. Calculate the mean of the sample, and then calculate estimated 95% confidence intervals for the sample mean based on the normal and t-distribution (HINT: You can use the function sts.t.interval(), and sts.norm.intervall() to automatically create intervals given a sample mean and standard error of the sample mean.)\n",
    "\n",
    "\n",
    "b. Now run a simulation (with, say 10.000 simulations). Within each simulation, create a random sample with n=5, calculate confidence intervals with both normal and t-distribution and then test whether these intervals contains the *true* sample mean. Save this result (either as a *True/False* value or *1/0* value). In what percentage of the simulations do the confidence intervals include the true value for the normal and t approximations?\n",
    "\n",
    "c. Do the same steps above when the sample size is n=30\n",
    "\n",
    "# Solution sketch"
   ]
  },
  {
   "cell_type": "code",
   "execution_count": 17,
   "id": "d8cffe73",
   "metadata": {},
   "outputs": [],
   "source": [
    "#a\n",
    "\n",
    "n=5\n",
    "nsim=10000\n",
    "mu=30\n",
    "sigma=5"
   ]
  },
  {
   "cell_type": "code",
   "execution_count": 11,
   "id": "5eb9a620",
   "metadata": {},
   "outputs": [
    {
     "name": "stdout",
     "output_type": "stream",
     "text": [
      "CI (normal approx) (24.119513201952515, 35.26556026706042)\n",
      "CI (t approx) (21.797904980983372, 37.58716848802957)\n"
     ]
    }
   ],
   "source": [
    "smallSample = np.random.normal(mu,sigma,n)\n",
    "meanSS = smallSample.mean()\n",
    "SE_SS = smallSample.std(ddof=1)/np.sqrt(n-1)\n",
    "\n",
    "CI_Normal = spt.norm.interval(.95,meanSS,SE_SS)\n",
    "CI_T = spt.t.interval(.95,n-1,meanSS,SE_SS)\n",
    "print(\"CI (normal approx)\", CI_Normal)\n",
    "print(\"CI (t approx)\", CI_T)"
   ]
  },
  {
   "cell_type": "code",
   "execution_count": 18,
   "id": "ffb2b09c",
   "metadata": {},
   "outputs": [],
   "source": [
    "normalTrue = []\n",
    "tTrue = []\n",
    "for sim in range(nsim):\n",
    "    smallSample = np.random.normal(mu,sigma,n)\n",
    "    meanSS = smallSample.mean()\n",
    "    SE_SS = smallSample.std(ddof=1)/np.sqrt(n-1)\n",
    "\n",
    "    CI_normal = spt.norm.interval(.95,meanSS,SE_SS)\n",
    "    CI_t = spt.t.interval(.95,n-1,meanSS,SE_SS)\n",
    "    \n",
    "    normalTrue.append((CI_normal[0] < mu) & (CI_normal[1] > mu))\n",
    "    tTrue.append((CI_t[0] < mu) & (CI_t[1] > mu))"
   ]
  },
  {
   "cell_type": "code",
   "execution_count": 19,
   "id": "cc420afc",
   "metadata": {},
   "outputs": [
    {
     "name": "stdout",
     "output_type": "stream",
     "text": [
      "0.9031\n",
      "0.9648\n"
     ]
    }
   ],
   "source": [
    "print(np.array(normalTrue).mean())\n",
    "print(np.array(tTrue).mean())"
   ]
  },
  {
   "cell_type": "markdown",
   "id": "a1ba2688",
   "metadata": {},
   "source": [
    "# 3. Hypothesis testing, p-values and Cochrane reports\n",
    "\n",
    "One of the best tools for understanding and interpreting the available scientific information on medicine and health are the [Cochrane Reports](https://www.cochrane.org/). This non-profit group looks through the literature on medical and health studies and tries to summarize the available evidence on a certain topic,  making use of robust statistical methodologies. \n",
    "\n",
    "Let's consider the [available evidence for exercise as treatment for coronary heart disease](https://www.cochrane.org/CD001800/VASC_exercise-based-rehabilitation-coronary-heart-disease).\n",
    "\n",
    "a. Read the report linked to above. In the main results, how does Cochrane report the results? What statistical concepts do they use? What type of language is used to report results? Are the effects big or small?\n",
    "\n",
    "Now let's consider one particular study that comes from NTNU's own [Cardiac Exercise Research Group (CERG)](https://www.ntnu.edu/cerg). This study wanted to test to see if [intervall training reduces plaque in heart patients](https://www.ntnu.edu/cerg/publications#9-22). They chose 60 participants who had recently been treated for coronary heart disease and split the group into a treatment group (30 participants) and controll group (30 participants), where the treatment group performed high-intensity interval training twice weekly for 6 months under supervision. The control group were instructed to carry on as before with general exercise advice. Of the initial treatment group n=20 stayed in the program for the full 6 months, and n=29 of the control group were followed up. \n",
    "\n",
    "\n",
    "From [table 2 of the research article](https://www.ahajournals.org/doi/full/10.1161/JAHA.121.024705) For the treatment group, a measure of artery plaque before the exercise program began reported a mean score of 357 with a standard deviation of 136. After 6 months the same group had a mean value of 306 with a standard deviation of 150. \n",
    "\n",
    "b. Calculate the difference in means between before (\"baseline\") and after (\"Follow-up\") and provide a standard error of the estimate. Create a 95% confidence interval.\n",
    "\n",
    "c. If the null hypothesis is that exercise had no effect, what is the p-value of the result? Interpret the p-value.\n",
    "\n",
    "d. Under a hypothesis testing frameworks, we usually set a significance level at 5%. Would we reject the null hypothesis under this significance level. In this case, would we reject the null-hypothesis. Discuss the problems of hypothesis testing and p-values in relation to this study. \n",
    "\n"
   ]
  },
  {
   "cell_type": "markdown",
   "id": "d1c5338f",
   "metadata": {},
   "source": [
    "# Solution sketch\n",
    "\n",
    "a. There are many potential answers here, but a few things could have been touched on: \n",
    "    - They report results not as single point estimates (risk of death goes down by 12%), but rather as confidence intervals (between 8% and 15%), which better represents the uncertainty. \n",
    "    - They don't just present p-values, but rather talk about the overall strength and robustness of the results. This includes considering the design of the experiment, the number of studies, the number of observations/patients in each study, the effect size, and the consistency of the effect across studies.\n",
    "    - The Cochrane report finds large and robust effects for exercise on reducing the risk of heart-attack (\"MI\") as well as \"All-cause hospitalisation\", but a smaller and less certain effect on \"all-cause mortality\"."
   ]
  },
  {
   "cell_type": "code",
   "execution_count": 24,
   "id": "e1e5bd77",
   "metadata": {},
   "outputs": [
    {
     "name": "stdout",
     "output_type": "stream",
     "text": [
      "mean difference before/after: -51\n",
      "SE 45.274717006293926\n",
      "Sim SE 44.9576682150095\n"
     ]
    }
   ],
   "source": [
    "# difference in means would be: \n",
    "theta_hat = 306-357\n",
    "\n",
    "#We can use the formula for standard error for a difference in means\n",
    "\n",
    "SE_hat = np.sqrt(136**2/20 +  150**2/20)\n",
    "\n",
    "print(\"mean difference before/after:\", theta_hat)\n",
    "print(\"SE\", SE_hat)\n",
    "\n",
    "#Or we can simulate our answers\n",
    "nsim=10000\n",
    "\n",
    "preSims = np.array([np.mean(np.random.normal(357, 136, 20)) for i in range(nsim)])\n",
    "postSims = np.array([np.mean(np.random.normal(306, 150, 20)) for i in range(nsim)])\n",
    "theta_sims = postSims-preSims\n",
    "\n",
    "SE_sim = theta_sims.std()\n",
    "print(\"Sim SE\", SE_sim)"
   ]
  },
  {
   "cell_type": "code",
   "execution_count": 25,
   "id": "3c65a6ac",
   "metadata": {},
   "outputs": [
    {
     "name": "stdout",
     "output_type": "stream",
     "text": [
      "0.12998616813248115\n"
     ]
    },
    {
     "data": {
      "text/plain": [
       "0.12928"
      ]
     },
     "execution_count": 25,
     "metadata": {},
     "output_type": "execute_result"
    }
   ],
   "source": [
    "#We can use our cumulative distribution function, which adds up all the probability\n",
    "#from the left-side of the distribution upto our test statistic\n",
    "p_value = spt.norm(0,SE_hat).cdf(theta_hat)\n",
    "print(p_value)\n",
    "\n",
    "#or by simulating from a null distribution: \n",
    "\n",
    "nsims=100000\n",
    "null_dist = pd.Series(np.random.normal(0, SE_hat, nsims))\n",
    "null_dist[null_dist<theta_hat].count()/nsims"
   ]
  },
  {
   "cell_type": "code",
   "execution_count": 40,
   "id": "030011e8",
   "metadata": {},
   "outputs": [
    {
     "data": {
      "text/plain": [
       "<matplotlib.lines.Line2D at 0x7fe5e8a65f10>"
      ]
     },
     "execution_count": 40,
     "metadata": {},
     "output_type": "execute_result"
    },
    {
     "data": {
      "image/png": "[encoded data removed]",
      "text/plain": [
       "<Figure size 1152x720 with 1 Axes>"
      ]
     },
     "metadata": {},
     "output_type": "display_data"
    }
   ],
   "source": [
    "fig, ax = plt.subplots()\n",
    "null_dist[null_dist>theta_hat].hist(ax=ax, bins=np.arange(theta_hat, 200,10))\n",
    "null_dist[null_dist<=theta_hat].hist(color=\"purple\", ax=ax, bins=np.arange(-200,theta_hat+10,10))\n",
    "\n",
    "ax.axvline(x=0, color=\"red\")\n",
    "ax.axvline(x=theta_hat, color=\"blue\")"
   ]
  },
  {
   "cell_type": "markdown",
   "id": "366f4e74",
   "metadata": {},
   "source": [
    "So we can interpret this as under the null-hypothesis (0 change in lipids), then we would get this test statistic about 13% of the time. Typically, we would want a p-value of above .05 or so to say we have a statistically significant result. (Note, in the research article, the researchers use regression analysis to add precision (reduce the standard error) to these estimates, and end up with a lower p-value and more significant result.)"
   ]
  },
  {
   "cell_type": "markdown",
   "id": "bbeff673",
   "metadata": {},
   "source": [
    "#d\n",
    "\n",
    "I would refer to the discussion here of ROS 4.4-4.6. As it happens, in the refined results in this paper using regression analysis, the estimate for the change in lips (LCBI) was -47.7 with a p-value of .075, which is over our significance threshold of 5%. Yet it would be wrong to conclude that exercise has no effect on lipids. \n",
    "\n",
    "Rather, the results actually provide some evidence for an effect, but we have some uncertainty because the number of patients/observations is quite low (n=20) and there is quite high variation (reflected in the initial standard deviations of the groups). \n",
    "\n",
    "The beauty of the Cochrane reports, is that it can combine many such studies as the one we have looked at here and aggregate the results (what is called a \"meta study\", and come up with some conclusions based on my studies with in total many patients). "
   ]
  },
  {
   "cell_type": "code",
   "execution_count": null,
   "id": "429ace2f",
   "metadata": {},
   "outputs": [],
   "source": []
  }
 ],
 "metadata": {
  "kernelspec": {
   "display_name": "Python 3 (ipykernel)",
   "language": "python",
   "name": "python3"
  },
  "language_info": {
   "codemirror_mode": {
    "name": "ipython",
    "version": 3
   },
   "file_extension": ".py",
   "mimetype": "text/x-python",
   "name": "python",
   "nbconvert_exporter": "python",
   "pygments_lexer": "ipython3",
   "version": "3.9.12"
  }
 },
 "nbformat": 4,
 "nbformat_minor": 5
}
