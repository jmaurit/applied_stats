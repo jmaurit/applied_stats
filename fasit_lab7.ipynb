{
 "cells": [
  {
   "cell_type": "markdown",
   "id": "aa6ee17c",
   "metadata": {},
   "source": [
    "# Solution sketch, lab 7"
   ]
  },
  {
   "cell_type": "code",
   "execution_count": 7,
   "id": "7a9a2d17",
   "metadata": {},
   "outputs": [],
   "source": [
    "import pandas as pd\n",
    "import numpy as np\n",
    "import matplotlib.pyplot as plt\n",
    "import scipy.stats as spt\n",
    "\n",
    "#new packages\n",
    "import statsmodels as sms\n",
    "import statsmodels.formula.api as smf\n",
    "import seaborn as sns\n",
    "\n",
    "\n"
   ]
  },
  {
   "cell_type": "markdown",
   "id": "aa7efac9",
   "metadata": {},
   "source": [
    "### 1. Running a simple regression\n",
    "    \n",
    "In Penn World tables data (\"http://jmaurit.github.io/anv_statistikk/data/pwt100.csv\") consider the relationship between average hours worked for employed persons (avh) and real per capita GDP in 2019 (rgdpe/pop). \n",
    "\n",
    "- Run a simple regression of average hours worked on rgdpe with statsmodels\n",
    "- plot the data with the regression line overlayed\n",
    "- What is the 95% confidence interval of the relationship? \n",
    "- What is the estimated $\\sigma$ of the model?\n",
    "- Briefly discuss whether you think the relationship is causal? "
   ]
  },
  {
   "cell_type": "code",
   "execution_count": 8,
   "id": "b7de0571",
   "metadata": {},
   "outputs": [],
   "source": [
    "pwt = pd.read_csv(\"http://jmaurit.github.io/anv_statistikk/data/pwt100.csv\", sep=\";\", decimal=\",\")\n",
    "pwt[\"rgdpe_per_capita\"] = pwt[\"rgdpe\"]/pwt[\"pop\"]\n",
    "pwt2019 = pwt.loc[pwt.year==2019, :]"
   ]
  },
  {
   "cell_type": "code",
   "execution_count": 9,
   "id": "e57fc223",
   "metadata": {},
   "outputs": [
    {
     "data": {
      "text/html": [
       "<table class=\"simpletable\">\n",
       "<caption>OLS Regression Results</caption>\n",
       "<tr>\n",
       "  <th>Dep. Variable:</th>    <td>rgdpe_per_capita</td> <th>  R-squared:         </th> <td>   0.254</td>\n",
       "</tr>\n",
       "<tr>\n",
       "  <th>Model:</th>                   <td>OLS</td>       <th>  Adj. R-squared:    </th> <td>   0.242</td>\n",
       "</tr>\n",
       "<tr>\n",
       "  <th>Method:</th>             <td>Least Squares</td>  <th>  F-statistic:       </th> <td>   21.78</td>\n",
       "</tr>\n",
       "<tr>\n",
       "  <th>Date:</th>             <td>Mon, 10 Oct 2022</td> <th>  Prob (F-statistic):</th> <td>1.61e-05</td>\n",
       "</tr>\n",
       "<tr>\n",
       "  <th>Time:</th>                 <td>11:22:41</td>     <th>  Log-Likelihood:    </th> <td> -745.28</td>\n",
       "</tr>\n",
       "<tr>\n",
       "  <th>No. Observations:</th>      <td>    66</td>      <th>  AIC:               </th> <td>   1495.</td>\n",
       "</tr>\n",
       "<tr>\n",
       "  <th>Df Residuals:</th>          <td>    64</td>      <th>  BIC:               </th> <td>   1499.</td>\n",
       "</tr>\n",
       "<tr>\n",
       "  <th>Df Model:</th>              <td>     1</td>      <th>                     </th>     <td> </td>   \n",
       "</tr>\n",
       "<tr>\n",
       "  <th>Covariance Type:</th>      <td>nonrobust</td>    <th>                     </th>     <td> </td>   \n",
       "</tr>\n",
       "</table>\n",
       "<table class=\"simpletable\">\n",
       "<tr>\n",
       "      <td></td>         <th>coef</th>     <th>std err</th>      <th>t</th>      <th>P>|t|</th>  <th>[0.025</th>    <th>0.975]</th>  \n",
       "</tr>\n",
       "<tr>\n",
       "  <th>Intercept</th> <td> 1.142e+05</td> <td>  1.7e+04</td> <td>    6.732</td> <td> 0.000</td> <td> 8.03e+04</td> <td> 1.48e+05</td>\n",
       "</tr>\n",
       "<tr>\n",
       "  <th>avh</th>       <td>  -42.3617</td> <td>    9.078</td> <td>   -4.666</td> <td> 0.000</td> <td>  -60.497</td> <td>  -24.227</td>\n",
       "</tr>\n",
       "</table>\n",
       "<table class=\"simpletable\">\n",
       "<tr>\n",
       "  <th>Omnibus:</th>       <td>34.079</td> <th>  Durbin-Watson:     </th> <td>   2.164</td>\n",
       "</tr>\n",
       "<tr>\n",
       "  <th>Prob(Omnibus):</th> <td> 0.000</td> <th>  Jarque-Bera (JB):  </th> <td>  79.123</td>\n",
       "</tr>\n",
       "<tr>\n",
       "  <th>Skew:</th>          <td> 1.675</td> <th>  Prob(JB):          </th> <td>6.59e-18</td>\n",
       "</tr>\n",
       "<tr>\n",
       "  <th>Kurtosis:</th>      <td> 7.189</td> <th>  Cond. No.          </th> <td>1.31e+04</td>\n",
       "</tr>\n",
       "</table><br/><br/>Notes:<br/>[1] Standard Errors assume that the covariance matrix of the errors is correctly specified.<br/>[2] The condition number is large, 1.31e+04. This might indicate that there are<br/>strong multicollinearity or other numerical problems."
      ],
      "text/plain": [
       "<class 'statsmodels.iolib.summary.Summary'>\n",
       "\"\"\"\n",
       "                            OLS Regression Results                            \n",
       "==============================================================================\n",
       "Dep. Variable:       rgdpe_per_capita   R-squared:                       0.254\n",
       "Model:                            OLS   Adj. R-squared:                  0.242\n",
       "Method:                 Least Squares   F-statistic:                     21.78\n",
       "Date:                Mon, 10 Oct 2022   Prob (F-statistic):           1.61e-05\n",
       "Time:                        11:22:41   Log-Likelihood:                -745.28\n",
       "No. Observations:                  66   AIC:                             1495.\n",
       "Df Residuals:                      64   BIC:                             1499.\n",
       "Df Model:                           1                                         \n",
       "Covariance Type:            nonrobust                                         \n",
       "==============================================================================\n",
       "                 coef    std err          t      P>|t|      [0.025      0.975]\n",
       "------------------------------------------------------------------------------\n",
       "Intercept   1.142e+05    1.7e+04      6.732      0.000    8.03e+04    1.48e+05\n",
       "avh          -42.3617      9.078     -4.666      0.000     -60.497     -24.227\n",
       "==============================================================================\n",
       "Omnibus:                       34.079   Durbin-Watson:                   2.164\n",
       "Prob(Omnibus):                  0.000   Jarque-Bera (JB):               79.123\n",
       "Skew:                           1.675   Prob(JB):                     6.59e-18\n",
       "Kurtosis:                       7.189   Cond. No.                     1.31e+04\n",
       "==============================================================================\n",
       "\n",
       "Notes:\n",
       "[1] Standard Errors assume that the covariance matrix of the errors is correctly specified.\n",
       "[2] The condition number is large, 1.31e+04. This might indicate that there are\n",
       "strong multicollinearity or other numerical problems.\n",
       "\"\"\""
      ]
     },
     "execution_count": 9,
     "metadata": {},
     "output_type": "execute_result"
    }
   ],
   "source": [
    "ex_mod1 = smf.ols(formula='rgdpe_per_capita~avh', data=pwt2019).fit()\n",
    "ex_mod1.summary()"
   ]
  },
  {
   "cell_type": "markdown",
   "id": "6f0d5112",
   "metadata": {},
   "source": [
    "We have a negative and statistically significant relationship\n",
    "\n",
    "I'll use seaborn lmplot to give a quick visualisation of the regression line: "
   ]
  },
  {
   "cell_type": "code",
   "execution_count": 10,
   "id": "b13ff880",
   "metadata": {},
   "outputs": [
    {
     "data": {
      "text/plain": [
       "<seaborn.axisgrid.FacetGrid at 0x7fecc03ec9d0>"
      ]
     },
     "execution_count": 10,
     "metadata": {},
     "output_type": "execute_result"
    },
    {
     "data": {
      "image/png": "[encoded data removed]",
      "text/plain": [
       "<Figure size 360x360 with 1 Axes>"
      ]
     },
     "metadata": {
      "needs_background": "light"
     },
     "output_type": "display_data"
    }
   ],
   "source": [
    "sns.lmplot(x=\"avh\", y=\"rgdpe_per_capita\", data=pwt2019)"
   ]
  },
  {
   "cell_type": "code",
   "execution_count": null,
   "id": "cff81d57",
   "metadata": {},
   "outputs": [],
   "source": [
    "pwt2019"
   ]
  },
  {
   "cell_type": "markdown",
   "id": "02bad4a8",
   "metadata": {},
   "source": [
    "The 95 % confidence interval is displayed in the summary output, but we can also quickly make the calculation ourselves:\n",
    "\n"
   ]
  },
  {
   "cell_type": "code",
   "execution_count": 8,
   "id": "dec0de50",
   "metadata": {},
   "outputs": [
    {
     "data": {
      "text/plain": [
       "[-60.5175164514408, -24.205978222312357]"
      ]
     },
     "execution_count": 8,
     "metadata": {},
     "output_type": "execute_result"
    }
   ],
   "source": [
    "ex1_cov = ex_mod1.cov_params()\n",
    "SE_b = np.sqrt(ex1_cov.iloc[1,1])\n",
    "\n",
    "\n",
    "CI = [ex_mod1.params[1] -2*SE_b, ex_mod1.params[1] +2*SE_b]\n",
    "CI"
   ]
  },
  {
   "cell_type": "markdown",
   "id": "bb731c5f",
   "metadata": {},
   "source": [
    "We can see that there is quite a bit of variation around the regression line. We can get the estimate for the $\\sigma$"
   ]
  },
  {
   "cell_type": "code",
   "execution_count": 10,
   "id": "ca8b1905",
   "metadata": {},
   "outputs": [
    {
     "data": {
      "text/plain": [
       "19705.147498247465"
      ]
     },
     "execution_count": 10,
     "metadata": {},
     "output_type": "execute_result"
    }
   ],
   "source": [
    "np.sqrt(ex_mod1.mse_resid)"
   ]
  },
  {
   "cell_type": "markdown",
   "id": "8fa9f5e9",
   "metadata": {},
   "source": [
    "Initially, we might postulate that higher average hours would causally increase per-capita GDP. Instead, the results of this regression suggests a reverse causality: as GDP grows, people have a preference for more free time and the average hours worked goes down. But again, notice the very high variance around the regression line ($\\sigma$)"
   ]
  },
  {
   "cell_type": "markdown",
   "id": "d944104c",
   "metadata": {},
   "source": [
    "\n",
    "\n",
    "## 2.) Fake data simulation with a lurking variable. \n",
    "    - Generate a model based on a lurking variable - generate X, Y and Z variables where both X and Y depend on  on Z (but not on one-another). \n",
    "    - Run a regression of Y on X, does the regression suggest a relationship between the variables. \n",
    "    - Now add Z as an exogenous regressor in the regression. How does this change the suggested relationships."
   ]
  },
  {
   "cell_type": "code",
   "execution_count": 12,
   "id": "d83e4dd1",
   "metadata": {},
   "outputs": [],
   "source": [
    "n=200\n",
    "Z = spt.norm.rvs(0,10,n)\n",
    "X = 3 + .3*Z + spt.norm.rvs(0,3,n)\n",
    "Y = 5 +  .5* Z + spt.norm.rvs(0,3,n) \n",
    "\n",
    "fakeData1 = pd.DataFrame({\"X\":X, \"Y\":Y, \"Z\":Z})"
   ]
  },
  {
   "cell_type": "code",
   "execution_count": 13,
   "id": "deee559b",
   "metadata": {},
   "outputs": [],
   "source": [
    "as_mod2 = smf.ols(formula='Y~X', data=fakeData1).fit()"
   ]
  },
  {
   "cell_type": "code",
   "execution_count": 14,
   "id": "295854b0",
   "metadata": {},
   "outputs": [
    {
     "data": {
      "text/html": [
       "<table class=\"simpletable\">\n",
       "<caption>OLS Regression Results</caption>\n",
       "<tr>\n",
       "  <th>Dep. Variable:</th>            <td>Y</td>        <th>  R-squared:         </th> <td>   0.379</td>\n",
       "</tr>\n",
       "<tr>\n",
       "  <th>Model:</th>                   <td>OLS</td>       <th>  Adj. R-squared:    </th> <td>   0.376</td>\n",
       "</tr>\n",
       "<tr>\n",
       "  <th>Method:</th>             <td>Least Squares</td>  <th>  F-statistic:       </th> <td>   121.0</td>\n",
       "</tr>\n",
       "<tr>\n",
       "  <th>Date:</th>             <td>Thu, 18 Aug 2022</td> <th>  Prob (F-statistic):</th> <td>2.89e-22</td>\n",
       "</tr>\n",
       "<tr>\n",
       "  <th>Time:</th>                 <td>13:42:07</td>     <th>  Log-Likelihood:    </th> <td> -568.23</td>\n",
       "</tr>\n",
       "<tr>\n",
       "  <th>No. Observations:</th>      <td>   200</td>      <th>  AIC:               </th> <td>   1140.</td>\n",
       "</tr>\n",
       "<tr>\n",
       "  <th>Df Residuals:</th>          <td>   198</td>      <th>  BIC:               </th> <td>   1147.</td>\n",
       "</tr>\n",
       "<tr>\n",
       "  <th>Df Model:</th>              <td>     1</td>      <th>                     </th>     <td> </td>   \n",
       "</tr>\n",
       "<tr>\n",
       "  <th>Covariance Type:</th>      <td>nonrobust</td>    <th>                     </th>     <td> </td>   \n",
       "</tr>\n",
       "</table>\n",
       "<table class=\"simpletable\">\n",
       "<tr>\n",
       "      <td></td>         <th>coef</th>     <th>std err</th>      <th>t</th>      <th>P>|t|</th>  <th>[0.025</th>    <th>0.975]</th>  \n",
       "</tr>\n",
       "<tr>\n",
       "  <th>Intercept</th> <td>    3.4916</td> <td>    0.355</td> <td>    9.838</td> <td> 0.000</td> <td>    2.792</td> <td>    4.191</td>\n",
       "</tr>\n",
       "<tr>\n",
       "  <th>X</th>         <td>    0.7660</td> <td>    0.070</td> <td>   10.998</td> <td> 0.000</td> <td>    0.629</td> <td>    0.903</td>\n",
       "</tr>\n",
       "</table>\n",
       "<table class=\"simpletable\">\n",
       "<tr>\n",
       "  <th>Omnibus:</th>       <td> 0.901</td> <th>  Durbin-Watson:     </th> <td>   2.237</td>\n",
       "</tr>\n",
       "<tr>\n",
       "  <th>Prob(Omnibus):</th> <td> 0.637</td> <th>  Jarque-Bera (JB):  </th> <td>   0.932</td>\n",
       "</tr>\n",
       "<tr>\n",
       "  <th>Skew:</th>          <td>-0.159</td> <th>  Prob(JB):          </th> <td>   0.628</td>\n",
       "</tr>\n",
       "<tr>\n",
       "  <th>Kurtosis:</th>      <td> 2.898</td> <th>  Cond. No.          </th> <td>    6.21</td>\n",
       "</tr>\n",
       "</table><br/><br/>Notes:<br/>[1] Standard Errors assume that the covariance matrix of the errors is correctly specified."
      ],
      "text/plain": [
       "<class 'statsmodels.iolib.summary.Summary'>\n",
       "\"\"\"\n",
       "                            OLS Regression Results                            \n",
       "==============================================================================\n",
       "Dep. Variable:                      Y   R-squared:                       0.379\n",
       "Model:                            OLS   Adj. R-squared:                  0.376\n",
       "Method:                 Least Squares   F-statistic:                     121.0\n",
       "Date:                Thu, 18 Aug 2022   Prob (F-statistic):           2.89e-22\n",
       "Time:                        13:42:07   Log-Likelihood:                -568.23\n",
       "No. Observations:                 200   AIC:                             1140.\n",
       "Df Residuals:                     198   BIC:                             1147.\n",
       "Df Model:                           1                                         \n",
       "Covariance Type:            nonrobust                                         \n",
       "==============================================================================\n",
       "                 coef    std err          t      P>|t|      [0.025      0.975]\n",
       "------------------------------------------------------------------------------\n",
       "Intercept      3.4916      0.355      9.838      0.000       2.792       4.191\n",
       "X              0.7660      0.070     10.998      0.000       0.629       0.903\n",
       "==============================================================================\n",
       "Omnibus:                        0.901   Durbin-Watson:                   2.237\n",
       "Prob(Omnibus):                  0.637   Jarque-Bera (JB):                0.932\n",
       "Skew:                          -0.159   Prob(JB):                        0.628\n",
       "Kurtosis:                       2.898   Cond. No.                         6.21\n",
       "==============================================================================\n",
       "\n",
       "Notes:\n",
       "[1] Standard Errors assume that the covariance matrix of the errors is correctly specified.\n",
       "\"\"\""
      ]
     },
     "execution_count": 14,
     "metadata": {},
     "output_type": "execute_result"
    }
   ],
   "source": [
    "as_mod2.summary()"
   ]
  },
  {
   "cell_type": "code",
   "execution_count": 15,
   "id": "8d9b5885",
   "metadata": {},
   "outputs": [
    {
     "data": {
      "text/plain": [
       "<seaborn.axisgrid.FacetGrid at 0x7f920008a190>"
      ]
     },
     "execution_count": 15,
     "metadata": {},
     "output_type": "execute_result"
    },
    {
     "data": {
      "image/png": "[encoded data removed]",
      "text/plain": [
       "<Figure size 360x360 with 1 Axes>"
      ]
     },
     "metadata": {
      "needs_background": "light"
     },
     "output_type": "display_data"
    }
   ],
   "source": [
    "sns.lmplot(x=\"X\", y=\"Y\", data=fakeData1)"
   ]
  },
  {
   "cell_type": "markdown",
   "id": "ab49b965",
   "metadata": {},
   "source": [
    "We estimate a strong relationship between X and Y, but we know in fact that X and Y do not depend on each other in reality. Instead it is the \"lurking\" variable Z that causes the relationship. \n",
    "\n",
    "But if we *control* for Z in our regression:"
   ]
  },
  {
   "cell_type": "code",
   "execution_count": 17,
   "id": "170995eb",
   "metadata": {},
   "outputs": [],
   "source": [
    "as_mod3 = smf.ols(formula='Y~X + Z', data=fakeData1).fit()"
   ]
  },
  {
   "cell_type": "code",
   "execution_count": 18,
   "id": "6589e3b2",
   "metadata": {},
   "outputs": [
    {
     "data": {
      "text/html": [
       "<table class=\"simpletable\">\n",
       "<caption>OLS Regression Results</caption>\n",
       "<tr>\n",
       "  <th>Dep. Variable:</th>            <td>Y</td>        <th>  R-squared:         </th> <td>   0.725</td>\n",
       "</tr>\n",
       "<tr>\n",
       "  <th>Model:</th>                   <td>OLS</td>       <th>  Adj. R-squared:    </th> <td>   0.722</td>\n",
       "</tr>\n",
       "<tr>\n",
       "  <th>Method:</th>             <td>Least Squares</td>  <th>  F-statistic:       </th> <td>   259.4</td>\n",
       "</tr>\n",
       "<tr>\n",
       "  <th>Date:</th>             <td>Thu, 18 Aug 2022</td> <th>  Prob (F-statistic):</th> <td>6.43e-56</td>\n",
       "</tr>\n",
       "<tr>\n",
       "  <th>Time:</th>                 <td>13:42:37</td>     <th>  Log-Likelihood:    </th> <td> -486.89</td>\n",
       "</tr>\n",
       "<tr>\n",
       "  <th>No. Observations:</th>      <td>   200</td>      <th>  AIC:               </th> <td>   979.8</td>\n",
       "</tr>\n",
       "<tr>\n",
       "  <th>Df Residuals:</th>          <td>   197</td>      <th>  BIC:               </th> <td>   989.7</td>\n",
       "</tr>\n",
       "<tr>\n",
       "  <th>Df Model:</th>              <td>     2</td>      <th>                     </th>     <td> </td>   \n",
       "</tr>\n",
       "<tr>\n",
       "  <th>Covariance Type:</th>      <td>nonrobust</td>    <th>                     </th>     <td> </td>   \n",
       "</tr>\n",
       "</table>\n",
       "<table class=\"simpletable\">\n",
       "<tr>\n",
       "      <td></td>         <th>coef</th>     <th>std err</th>      <th>t</th>      <th>P>|t|</th>  <th>[0.025</th>    <th>0.975]</th>  \n",
       "</tr>\n",
       "<tr>\n",
       "  <th>Intercept</th> <td>    5.1078</td> <td>    0.258</td> <td>   19.780</td> <td> 0.000</td> <td>    4.599</td> <td>    5.617</td>\n",
       "</tr>\n",
       "<tr>\n",
       "  <th>X</th>         <td>    0.0191</td> <td>    0.066</td> <td>    0.287</td> <td> 0.774</td> <td>   -0.112</td> <td>    0.150</td>\n",
       "</tr>\n",
       "<tr>\n",
       "  <th>Z</th>         <td>    0.4624</td> <td>    0.029</td> <td>   15.727</td> <td> 0.000</td> <td>    0.404</td> <td>    0.520</td>\n",
       "</tr>\n",
       "</table>\n",
       "<table class=\"simpletable\">\n",
       "<tr>\n",
       "  <th>Omnibus:</th>       <td> 2.440</td> <th>  Durbin-Watson:     </th> <td>   2.126</td>\n",
       "</tr>\n",
       "<tr>\n",
       "  <th>Prob(Omnibus):</th> <td> 0.295</td> <th>  Jarque-Bera (JB):  </th> <td>   2.054</td>\n",
       "</tr>\n",
       "<tr>\n",
       "  <th>Skew:</th>          <td>-0.185</td> <th>  Prob(JB):          </th> <td>   0.358</td>\n",
       "</tr>\n",
       "<tr>\n",
       "  <th>Kurtosis:</th>      <td> 3.330</td> <th>  Cond. No.          </th> <td>    13.7</td>\n",
       "</tr>\n",
       "</table><br/><br/>Notes:<br/>[1] Standard Errors assume that the covariance matrix of the errors is correctly specified."
      ],
      "text/plain": [
       "<class 'statsmodels.iolib.summary.Summary'>\n",
       "\"\"\"\n",
       "                            OLS Regression Results                            \n",
       "==============================================================================\n",
       "Dep. Variable:                      Y   R-squared:                       0.725\n",
       "Model:                            OLS   Adj. R-squared:                  0.722\n",
       "Method:                 Least Squares   F-statistic:                     259.4\n",
       "Date:                Thu, 18 Aug 2022   Prob (F-statistic):           6.43e-56\n",
       "Time:                        13:42:37   Log-Likelihood:                -486.89\n",
       "No. Observations:                 200   AIC:                             979.8\n",
       "Df Residuals:                     197   BIC:                             989.7\n",
       "Df Model:                           2                                         \n",
       "Covariance Type:            nonrobust                                         \n",
       "==============================================================================\n",
       "                 coef    std err          t      P>|t|      [0.025      0.975]\n",
       "------------------------------------------------------------------------------\n",
       "Intercept      5.1078      0.258     19.780      0.000       4.599       5.617\n",
       "X              0.0191      0.066      0.287      0.774      -0.112       0.150\n",
       "Z              0.4624      0.029     15.727      0.000       0.404       0.520\n",
       "==============================================================================\n",
       "Omnibus:                        2.440   Durbin-Watson:                   2.126\n",
       "Prob(Omnibus):                  0.295   Jarque-Bera (JB):                2.054\n",
       "Skew:                          -0.185   Prob(JB):                        0.358\n",
       "Kurtosis:                       3.330   Cond. No.                         13.7\n",
       "==============================================================================\n",
       "\n",
       "Notes:\n",
       "[1] Standard Errors assume that the covariance matrix of the errors is correctly specified.\n",
       "\"\"\""
      ]
     },
     "execution_count": 18,
     "metadata": {},
     "output_type": "execute_result"
    }
   ],
   "source": [
    "as_mod3.summary()"
   ]
  },
  {
   "cell_type": "markdown",
   "id": "3a83c772",
   "metadata": {},
   "source": [
    "Now the relationship between X and Y is estimated closer to 0 and is not estimated to be significantly different that 0. "
   ]
  },
  {
   "cell_type": "markdown",
   "id": "af6a86c2",
   "metadata": {},
   "source": [
    "### 3.)  Monte Carlo Experiment\n",
    "  \n",
    "Let us say we have data on 10 recent graduates from a Norwegian business school who have gone to work at a consulting company. The company has a first-year associate review where associates are graded on a scale from 1 to 10 on a series of evaluations. The company also has the business school GPA (grade point average) from 1 to 5. \n",
    "\n",
    "The data for these 10 students: GPA (X) and first-year evaluation (Y) is generated below: "
   ]
  },
  {
   "cell_type": "code",
   "execution_count": 17,
   "id": "8645d063",
   "metadata": {},
   "outputs": [],
   "source": [
    "#initial \n",
    "n=10\n",
    "a= 5\n",
    "\n",
    "sigma = 1.5\n",
    "\n",
    "b=.5\n",
    "x = spt.uniform.rvs(1,4,n,random_state=4321)\n",
    "\n",
    "epsilon = spt.norm.rvs(0,sigma,n,random_state=1234)\n",
    "\n",
    "y=a+b*x + epsilon\n",
    "\n",
    "gpaFakeData = pd.DataFrame({\"x\":x, \"y\":y})"
   ]
  },
  {
   "cell_type": "code",
   "execution_count": 18,
   "id": "554ccbc8",
   "metadata": {},
   "outputs": [
    {
     "name": "stdout",
     "output_type": "stream",
     "text": [
      "x [1.2832115  4.26025604 4.07161984 2.14541801 1.77237725 4.91564884\n",
      " 2.62491485 4.03107147 1.35660706 2.23953387]\n",
      "y [6.3487585  5.34366448 9.18487037 5.60373116 4.80530552 8.78856883\n",
      " 7.60184005 6.06075048 5.70184809 2.7557395 ]\n"
     ]
    }
   ],
   "source": [
    "print(\"x\", x)\n",
    "print(\"y\", y)"
   ]
  },
  {
   "cell_type": "code",
   "execution_count": 19,
   "id": "b3c8865f",
   "metadata": {},
   "outputs": [
    {
     "name": "stderr",
     "output_type": "stream",
     "text": [
      "/Users/johannesmauritzen/opt/anaconda3/lib/python3.9/site-packages/scipy/stats/stats.py:1541: UserWarning: kurtosistest only valid for n>=20 ... continuing anyway, n=10\n",
      "  warnings.warn(\"kurtosistest only valid for n>=20 ... continuing \"\n"
     ]
    },
    {
     "data": {
      "text/html": [
       "<table class=\"simpletable\">\n",
       "<caption>OLS Regression Results</caption>\n",
       "<tr>\n",
       "  <th>Dep. Variable:</th>            <td>y</td>        <th>  R-squared:         </th> <td>   0.269</td>\n",
       "</tr>\n",
       "<tr>\n",
       "  <th>Model:</th>                   <td>OLS</td>       <th>  Adj. R-squared:    </th> <td>   0.178</td>\n",
       "</tr>\n",
       "<tr>\n",
       "  <th>Method:</th>             <td>Least Squares</td>  <th>  F-statistic:       </th> <td>   2.944</td>\n",
       "</tr>\n",
       "<tr>\n",
       "  <th>Date:</th>             <td>Mon, 10 Oct 2022</td> <th>  Prob (F-statistic):</th>  <td> 0.125</td> \n",
       "</tr>\n",
       "<tr>\n",
       "  <th>Time:</th>                 <td>11:33:39</td>     <th>  Log-Likelihood:    </th> <td> -18.556</td>\n",
       "</tr>\n",
       "<tr>\n",
       "  <th>No. Observations:</th>      <td>    10</td>      <th>  AIC:               </th> <td>   41.11</td>\n",
       "</tr>\n",
       "<tr>\n",
       "  <th>Df Residuals:</th>          <td>     8</td>      <th>  BIC:               </th> <td>   41.72</td>\n",
       "</tr>\n",
       "<tr>\n",
       "  <th>Df Model:</th>              <td>     1</td>      <th>                     </th>     <td> </td>   \n",
       "</tr>\n",
       "<tr>\n",
       "  <th>Covariance Type:</th>      <td>nonrobust</td>    <th>                     </th>     <td> </td>   \n",
       "</tr>\n",
       "</table>\n",
       "<table class=\"simpletable\">\n",
       "<tr>\n",
       "      <td></td>         <th>coef</th>     <th>std err</th>      <th>t</th>      <th>P>|t|</th>  <th>[0.025</th>    <th>0.975]</th>  \n",
       "</tr>\n",
       "<tr>\n",
       "  <th>Intercept</th> <td>    4.0833</td> <td>    1.360</td> <td>    3.002</td> <td> 0.017</td> <td>    0.947</td> <td>    7.219</td>\n",
       "</tr>\n",
       "<tr>\n",
       "  <th>x</th>         <td>    0.7443</td> <td>    0.434</td> <td>    1.716</td> <td> 0.125</td> <td>   -0.256</td> <td>    1.745</td>\n",
       "</tr>\n",
       "</table>\n",
       "<table class=\"simpletable\">\n",
       "<tr>\n",
       "  <th>Omnibus:</th>       <td> 0.874</td> <th>  Durbin-Watson:     </th> <td>   2.356</td>\n",
       "</tr>\n",
       "<tr>\n",
       "  <th>Prob(Omnibus):</th> <td> 0.646</td> <th>  Jarque-Bera (JB):  </th> <td>   0.725</td>\n",
       "</tr>\n",
       "<tr>\n",
       "  <th>Skew:</th>          <td>-0.507</td> <th>  Prob(JB):          </th> <td>   0.696</td>\n",
       "</tr>\n",
       "<tr>\n",
       "  <th>Kurtosis:</th>      <td> 2.156</td> <th>  Cond. No.          </th> <td>    8.47</td>\n",
       "</tr>\n",
       "</table><br/><br/>Notes:<br/>[1] Standard Errors assume that the covariance matrix of the errors is correctly specified."
      ],
      "text/plain": [
       "<class 'statsmodels.iolib.summary.Summary'>\n",
       "\"\"\"\n",
       "                            OLS Regression Results                            \n",
       "==============================================================================\n",
       "Dep. Variable:                      y   R-squared:                       0.269\n",
       "Model:                            OLS   Adj. R-squared:                  0.178\n",
       "Method:                 Least Squares   F-statistic:                     2.944\n",
       "Date:                Mon, 10 Oct 2022   Prob (F-statistic):              0.125\n",
       "Time:                        11:33:39   Log-Likelihood:                -18.556\n",
       "No. Observations:                  10   AIC:                             41.11\n",
       "Df Residuals:                       8   BIC:                             41.72\n",
       "Df Model:                           1                                         \n",
       "Covariance Type:            nonrobust                                         \n",
       "==============================================================================\n",
       "                 coef    std err          t      P>|t|      [0.025      0.975]\n",
       "------------------------------------------------------------------------------\n",
       "Intercept      4.0833      1.360      3.002      0.017       0.947       7.219\n",
       "x              0.7443      0.434      1.716      0.125      -0.256       1.745\n",
       "==============================================================================\n",
       "Omnibus:                        0.874   Durbin-Watson:                   2.356\n",
       "Prob(Omnibus):                  0.646   Jarque-Bera (JB):                0.725\n",
       "Skew:                          -0.507   Prob(JB):                        0.696\n",
       "Kurtosis:                       2.156   Cond. No.                         8.47\n",
       "==============================================================================\n",
       "\n",
       "Notes:\n",
       "[1] Standard Errors assume that the covariance matrix of the errors is correctly specified.\n",
       "\"\"\""
      ]
     },
     "execution_count": 19,
     "metadata": {},
     "output_type": "execute_result"
    }
   ],
   "source": [
    "as_mod4 = smf.ols(formula='y~x', data=gpaFakeData).fit()\n",
    "as_mod4.summary()"
   ]
  },
  {
   "cell_type": "code",
   "execution_count": 21,
   "id": "3bcb378b",
   "metadata": {},
   "outputs": [],
   "source": [
    "nsim = 1000\n",
    "\n",
    "b_hats = []\n",
    "cover_95 = []\n",
    "\n",
    "for s in range(nsim):  \n",
    "    epsilon = spt.norm.rvs(0,sigma,n)\n",
    " # the epsilon part of the fake data is now within the loop, \n",
    "    #so we create a new dataset in each loop. \n",
    "    y=a+b*x + epsilon\n",
    "    fakeDF = pd.DataFrame({\"x\":x, \"y\":y})\n",
    "    as_mod4 = smf.ols(formula = \"y~x\", data=fakeDF).fit()\n",
    "    b_hat = as_mod4.params[1]\n",
    "    b_hats.append(b_hat) # save a list of all our estimated b's\n",
    "    CI_b = as_mod4.conf_int().iloc[1, :] #We take a short cut of just getting the CI from the model object\n",
    "    cover_95.append(int((b>CI_b[0]) & (b<CI_b[1])))\n",
    "    \n",
    "   "
   ]
  },
  {
   "cell_type": "code",
   "execution_count": 22,
   "id": "8adb8f8c",
   "metadata": {},
   "outputs": [
    {
     "data": {
      "text/plain": [
       "0.959"
      ]
     },
     "execution_count": 22,
     "metadata": {},
     "output_type": "execute_result"
    }
   ],
   "source": [
    "cover_95 = np.array(cover_95)\n",
    "cover_95.mean()"
   ]
  },
  {
   "cell_type": "code",
   "execution_count": 24,
   "id": "5f5b76a8",
   "metadata": {},
   "outputs": [
    {
     "data": {
      "text/plain": [
       "<matplotlib.lines.Line2D at 0x7f91d1656910>"
      ]
     },
     "execution_count": 24,
     "metadata": {},
     "output_type": "execute_result"
    },
    {
     "data": {
      "image/png": "[encoded data removed]",
      "text/plain": [
       "<Figure size 432x288 with 1 Axes>"
      ]
     },
     "metadata": {
      "needs_background": "light"
     },
     "output_type": "display_data"
    }
   ],
   "source": [
    "b_hats = pd.Series(b_hats)\n",
    "fig, ax = plt.subplots()\n",
    "b_hats.hist(ax=ax, bins=50, alpha=.4)\n",
    "ax.axvline(x=b, color=\"red\")"
   ]
  },
  {
   "cell_type": "markdown",
   "id": "9e7ff372",
   "metadata": {},
   "source": [
    "### 4.) Manual OLS\n",
    "\n",
    "Run the regression from assignment 1, but now manually calculate the estimates for b, a and $\\sigma$"
   ]
  },
  {
   "cell_type": "code",
   "execution_count": 25,
   "id": "3cf080dd",
   "metadata": {},
   "outputs": [
    {
     "data": {
      "text/plain": [
       "<seaborn.axisgrid.FacetGrid at 0x7f91f37456d0>"
      ]
     },
     "execution_count": 25,
     "metadata": {},
     "output_type": "execute_result"
    },
    {
     "data": {
      "image/png": "[encoded data removed]",
      "text/plain": [
       "<Figure size 360x360 with 1 Axes>"
      ]
     },
     "metadata": {
      "needs_background": "light"
     },
     "output_type": "display_data"
    }
   ],
   "source": [
    "sns.lmplot(x=\"avh\", y=\"rgdpe_per_capita\", data=pwt2019)"
   ]
  },
  {
   "cell_type": "code",
   "execution_count": 26,
   "id": "348430ed",
   "metadata": {},
   "outputs": [
    {
     "name": "stdout",
     "output_type": "stream",
     "text": [
      "a-hat 114221.65253311764\n",
      "b-hat -42.361747336876576\n",
      "sigma-hat, sigma_hat\n"
     ]
    }
   ],
   "source": [
    "n = pwt2019[\"avh\"].count()\n",
    "\n",
    "pwt2019 = pwt2019.loc[(pwt2019.avh.notna()) & (pwt2019.rgdpe_per_capita.notna()), ]\n",
    "\n",
    "b_hat = np.cov(pwt2019[\"avh\"],pwt2019[\"rgdpe_per_capita\"], ddof=1)[0,1]/np.var(pwt2019[\"avh\"], ddof=1)\n",
    "\n",
    "\n",
    "a_hat = np.mean(pwt2019[\"rgdpe_per_capita\"]) - b_hat*np.mean(pwt2019[\"avh\"])\n",
    "\n",
    "\n",
    "\n",
    "y_hat = a_hat + b_hat*np.mean(pwt2019[\"avh\"])\n",
    "\n",
    "sigma_hat = np.sqrt(np.sum((pwt2019[\"rgdpe_per_capita\"]-y_hat)**2)/n-2)\n",
    "                              \n",
    "print(\"a-hat\", a_hat)\n",
    "print(\"b-hat\", b_hat) \n",
    "print(\"sigma-hat, sigma_hat\")\n",
    "   "
   ]
  },
  {
   "cell_type": "code",
   "execution_count": null,
   "id": "8fa70624",
   "metadata": {},
   "outputs": [],
   "source": []
  }
 ],
 "metadata": {
  "kernelspec": {
   "display_name": "Python 3 (ipykernel)",
   "language": "python",
   "name": "python3"
  },
  "language_info": {
   "codemirror_mode": {
    "name": "ipython",
    "version": 3
   },
   "file_extension": ".py",
   "mimetype": "text/x-python",
   "name": "python",
   "nbconvert_exporter": "python",
   "pygments_lexer": "ipython3",
   "version": "3.9.12"
  }
 },
 "nbformat": 4,
 "nbformat_minor": 5
}
