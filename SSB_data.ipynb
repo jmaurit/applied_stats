{
 "cells": [
  {
   "cell_type": "markdown",
   "id": "69ef3c96",
   "metadata": {},
   "source": [
    "# How-to: Using SSB API data\n",
    "\n",
    "[Statistics Norway (Statistisk sentralbryå, SSB)](https://www.ssb.no) is an excellent source of data on Norway and the Norwegian population. Their [ready-made API data sets](https://data.ssb.no/api/?lang=en) are particularly convenient for accessing data on certain topics. But working with the data can still have some challenges. \n",
    "\n",
    "This How-to works through downloading, importing and working with ready-made datasets using Python and Pandas"
   ]
  },
  {
   "cell_type": "code",
   "execution_count": 2,
   "id": "50ef302f",
   "metadata": {},
   "outputs": [],
   "source": [
    "import pandas as pd\n",
    "import numpy as np\n",
    "import matplotlib as mpt\n",
    "import matplotlib.pyplot as plt\n",
    "import seaborn as sns\n",
    "import statsmodels.formula.api as smf\n",
    "import statsmodels.api as sm"
   ]
  },
  {
   "cell_type": "markdown",
   "id": "b6536f47",
   "metadata": {},
   "source": [
    "Let us start by downloading a simple dataset of population of each municipality (kommune) over many years. We can use the direct link to the csv dataset.\n",
    "\n",
    "Notice that I specify *encoding = \"ISO-8859-1\"*. This is because otherwise python has difficulty interpreting the special Norwegian characters (Ø,Æ,Å)."
   ]
  },
  {
   "cell_type": "code",
   "execution_count": 3,
   "id": "0544b97c",
   "metadata": {},
   "outputs": [],
   "source": [
    "pop = pd.read_csv(\"https://data.ssb.no/api/v0/dataset/26975.csv?lang=en\", encoding = \"ISO-8859-1\")\n"
   ]
  },
  {
   "cell_type": "markdown",
   "id": "8556ba94",
   "metadata": {},
   "source": [
    "The above data set is from the english-language version of the open API dataset. If you import the data from the norwegian language dataset you need a slight change in the command: "
   ]
  },
  {
   "cell_type": "code",
   "execution_count": 5,
   "id": "0179052f",
   "metadata": {},
   "outputs": [],
   "source": [
    "pop = pd.read_csv(\"https://data.ssb.no/api/v0/dataset/26975.csv?lang=no\", \n",
    "                  encoding = \"ISO-8859-1\", sep=\";\", decimal=\",\")\n"
   ]
  },
  {
   "cell_type": "markdown",
   "id": "ddd63eb0",
   "metadata": {},
   "source": [
    "The difference is because in the Norwegian-language data, a decimal is represented as a \",\" rather than a \".\". So we would write 5,8 for example, rather than 5.8. \n",
    "\n",
    "That also means that unlike in the english-language data, where a *,* is used to seperate the columns, the norwegian data uses \";\" to seperate columns. \n",
    "\n",
    "You can put the above URL's to see the raw data. "
   ]
  },
  {
   "cell_type": "markdown",
   "id": "b529b8af",
   "metadata": {},
   "source": [
    "We can take a look at the dataset and the columns"
   ]
  },
  {
   "cell_type": "code",
   "execution_count": 4,
   "id": "1b9afddd",
   "metadata": {},
   "outputs": [
    {
     "data": {
      "text/html": [
       "<div>\n",
       "<style scoped>\n",
       "    .dataframe tbody tr th:only-of-type {\n",
       "        vertical-align: middle;\n",
       "    }\n",
       "\n",
       "    .dataframe tbody tr th {\n",
       "        vertical-align: top;\n",
       "    }\n",
       "\n",
       "    .dataframe thead th {\n",
       "        text-align: right;\n",
       "    }\n",
       "</style>\n",
       "<table border=\"1\" class=\"dataframe\">\n",
       "  <thead>\n",
       "    <tr style=\"text-align: right;\">\n",
       "      <th></th>\n",
       "      <th>region</th>\n",
       "      <th>year</th>\n",
       "      <th>contents</th>\n",
       "      <th>07459: Population, by region, year and contents</th>\n",
       "    </tr>\n",
       "  </thead>\n",
       "  <tbody>\n",
       "    <tr>\n",
       "      <th>0</th>\n",
       "      <td>K-3001 Halden</td>\n",
       "      <td>1986</td>\n",
       "      <td>Persons</td>\n",
       "      <td>25844</td>\n",
       "    </tr>\n",
       "    <tr>\n",
       "      <th>1</th>\n",
       "      <td>K-3001 Halden</td>\n",
       "      <td>1987</td>\n",
       "      <td>Persons</td>\n",
       "      <td>25807</td>\n",
       "    </tr>\n",
       "    <tr>\n",
       "      <th>2</th>\n",
       "      <td>K-3001 Halden</td>\n",
       "      <td>1988</td>\n",
       "      <td>Persons</td>\n",
       "      <td>25848</td>\n",
       "    </tr>\n",
       "    <tr>\n",
       "      <th>3</th>\n",
       "      <td>K-3001 Halden</td>\n",
       "      <td>1989</td>\n",
       "      <td>Persons</td>\n",
       "      <td>25841</td>\n",
       "    </tr>\n",
       "    <tr>\n",
       "      <th>4</th>\n",
       "      <td>K-3001 Halden</td>\n",
       "      <td>1990</td>\n",
       "      <td>Persons</td>\n",
       "      <td>25816</td>\n",
       "    </tr>\n",
       "    <tr>\n",
       "      <th>...</th>\n",
       "      <td>...</td>\n",
       "      <td>...</td>\n",
       "      <td>...</td>\n",
       "      <td>...</td>\n",
       "    </tr>\n",
       "    <tr>\n",
       "      <th>13278</th>\n",
       "      <td>K-Rest Divided municalities and unknown</td>\n",
       "      <td>2018</td>\n",
       "      <td>Persons</td>\n",
       "      <td>53892</td>\n",
       "    </tr>\n",
       "    <tr>\n",
       "      <th>13279</th>\n",
       "      <td>K-Rest Divided municalities and unknown</td>\n",
       "      <td>2019</td>\n",
       "      <td>Persons</td>\n",
       "      <td>53951</td>\n",
       "    </tr>\n",
       "    <tr>\n",
       "      <th>13280</th>\n",
       "      <td>K-Rest Divided municalities and unknown</td>\n",
       "      <td>2020</td>\n",
       "      <td>Persons</td>\n",
       "      <td>0</td>\n",
       "    </tr>\n",
       "    <tr>\n",
       "      <th>13281</th>\n",
       "      <td>K-Rest Divided municalities and unknown</td>\n",
       "      <td>2021</td>\n",
       "      <td>Persons</td>\n",
       "      <td>0</td>\n",
       "    </tr>\n",
       "    <tr>\n",
       "      <th>13282</th>\n",
       "      <td>K-Rest Divided municalities and unknown</td>\n",
       "      <td>2022</td>\n",
       "      <td>Persons</td>\n",
       "      <td>0</td>\n",
       "    </tr>\n",
       "  </tbody>\n",
       "</table>\n",
       "<p>13283 rows × 4 columns</p>\n",
       "</div>"
      ],
      "text/plain": [
       "                                        region  year contents  \\\n",
       "0                                K-3001 Halden  1986  Persons   \n",
       "1                                K-3001 Halden  1987  Persons   \n",
       "2                                K-3001 Halden  1988  Persons   \n",
       "3                                K-3001 Halden  1989  Persons   \n",
       "4                                K-3001 Halden  1990  Persons   \n",
       "...                                        ...   ...      ...   \n",
       "13278  K-Rest Divided municalities and unknown  2018  Persons   \n",
       "13279  K-Rest Divided municalities and unknown  2019  Persons   \n",
       "13280  K-Rest Divided municalities and unknown  2020  Persons   \n",
       "13281  K-Rest Divided municalities and unknown  2021  Persons   \n",
       "13282  K-Rest Divided municalities and unknown  2022  Persons   \n",
       "\n",
       "       07459: Population, by region, year and contents  \n",
       "0                                                25844  \n",
       "1                                                25807  \n",
       "2                                                25848  \n",
       "3                                                25841  \n",
       "4                                                25816  \n",
       "...                                                ...  \n",
       "13278                                            53892  \n",
       "13279                                            53951  \n",
       "13280                                                0  \n",
       "13281                                                0  \n",
       "13282                                                0  \n",
       "\n",
       "[13283 rows x 4 columns]"
      ]
     },
     "execution_count": 4,
     "metadata": {},
     "output_type": "execute_result"
    }
   ],
   "source": [
    "pop"
   ]
  },
  {
   "cell_type": "markdown",
   "id": "d861d45e",
   "metadata": {},
   "source": [
    "We notice that the *region* variable includes a combination of the municipality number and the name of the municipality. \n",
    "\n",
    "We can use the string (text) functions that are integrated in pandas in order to extract the municipality number (kommunenummer) and put it in a seperate columns. In particular we will use the *slice()* function which extracts a portion of a text object from a start point upto (but not including) an end point. "
   ]
  },
  {
   "cell_type": "code",
   "execution_count": 5,
   "id": "7fc8ca5f",
   "metadata": {},
   "outputs": [
    {
     "data": {
      "text/html": [
       "<div>\n",
       "<style scoped>\n",
       "    .dataframe tbody tr th:only-of-type {\n",
       "        vertical-align: middle;\n",
       "    }\n",
       "\n",
       "    .dataframe tbody tr th {\n",
       "        vertical-align: top;\n",
       "    }\n",
       "\n",
       "    .dataframe thead th {\n",
       "        text-align: right;\n",
       "    }\n",
       "</style>\n",
       "<table border=\"1\" class=\"dataframe\">\n",
       "  <thead>\n",
       "    <tr style=\"text-align: right;\">\n",
       "      <th></th>\n",
       "      <th>region</th>\n",
       "      <th>year</th>\n",
       "      <th>contents</th>\n",
       "      <th>07459: Population, by region, year and contents</th>\n",
       "      <th>kommunenummer</th>\n",
       "    </tr>\n",
       "  </thead>\n",
       "  <tbody>\n",
       "    <tr>\n",
       "      <th>0</th>\n",
       "      <td>K-3001 Halden</td>\n",
       "      <td>1986</td>\n",
       "      <td>Persons</td>\n",
       "      <td>25844</td>\n",
       "      <td>3001</td>\n",
       "    </tr>\n",
       "    <tr>\n",
       "      <th>1</th>\n",
       "      <td>K-3001 Halden</td>\n",
       "      <td>1987</td>\n",
       "      <td>Persons</td>\n",
       "      <td>25807</td>\n",
       "      <td>3001</td>\n",
       "    </tr>\n",
       "    <tr>\n",
       "      <th>2</th>\n",
       "      <td>K-3001 Halden</td>\n",
       "      <td>1988</td>\n",
       "      <td>Persons</td>\n",
       "      <td>25848</td>\n",
       "      <td>3001</td>\n",
       "    </tr>\n",
       "    <tr>\n",
       "      <th>3</th>\n",
       "      <td>K-3001 Halden</td>\n",
       "      <td>1989</td>\n",
       "      <td>Persons</td>\n",
       "      <td>25841</td>\n",
       "      <td>3001</td>\n",
       "    </tr>\n",
       "    <tr>\n",
       "      <th>4</th>\n",
       "      <td>K-3001 Halden</td>\n",
       "      <td>1990</td>\n",
       "      <td>Persons</td>\n",
       "      <td>25816</td>\n",
       "      <td>3001</td>\n",
       "    </tr>\n",
       "    <tr>\n",
       "      <th>...</th>\n",
       "      <td>...</td>\n",
       "      <td>...</td>\n",
       "      <td>...</td>\n",
       "      <td>...</td>\n",
       "      <td>...</td>\n",
       "    </tr>\n",
       "    <tr>\n",
       "      <th>13278</th>\n",
       "      <td>K-Rest Divided municalities and unknown</td>\n",
       "      <td>2018</td>\n",
       "      <td>Persons</td>\n",
       "      <td>53892</td>\n",
       "      <td>Rest</td>\n",
       "    </tr>\n",
       "    <tr>\n",
       "      <th>13279</th>\n",
       "      <td>K-Rest Divided municalities and unknown</td>\n",
       "      <td>2019</td>\n",
       "      <td>Persons</td>\n",
       "      <td>53951</td>\n",
       "      <td>Rest</td>\n",
       "    </tr>\n",
       "    <tr>\n",
       "      <th>13280</th>\n",
       "      <td>K-Rest Divided municalities and unknown</td>\n",
       "      <td>2020</td>\n",
       "      <td>Persons</td>\n",
       "      <td>0</td>\n",
       "      <td>Rest</td>\n",
       "    </tr>\n",
       "    <tr>\n",
       "      <th>13281</th>\n",
       "      <td>K-Rest Divided municalities and unknown</td>\n",
       "      <td>2021</td>\n",
       "      <td>Persons</td>\n",
       "      <td>0</td>\n",
       "      <td>Rest</td>\n",
       "    </tr>\n",
       "    <tr>\n",
       "      <th>13282</th>\n",
       "      <td>K-Rest Divided municalities and unknown</td>\n",
       "      <td>2022</td>\n",
       "      <td>Persons</td>\n",
       "      <td>0</td>\n",
       "      <td>Rest</td>\n",
       "    </tr>\n",
       "  </tbody>\n",
       "</table>\n",
       "<p>13283 rows × 5 columns</p>\n",
       "</div>"
      ],
      "text/plain": [
       "                                        region  year contents  \\\n",
       "0                                K-3001 Halden  1986  Persons   \n",
       "1                                K-3001 Halden  1987  Persons   \n",
       "2                                K-3001 Halden  1988  Persons   \n",
       "3                                K-3001 Halden  1989  Persons   \n",
       "4                                K-3001 Halden  1990  Persons   \n",
       "...                                        ...   ...      ...   \n",
       "13278  K-Rest Divided municalities and unknown  2018  Persons   \n",
       "13279  K-Rest Divided municalities and unknown  2019  Persons   \n",
       "13280  K-Rest Divided municalities and unknown  2020  Persons   \n",
       "13281  K-Rest Divided municalities and unknown  2021  Persons   \n",
       "13282  K-Rest Divided municalities and unknown  2022  Persons   \n",
       "\n",
       "       07459: Population, by region, year and contents kommunenummer  \n",
       "0                                                25844          3001  \n",
       "1                                                25807          3001  \n",
       "2                                                25848          3001  \n",
       "3                                                25841          3001  \n",
       "4                                                25816          3001  \n",
       "...                                                ...           ...  \n",
       "13278                                            53892          Rest  \n",
       "13279                                            53951          Rest  \n",
       "13280                                                0          Rest  \n",
       "13281                                                0          Rest  \n",
       "13282                                                0          Rest  \n",
       "\n",
       "[13283 rows x 5 columns]"
      ]
     },
     "execution_count": 5,
     "metadata": {},
     "output_type": "execute_result"
    }
   ],
   "source": [
    "pop[\"kommunenummer\"] = pop.region.str.slice(start=2, stop=6)\n",
    "pop"
   ]
  },
  {
   "cell_type": "markdown",
   "id": "7bb24f4c",
   "metadata": {},
   "source": [
    "We get some extra entries at the bottom which we would like to exclude: "
   ]
  },
  {
   "cell_type": "code",
   "execution_count": 6,
   "id": "0fe490ad",
   "metadata": {},
   "outputs": [],
   "source": [
    "pop = pop.loc[pop.kommunenummer!=\"Rest\",:]\n",
    "pop = pop.loc[pop.kommunenummer!=\"23 K\",:]\n",
    "pop = pop.loc[pop.kommunenummer!=\"21-2\",:]\n",
    "pop = pop.loc[pop.kommunenummer!=\"23 C\",:]"
   ]
  },
  {
   "cell_type": "markdown",
   "id": "bffee765",
   "metadata": {},
   "source": [
    "If we are downloading several similar datasets, and we wish to repeat the steps above, we could put the above within a function:"
   ]
  },
  {
   "cell_type": "code",
   "execution_count": 7,
   "id": "de83e909",
   "metadata": {},
   "outputs": [],
   "source": [
    "def cleanRegion(df, start, stop): \n",
    "        # takes the \"region\" column\n",
    "        #then the municipality number (kommunenummer) then the name of the municipality \"kommunenavn\"\n",
    "        #Here we can extract the number from this string using the slice function, \n",
    "        #extracting the string from position 2 upto 6\n",
    "        \n",
    "        df[\"kommunenummer\"] = df.region.str.slice(start=start, stop=stop)\n",
    "        df = df.loc[df.kommunenummer!=\"Rest\",:]\n",
    "        df = df.loc[df.kommunenummer!=\"23 K\",:]\n",
    "        df = df.loc[df.kommunenummer!=\"21-2\",:]\n",
    "        df = df.loc[df.kommunenummer!=\"23 C\",:]\n",
    "        return(df)"
   ]
  },
  {
   "cell_type": "markdown",
   "id": "af26a7c0",
   "metadata": {},
   "source": [
    "Then we could simply do this: "
   ]
  },
  {
   "cell_type": "code",
   "execution_count": 8,
   "id": "59428e9b",
   "metadata": {},
   "outputs": [],
   "source": [
    "\n",
    "pop = cleanRegion(pop, 2, 6)"
   ]
  },
  {
   "cell_type": "markdown",
   "id": "829ffb53",
   "metadata": {},
   "source": [
    "Let's take a look at the variables in our dataset: "
   ]
  },
  {
   "cell_type": "code",
   "execution_count": 9,
   "id": "4753482b",
   "metadata": {},
   "outputs": [
    {
     "data": {
      "text/plain": [
       "Index(['region', 'year', 'contents',\n",
       "       '07459: Population, by region, year and contents', 'kommunenummer'],\n",
       "      dtype='object')"
      ]
     },
     "execution_count": 9,
     "metadata": {},
     "output_type": "execute_result"
    }
   ],
   "source": [
    "pop.columns\n"
   ]
  },
  {
   "cell_type": "markdown",
   "id": "1037dc20",
   "metadata": {},
   "source": [
    "Let's change simplify the variable name for the population variable:"
   ]
  },
  {
   "cell_type": "code",
   "execution_count": 10,
   "id": "6b6de9cd",
   "metadata": {},
   "outputs": [],
   "source": [
    "pop = pop.rename(columns = {'07459: Population, by region, year and contents':\"population\"})"
   ]
  },
  {
   "cell_type": "code",
   "execution_count": 11,
   "id": "4dcbdf7a",
   "metadata": {},
   "outputs": [
    {
     "data": {
      "text/html": [
       "<div>\n",
       "<style scoped>\n",
       "    .dataframe tbody tr th:only-of-type {\n",
       "        vertical-align: middle;\n",
       "    }\n",
       "\n",
       "    .dataframe tbody tr th {\n",
       "        vertical-align: top;\n",
       "    }\n",
       "\n",
       "    .dataframe thead th {\n",
       "        text-align: right;\n",
       "    }\n",
       "</style>\n",
       "<table border=\"1\" class=\"dataframe\">\n",
       "  <thead>\n",
       "    <tr style=\"text-align: right;\">\n",
       "      <th></th>\n",
       "      <th>region</th>\n",
       "      <th>year</th>\n",
       "      <th>contents</th>\n",
       "      <th>population</th>\n",
       "      <th>kommunenummer</th>\n",
       "    </tr>\n",
       "  </thead>\n",
       "  <tbody>\n",
       "    <tr>\n",
       "      <th>0</th>\n",
       "      <td>K-3001 Halden</td>\n",
       "      <td>1986</td>\n",
       "      <td>Persons</td>\n",
       "      <td>25844</td>\n",
       "      <td>3001</td>\n",
       "    </tr>\n",
       "    <tr>\n",
       "      <th>1</th>\n",
       "      <td>K-3001 Halden</td>\n",
       "      <td>1987</td>\n",
       "      <td>Persons</td>\n",
       "      <td>25807</td>\n",
       "      <td>3001</td>\n",
       "    </tr>\n",
       "    <tr>\n",
       "      <th>2</th>\n",
       "      <td>K-3001 Halden</td>\n",
       "      <td>1988</td>\n",
       "      <td>Persons</td>\n",
       "      <td>25848</td>\n",
       "      <td>3001</td>\n",
       "    </tr>\n",
       "    <tr>\n",
       "      <th>3</th>\n",
       "      <td>K-3001 Halden</td>\n",
       "      <td>1989</td>\n",
       "      <td>Persons</td>\n",
       "      <td>25841</td>\n",
       "      <td>3001</td>\n",
       "    </tr>\n",
       "    <tr>\n",
       "      <th>4</th>\n",
       "      <td>K-3001 Halden</td>\n",
       "      <td>1990</td>\n",
       "      <td>Persons</td>\n",
       "      <td>25816</td>\n",
       "      <td>3001</td>\n",
       "    </tr>\n",
       "    <tr>\n",
       "      <th>...</th>\n",
       "      <td>...</td>\n",
       "      <td>...</td>\n",
       "      <td>...</td>\n",
       "      <td>...</td>\n",
       "      <td>...</td>\n",
       "    </tr>\n",
       "    <tr>\n",
       "      <th>13167</th>\n",
       "      <td>K-5444 Sør-Varanger</td>\n",
       "      <td>2018</td>\n",
       "      <td>Persons</td>\n",
       "      <td>10171</td>\n",
       "      <td>5444</td>\n",
       "    </tr>\n",
       "    <tr>\n",
       "      <th>13168</th>\n",
       "      <td>K-5444 Sør-Varanger</td>\n",
       "      <td>2019</td>\n",
       "      <td>Persons</td>\n",
       "      <td>10156</td>\n",
       "      <td>5444</td>\n",
       "    </tr>\n",
       "    <tr>\n",
       "      <th>13169</th>\n",
       "      <td>K-5444 Sør-Varanger</td>\n",
       "      <td>2020</td>\n",
       "      <td>Persons</td>\n",
       "      <td>10158</td>\n",
       "      <td>5444</td>\n",
       "    </tr>\n",
       "    <tr>\n",
       "      <th>13170</th>\n",
       "      <td>K-5444 Sør-Varanger</td>\n",
       "      <td>2021</td>\n",
       "      <td>Persons</td>\n",
       "      <td>10103</td>\n",
       "      <td>5444</td>\n",
       "    </tr>\n",
       "    <tr>\n",
       "      <th>13171</th>\n",
       "      <td>K-5444 Sør-Varanger</td>\n",
       "      <td>2022</td>\n",
       "      <td>Persons</td>\n",
       "      <td>9925</td>\n",
       "      <td>5444</td>\n",
       "    </tr>\n",
       "  </tbody>\n",
       "</table>\n",
       "<p>13172 rows × 5 columns</p>\n",
       "</div>"
      ],
      "text/plain": [
       "                    region  year contents  population kommunenummer\n",
       "0            K-3001 Halden  1986  Persons       25844          3001\n",
       "1            K-3001 Halden  1987  Persons       25807          3001\n",
       "2            K-3001 Halden  1988  Persons       25848          3001\n",
       "3            K-3001 Halden  1989  Persons       25841          3001\n",
       "4            K-3001 Halden  1990  Persons       25816          3001\n",
       "...                    ...   ...      ...         ...           ...\n",
       "13167  K-5444 Sør-Varanger  2018  Persons       10171          5444\n",
       "13168  K-5444 Sør-Varanger  2019  Persons       10156          5444\n",
       "13169  K-5444 Sør-Varanger  2020  Persons       10158          5444\n",
       "13170  K-5444 Sør-Varanger  2021  Persons       10103          5444\n",
       "13171  K-5444 Sør-Varanger  2022  Persons        9925          5444\n",
       "\n",
       "[13172 rows x 5 columns]"
      ]
     },
     "execution_count": 11,
     "metadata": {},
     "output_type": "execute_result"
    }
   ],
   "source": [
    "pop"
   ]
  },
  {
   "cell_type": "markdown",
   "id": "7f3b8663",
   "metadata": {},
   "source": [
    "We now have a fairly clean data set that we could use in an analysis. \n",
    "\n",
    "Now let's work with a slightly more complex data set: data on median incomes in Norwegian municipalities"
   ]
  },
  {
   "cell_type": "code",
   "execution_count": 12,
   "id": "ecace394",
   "metadata": {},
   "outputs": [],
   "source": [
    "income = pd.read_csv(\"https://data.ssb.no/api/v0/dataset/49678.csv?lang=en\", encoding = \"ISO-8859-1\")\n"
   ]
  },
  {
   "cell_type": "markdown",
   "id": "b6530938",
   "metadata": {},
   "source": [
    "Again, let's look at the variables"
   ]
  },
  {
   "cell_type": "code",
   "execution_count": 13,
   "id": "f1291bb7",
   "metadata": {},
   "outputs": [
    {
     "data": {
      "text/plain": [
       "Index(['region', 'type of household', 'contents', 'year',\n",
       "       '06944: Households' income, by region, type of household, contents and year'],\n",
       "      dtype='object')"
      ]
     },
     "execution_count": 13,
     "metadata": {},
     "output_type": "execute_result"
    }
   ],
   "source": [
    "income.columns"
   ]
  },
  {
   "cell_type": "markdown",
   "id": "ec4e72d6",
   "metadata": {},
   "source": [
    "We will use the *.rename()* function to simplify the names of a couple of the variables"
   ]
  },
  {
   "cell_type": "code",
   "execution_count": 14,
   "id": "945fe059",
   "metadata": {},
   "outputs": [],
   "source": [
    "income = income.rename(columns={\"06944: Households' income, by region, type of household, contents and year\":\"median_income\", \"type of household\":\"type\"})"
   ]
  },
  {
   "cell_type": "markdown",
   "id": "9ce7c8b4",
   "metadata": {},
   "source": [
    "Let's take a closer look at the variable we renamed \"type\". By using the *.unique()* function, we get only the unique instances of this categorical variable"
   ]
  },
  {
   "cell_type": "code",
   "execution_count": 15,
   "id": "ee9e160c",
   "metadata": {},
   "outputs": [
    {
     "data": {
      "text/plain": [
       "array(['0000 All households', '0001 Living alone',\n",
       "       '0002 Couple without resident children',\n",
       "       '0003 Couple with resident children 0-17 year',\n",
       "       '0004 Single mother/father with children 0-17 year'], dtype=object)"
      ]
     },
     "execution_count": 15,
     "metadata": {},
     "output_type": "execute_result"
    }
   ],
   "source": [
    "income.type.unique()"
   ]
  },
  {
   "cell_type": "markdown",
   "id": "88a745a5",
   "metadata": {},
   "source": [
    "Let's limit our data now to the one category - median income for \"All households\""
   ]
  },
  {
   "cell_type": "code",
   "execution_count": 16,
   "id": "cb94696e",
   "metadata": {},
   "outputs": [],
   "source": [
    "income_all = income.loc[income.type=='0000 All households'].copy()"
   ]
  },
  {
   "cell_type": "code",
   "execution_count": 17,
   "id": "5e7ec785",
   "metadata": {},
   "outputs": [
    {
     "data": {
      "text/html": [
       "<div>\n",
       "<style scoped>\n",
       "    .dataframe tbody tr th:only-of-type {\n",
       "        vertical-align: middle;\n",
       "    }\n",
       "\n",
       "    .dataframe tbody tr th {\n",
       "        vertical-align: top;\n",
       "    }\n",
       "\n",
       "    .dataframe thead th {\n",
       "        text-align: right;\n",
       "    }\n",
       "</style>\n",
       "<table border=\"1\" class=\"dataframe\">\n",
       "  <thead>\n",
       "    <tr style=\"text-align: right;\">\n",
       "      <th></th>\n",
       "      <th>region</th>\n",
       "      <th>type</th>\n",
       "      <th>contents</th>\n",
       "      <th>year</th>\n",
       "      <th>median_income</th>\n",
       "    </tr>\n",
       "  </thead>\n",
       "  <tbody>\n",
       "    <tr>\n",
       "      <th>0</th>\n",
       "      <td>3001 Halden</td>\n",
       "      <td>0000 All households</td>\n",
       "      <td>Total income, median (NOK)</td>\n",
       "      <td>2005</td>\n",
       "      <td>.</td>\n",
       "    </tr>\n",
       "    <tr>\n",
       "      <th>1</th>\n",
       "      <td>3001 Halden</td>\n",
       "      <td>0000 All households</td>\n",
       "      <td>Total income, median (NOK)</td>\n",
       "      <td>2006</td>\n",
       "      <td>.</td>\n",
       "    </tr>\n",
       "    <tr>\n",
       "      <th>2</th>\n",
       "      <td>3001 Halden</td>\n",
       "      <td>0000 All households</td>\n",
       "      <td>Total income, median (NOK)</td>\n",
       "      <td>2007</td>\n",
       "      <td>.</td>\n",
       "    </tr>\n",
       "    <tr>\n",
       "      <th>3</th>\n",
       "      <td>3001 Halden</td>\n",
       "      <td>0000 All households</td>\n",
       "      <td>Total income, median (NOK)</td>\n",
       "      <td>2008</td>\n",
       "      <td>.</td>\n",
       "    </tr>\n",
       "    <tr>\n",
       "      <th>4</th>\n",
       "      <td>3001 Halden</td>\n",
       "      <td>0000 All households</td>\n",
       "      <td>Total income, median (NOK)</td>\n",
       "      <td>2009</td>\n",
       "      <td>.</td>\n",
       "    </tr>\n",
       "    <tr>\n",
       "      <th>...</th>\n",
       "      <td>...</td>\n",
       "      <td>...</td>\n",
       "      <td>...</td>\n",
       "      <td>...</td>\n",
       "      <td>...</td>\n",
       "    </tr>\n",
       "    <tr>\n",
       "      <th>176683</th>\n",
       "      <td>2030 Sør-Varanger (-2019)</td>\n",
       "      <td>0000 All households</td>\n",
       "      <td>Households</td>\n",
       "      <td>2016</td>\n",
       "      <td>4707</td>\n",
       "    </tr>\n",
       "    <tr>\n",
       "      <th>176684</th>\n",
       "      <td>2030 Sør-Varanger (-2019)</td>\n",
       "      <td>0000 All households</td>\n",
       "      <td>Households</td>\n",
       "      <td>2017</td>\n",
       "      <td>4720</td>\n",
       "    </tr>\n",
       "    <tr>\n",
       "      <th>176685</th>\n",
       "      <td>2030 Sør-Varanger (-2019)</td>\n",
       "      <td>0000 All households</td>\n",
       "      <td>Households</td>\n",
       "      <td>2018</td>\n",
       "      <td>4763</td>\n",
       "    </tr>\n",
       "    <tr>\n",
       "      <th>176686</th>\n",
       "      <td>2030 Sør-Varanger (-2019)</td>\n",
       "      <td>0000 All households</td>\n",
       "      <td>Households</td>\n",
       "      <td>2019</td>\n",
       "      <td>4807</td>\n",
       "    </tr>\n",
       "    <tr>\n",
       "      <th>176687</th>\n",
       "      <td>2030 Sør-Varanger (-2019)</td>\n",
       "      <td>0000 All households</td>\n",
       "      <td>Households</td>\n",
       "      <td>2020</td>\n",
       "      <td>.</td>\n",
       "    </tr>\n",
       "  </tbody>\n",
       "</table>\n",
       "<p>35376 rows × 5 columns</p>\n",
       "</div>"
      ],
      "text/plain": [
       "                           region                 type  \\\n",
       "0                     3001 Halden  0000 All households   \n",
       "1                     3001 Halden  0000 All households   \n",
       "2                     3001 Halden  0000 All households   \n",
       "3                     3001 Halden  0000 All households   \n",
       "4                     3001 Halden  0000 All households   \n",
       "...                           ...                  ...   \n",
       "176683  2030 Sør-Varanger (-2019)  0000 All households   \n",
       "176684  2030 Sør-Varanger (-2019)  0000 All households   \n",
       "176685  2030 Sør-Varanger (-2019)  0000 All households   \n",
       "176686  2030 Sør-Varanger (-2019)  0000 All households   \n",
       "176687  2030 Sør-Varanger (-2019)  0000 All households   \n",
       "\n",
       "                          contents  year median_income  \n",
       "0       Total income, median (NOK)  2005             .  \n",
       "1       Total income, median (NOK)  2006             .  \n",
       "2       Total income, median (NOK)  2007             .  \n",
       "3       Total income, median (NOK)  2008             .  \n",
       "4       Total income, median (NOK)  2009             .  \n",
       "...                            ...   ...           ...  \n",
       "176683                  Households  2016          4707  \n",
       "176684                  Households  2017          4720  \n",
       "176685                  Households  2018          4763  \n",
       "176686                  Households  2019          4807  \n",
       "176687                  Households  2020             .  \n",
       "\n",
       "[35376 rows x 5 columns]"
      ]
     },
     "execution_count": 17,
     "metadata": {},
     "output_type": "execute_result"
    }
   ],
   "source": [
    "income_all"
   ]
  },
  {
   "cell_type": "markdown",
   "id": "3e0398c6",
   "metadata": {},
   "source": [
    "Let's take a look at the data types for each variable"
   ]
  },
  {
   "cell_type": "code",
   "execution_count": 18,
   "id": "c6dcdfb8",
   "metadata": {},
   "outputs": [
    {
     "data": {
      "text/plain": [
       "region           object\n",
       "type             object\n",
       "contents         object\n",
       "year              int64\n",
       "median_income    object\n",
       "dtype: object"
      ]
     },
     "execution_count": 18,
     "metadata": {},
     "output_type": "execute_result"
    }
   ],
   "source": [
    "income_all.dtypes"
   ]
  },
  {
   "cell_type": "markdown",
   "id": "4fbfbfe4",
   "metadata": {},
   "source": [
    "We notice that the data type for the *median_income* variable is stated as \"object\", which basically means that pandas does not recognize this variable as a numerical variable. \n",
    "\n",
    "We want to convert this variable to be recognized as a numerical value. \n",
    "\n",
    "- One problem is that SSB signifies missing data as \".\" or \":\". We want to replace these characters with the python indication for missing values, np.nan\n",
    "\n",
    "- We then want convert the series to be a numeric \"float\" value (float stands for floating numerical value, which is the way that a computer stores real numbers.)"
   ]
  },
  {
   "cell_type": "code",
   "execution_count": 19,
   "id": "95c7b0ae",
   "metadata": {},
   "outputs": [],
   "source": [
    "income_all.loc[:,\"median_income\"] = income_all.median_income.replace(\".\", np.nan)\n",
    "income_all.loc[:,\"median_income\"] = income_all.median_income.replace(\":\", np.nan)\n",
    "income_all.loc[:,\"median_income\"] = income_all.median_income.astype(float)"
   ]
  },
  {
   "cell_type": "code",
   "execution_count": 20,
   "id": "17a56cbf",
   "metadata": {},
   "outputs": [
    {
     "data": {
      "text/html": [
       "<div>\n",
       "<style scoped>\n",
       "    .dataframe tbody tr th:only-of-type {\n",
       "        vertical-align: middle;\n",
       "    }\n",
       "\n",
       "    .dataframe tbody tr th {\n",
       "        vertical-align: top;\n",
       "    }\n",
       "\n",
       "    .dataframe thead th {\n",
       "        text-align: right;\n",
       "    }\n",
       "</style>\n",
       "<table border=\"1\" class=\"dataframe\">\n",
       "  <thead>\n",
       "    <tr style=\"text-align: right;\">\n",
       "      <th></th>\n",
       "      <th>region</th>\n",
       "      <th>type</th>\n",
       "      <th>contents</th>\n",
       "      <th>year</th>\n",
       "      <th>median_income</th>\n",
       "    </tr>\n",
       "  </thead>\n",
       "  <tbody>\n",
       "    <tr>\n",
       "      <th>0</th>\n",
       "      <td>3001 Halden</td>\n",
       "      <td>0000 All households</td>\n",
       "      <td>Total income, median (NOK)</td>\n",
       "      <td>2005</td>\n",
       "      <td>NaN</td>\n",
       "    </tr>\n",
       "    <tr>\n",
       "      <th>1</th>\n",
       "      <td>3001 Halden</td>\n",
       "      <td>0000 All households</td>\n",
       "      <td>Total income, median (NOK)</td>\n",
       "      <td>2006</td>\n",
       "      <td>NaN</td>\n",
       "    </tr>\n",
       "    <tr>\n",
       "      <th>2</th>\n",
       "      <td>3001 Halden</td>\n",
       "      <td>0000 All households</td>\n",
       "      <td>Total income, median (NOK)</td>\n",
       "      <td>2007</td>\n",
       "      <td>NaN</td>\n",
       "    </tr>\n",
       "    <tr>\n",
       "      <th>3</th>\n",
       "      <td>3001 Halden</td>\n",
       "      <td>0000 All households</td>\n",
       "      <td>Total income, median (NOK)</td>\n",
       "      <td>2008</td>\n",
       "      <td>NaN</td>\n",
       "    </tr>\n",
       "    <tr>\n",
       "      <th>4</th>\n",
       "      <td>3001 Halden</td>\n",
       "      <td>0000 All households</td>\n",
       "      <td>Total income, median (NOK)</td>\n",
       "      <td>2009</td>\n",
       "      <td>NaN</td>\n",
       "    </tr>\n",
       "    <tr>\n",
       "      <th>...</th>\n",
       "      <td>...</td>\n",
       "      <td>...</td>\n",
       "      <td>...</td>\n",
       "      <td>...</td>\n",
       "      <td>...</td>\n",
       "    </tr>\n",
       "    <tr>\n",
       "      <th>176683</th>\n",
       "      <td>2030 Sør-Varanger (-2019)</td>\n",
       "      <td>0000 All households</td>\n",
       "      <td>Households</td>\n",
       "      <td>2016</td>\n",
       "      <td>4707.0</td>\n",
       "    </tr>\n",
       "    <tr>\n",
       "      <th>176684</th>\n",
       "      <td>2030 Sør-Varanger (-2019)</td>\n",
       "      <td>0000 All households</td>\n",
       "      <td>Households</td>\n",
       "      <td>2017</td>\n",
       "      <td>4720.0</td>\n",
       "    </tr>\n",
       "    <tr>\n",
       "      <th>176685</th>\n",
       "      <td>2030 Sør-Varanger (-2019)</td>\n",
       "      <td>0000 All households</td>\n",
       "      <td>Households</td>\n",
       "      <td>2018</td>\n",
       "      <td>4763.0</td>\n",
       "    </tr>\n",
       "    <tr>\n",
       "      <th>176686</th>\n",
       "      <td>2030 Sør-Varanger (-2019)</td>\n",
       "      <td>0000 All households</td>\n",
       "      <td>Households</td>\n",
       "      <td>2019</td>\n",
       "      <td>4807.0</td>\n",
       "    </tr>\n",
       "    <tr>\n",
       "      <th>176687</th>\n",
       "      <td>2030 Sør-Varanger (-2019)</td>\n",
       "      <td>0000 All households</td>\n",
       "      <td>Households</td>\n",
       "      <td>2020</td>\n",
       "      <td>NaN</td>\n",
       "    </tr>\n",
       "  </tbody>\n",
       "</table>\n",
       "<p>35376 rows × 5 columns</p>\n",
       "</div>"
      ],
      "text/plain": [
       "                           region                 type  \\\n",
       "0                     3001 Halden  0000 All households   \n",
       "1                     3001 Halden  0000 All households   \n",
       "2                     3001 Halden  0000 All households   \n",
       "3                     3001 Halden  0000 All households   \n",
       "4                     3001 Halden  0000 All households   \n",
       "...                           ...                  ...   \n",
       "176683  2030 Sør-Varanger (-2019)  0000 All households   \n",
       "176684  2030 Sør-Varanger (-2019)  0000 All households   \n",
       "176685  2030 Sør-Varanger (-2019)  0000 All households   \n",
       "176686  2030 Sør-Varanger (-2019)  0000 All households   \n",
       "176687  2030 Sør-Varanger (-2019)  0000 All households   \n",
       "\n",
       "                          contents  year  median_income  \n",
       "0       Total income, median (NOK)  2005            NaN  \n",
       "1       Total income, median (NOK)  2006            NaN  \n",
       "2       Total income, median (NOK)  2007            NaN  \n",
       "3       Total income, median (NOK)  2008            NaN  \n",
       "4       Total income, median (NOK)  2009            NaN  \n",
       "...                            ...   ...            ...  \n",
       "176683                  Households  2016         4707.0  \n",
       "176684                  Households  2017         4720.0  \n",
       "176685                  Households  2018         4763.0  \n",
       "176686                  Households  2019         4807.0  \n",
       "176687                  Households  2020            NaN  \n",
       "\n",
       "[35376 rows x 5 columns]"
      ]
     },
     "execution_count": 20,
     "metadata": {},
     "output_type": "execute_result"
    }
   ],
   "source": [
    "income_all"
   ]
  },
  {
   "cell_type": "markdown",
   "id": "c4c0948d",
   "metadata": {},
   "source": [
    "Now let's take a look at the \"contents\" column"
   ]
  },
  {
   "cell_type": "code",
   "execution_count": 21,
   "id": "b9dcd10a",
   "metadata": {},
   "outputs": [
    {
     "data": {
      "text/plain": [
       "array(['Total income, median (NOK)', 'Income after taxes, median (NOK)',\n",
       "       'Households'], dtype=object)"
      ]
     },
     "execution_count": 21,
     "metadata": {},
     "output_type": "execute_result"
    }
   ],
   "source": [
    "income_all.contents.unique()"
   ]
  },
  {
   "cell_type": "markdown",
   "id": "7e481ef5",
   "metadata": {},
   "source": [
    "So in this dataset, we have values for median after tax income, before tax income (\"total income\") and the number of households. These are presented in \"long\" format, with all values in one column. \n",
    "\n",
    "We can use the *.pivot* function to transform this data to be in \"wide\" format with a column for each of these data series. "
   ]
  },
  {
   "cell_type": "code",
   "execution_count": 22,
   "id": "a418297e",
   "metadata": {},
   "outputs": [],
   "source": [
    "income_all = income_all.pivot(index = [\"region\", \"year\"], columns=\"contents\", values=\"median_income\")"
   ]
  },
  {
   "cell_type": "code",
   "execution_count": 23,
   "id": "f1c03505",
   "metadata": {},
   "outputs": [
    {
     "data": {
      "text/html": [
       "<div>\n",
       "<style scoped>\n",
       "    .dataframe tbody tr th:only-of-type {\n",
       "        vertical-align: middle;\n",
       "    }\n",
       "\n",
       "    .dataframe tbody tr th {\n",
       "        vertical-align: top;\n",
       "    }\n",
       "\n",
       "    .dataframe thead th {\n",
       "        text-align: right;\n",
       "    }\n",
       "</style>\n",
       "<table border=\"1\" class=\"dataframe\">\n",
       "  <thead>\n",
       "    <tr style=\"text-align: right;\">\n",
       "      <th></th>\n",
       "      <th>contents</th>\n",
       "      <th>Households</th>\n",
       "      <th>Income after taxes, median (NOK)</th>\n",
       "      <th>Total income, median (NOK)</th>\n",
       "    </tr>\n",
       "    <tr>\n",
       "      <th>region</th>\n",
       "      <th>year</th>\n",
       "      <th></th>\n",
       "      <th></th>\n",
       "      <th></th>\n",
       "    </tr>\n",
       "  </thead>\n",
       "  <tbody>\n",
       "    <tr>\n",
       "      <th rowspan=\"5\" valign=\"top\">0101 Halden (-2019)</th>\n",
       "      <th>2005</th>\n",
       "      <td>12999.0</td>\n",
       "      <td>296000.0</td>\n",
       "      <td>372000.0</td>\n",
       "    </tr>\n",
       "    <tr>\n",
       "      <th>2006</th>\n",
       "      <td>12575.0</td>\n",
       "      <td>310000.0</td>\n",
       "      <td>393000.0</td>\n",
       "    </tr>\n",
       "    <tr>\n",
       "      <th>2007</th>\n",
       "      <td>12793.0</td>\n",
       "      <td>332000.0</td>\n",
       "      <td>417000.0</td>\n",
       "    </tr>\n",
       "    <tr>\n",
       "      <th>2008</th>\n",
       "      <td>12877.0</td>\n",
       "      <td>356000.0</td>\n",
       "      <td>445000.0</td>\n",
       "    </tr>\n",
       "    <tr>\n",
       "      <th>2009</th>\n",
       "      <td>13000.0</td>\n",
       "      <td>364000.0</td>\n",
       "      <td>456000.0</td>\n",
       "    </tr>\n",
       "    <tr>\n",
       "      <th>...</th>\n",
       "      <th>...</th>\n",
       "      <td>...</td>\n",
       "      <td>...</td>\n",
       "      <td>...</td>\n",
       "    </tr>\n",
       "    <tr>\n",
       "      <th rowspan=\"5\" valign=\"top\">5444 Sør-Varanger</th>\n",
       "      <th>2016</th>\n",
       "      <td>NaN</td>\n",
       "      <td>NaN</td>\n",
       "      <td>NaN</td>\n",
       "    </tr>\n",
       "    <tr>\n",
       "      <th>2017</th>\n",
       "      <td>NaN</td>\n",
       "      <td>NaN</td>\n",
       "      <td>NaN</td>\n",
       "    </tr>\n",
       "    <tr>\n",
       "      <th>2018</th>\n",
       "      <td>NaN</td>\n",
       "      <td>NaN</td>\n",
       "      <td>NaN</td>\n",
       "    </tr>\n",
       "    <tr>\n",
       "      <th>2019</th>\n",
       "      <td>NaN</td>\n",
       "      <td>NaN</td>\n",
       "      <td>NaN</td>\n",
       "    </tr>\n",
       "    <tr>\n",
       "      <th>2020</th>\n",
       "      <td>4873.0</td>\n",
       "      <td>539000.0</td>\n",
       "      <td>668000.0</td>\n",
       "    </tr>\n",
       "  </tbody>\n",
       "</table>\n",
       "<p>11792 rows × 3 columns</p>\n",
       "</div>"
      ],
      "text/plain": [
       "contents                  Households  Income after taxes, median (NOK)  \\\n",
       "region              year                                                 \n",
       "0101 Halden (-2019) 2005     12999.0                          296000.0   \n",
       "                    2006     12575.0                          310000.0   \n",
       "                    2007     12793.0                          332000.0   \n",
       "                    2008     12877.0                          356000.0   \n",
       "                    2009     13000.0                          364000.0   \n",
       "...                              ...                               ...   \n",
       "5444 Sør-Varanger   2016         NaN                               NaN   \n",
       "                    2017         NaN                               NaN   \n",
       "                    2018         NaN                               NaN   \n",
       "                    2019         NaN                               NaN   \n",
       "                    2020      4873.0                          539000.0   \n",
       "\n",
       "contents                  Total income, median (NOK)  \n",
       "region              year                              \n",
       "0101 Halden (-2019) 2005                    372000.0  \n",
       "                    2006                    393000.0  \n",
       "                    2007                    417000.0  \n",
       "                    2008                    445000.0  \n",
       "                    2009                    456000.0  \n",
       "...                                              ...  \n",
       "5444 Sør-Varanger   2016                         NaN  \n",
       "                    2017                         NaN  \n",
       "                    2018                         NaN  \n",
       "                    2019                         NaN  \n",
       "                    2020                    668000.0  \n",
       "\n",
       "[11792 rows x 3 columns]"
      ]
     },
     "execution_count": 23,
     "metadata": {},
     "output_type": "execute_result"
    }
   ],
   "source": [
    "income_all"
   ]
  },
  {
   "cell_type": "code",
   "execution_count": 24,
   "id": "7372684e",
   "metadata": {},
   "outputs": [],
   "source": [
    "income_all = income_all.reset_index()"
   ]
  },
  {
   "cell_type": "markdown",
   "id": "b61462a0",
   "metadata": {},
   "source": [
    "Now we can use the *cleanRegion()* function we created earlier"
   ]
  },
  {
   "cell_type": "code",
   "execution_count": 25,
   "id": "432d96fa",
   "metadata": {},
   "outputs": [],
   "source": [
    "income_all = cleanRegion(income_all, 0, 4)"
   ]
  },
  {
   "cell_type": "code",
   "execution_count": 26,
   "id": "894e6aec",
   "metadata": {},
   "outputs": [
    {
     "data": {
      "text/html": [
       "<div>\n",
       "<style scoped>\n",
       "    .dataframe tbody tr th:only-of-type {\n",
       "        vertical-align: middle;\n",
       "    }\n",
       "\n",
       "    .dataframe tbody tr th {\n",
       "        vertical-align: top;\n",
       "    }\n",
       "\n",
       "    .dataframe thead th {\n",
       "        text-align: right;\n",
       "    }\n",
       "</style>\n",
       "<table border=\"1\" class=\"dataframe\">\n",
       "  <thead>\n",
       "    <tr style=\"text-align: right;\">\n",
       "      <th>contents</th>\n",
       "      <th>region</th>\n",
       "      <th>year</th>\n",
       "      <th>Households</th>\n",
       "      <th>Income after taxes, median (NOK)</th>\n",
       "      <th>Total income, median (NOK)</th>\n",
       "      <th>kommunenummer</th>\n",
       "    </tr>\n",
       "  </thead>\n",
       "  <tbody>\n",
       "    <tr>\n",
       "      <th>0</th>\n",
       "      <td>0101 Halden (-2019)</td>\n",
       "      <td>2005</td>\n",
       "      <td>12999.0</td>\n",
       "      <td>296000.0</td>\n",
       "      <td>372000.0</td>\n",
       "      <td>0101</td>\n",
       "    </tr>\n",
       "    <tr>\n",
       "      <th>1</th>\n",
       "      <td>0101 Halden (-2019)</td>\n",
       "      <td>2006</td>\n",
       "      <td>12575.0</td>\n",
       "      <td>310000.0</td>\n",
       "      <td>393000.0</td>\n",
       "      <td>0101</td>\n",
       "    </tr>\n",
       "    <tr>\n",
       "      <th>2</th>\n",
       "      <td>0101 Halden (-2019)</td>\n",
       "      <td>2007</td>\n",
       "      <td>12793.0</td>\n",
       "      <td>332000.0</td>\n",
       "      <td>417000.0</td>\n",
       "      <td>0101</td>\n",
       "    </tr>\n",
       "    <tr>\n",
       "      <th>3</th>\n",
       "      <td>0101 Halden (-2019)</td>\n",
       "      <td>2008</td>\n",
       "      <td>12877.0</td>\n",
       "      <td>356000.0</td>\n",
       "      <td>445000.0</td>\n",
       "      <td>0101</td>\n",
       "    </tr>\n",
       "    <tr>\n",
       "      <th>4</th>\n",
       "      <td>0101 Halden (-2019)</td>\n",
       "      <td>2009</td>\n",
       "      <td>13000.0</td>\n",
       "      <td>364000.0</td>\n",
       "      <td>456000.0</td>\n",
       "      <td>0101</td>\n",
       "    </tr>\n",
       "    <tr>\n",
       "      <th>...</th>\n",
       "      <td>...</td>\n",
       "      <td>...</td>\n",
       "      <td>...</td>\n",
       "      <td>...</td>\n",
       "      <td>...</td>\n",
       "      <td>...</td>\n",
       "    </tr>\n",
       "    <tr>\n",
       "      <th>11787</th>\n",
       "      <td>5444 Sør-Varanger</td>\n",
       "      <td>2016</td>\n",
       "      <td>NaN</td>\n",
       "      <td>NaN</td>\n",
       "      <td>NaN</td>\n",
       "      <td>5444</td>\n",
       "    </tr>\n",
       "    <tr>\n",
       "      <th>11788</th>\n",
       "      <td>5444 Sør-Varanger</td>\n",
       "      <td>2017</td>\n",
       "      <td>NaN</td>\n",
       "      <td>NaN</td>\n",
       "      <td>NaN</td>\n",
       "      <td>5444</td>\n",
       "    </tr>\n",
       "    <tr>\n",
       "      <th>11789</th>\n",
       "      <td>5444 Sør-Varanger</td>\n",
       "      <td>2018</td>\n",
       "      <td>NaN</td>\n",
       "      <td>NaN</td>\n",
       "      <td>NaN</td>\n",
       "      <td>5444</td>\n",
       "    </tr>\n",
       "    <tr>\n",
       "      <th>11790</th>\n",
       "      <td>5444 Sør-Varanger</td>\n",
       "      <td>2019</td>\n",
       "      <td>NaN</td>\n",
       "      <td>NaN</td>\n",
       "      <td>NaN</td>\n",
       "      <td>5444</td>\n",
       "    </tr>\n",
       "    <tr>\n",
       "      <th>11791</th>\n",
       "      <td>5444 Sør-Varanger</td>\n",
       "      <td>2020</td>\n",
       "      <td>4873.0</td>\n",
       "      <td>539000.0</td>\n",
       "      <td>668000.0</td>\n",
       "      <td>5444</td>\n",
       "    </tr>\n",
       "  </tbody>\n",
       "</table>\n",
       "<p>11792 rows × 6 columns</p>\n",
       "</div>"
      ],
      "text/plain": [
       "contents               region  year  Households  \\\n",
       "0         0101 Halden (-2019)  2005     12999.0   \n",
       "1         0101 Halden (-2019)  2006     12575.0   \n",
       "2         0101 Halden (-2019)  2007     12793.0   \n",
       "3         0101 Halden (-2019)  2008     12877.0   \n",
       "4         0101 Halden (-2019)  2009     13000.0   \n",
       "...                       ...   ...         ...   \n",
       "11787       5444 Sør-Varanger  2016         NaN   \n",
       "11788       5444 Sør-Varanger  2017         NaN   \n",
       "11789       5444 Sør-Varanger  2018         NaN   \n",
       "11790       5444 Sør-Varanger  2019         NaN   \n",
       "11791       5444 Sør-Varanger  2020      4873.0   \n",
       "\n",
       "contents  Income after taxes, median (NOK)  Total income, median (NOK)  \\\n",
       "0                                 296000.0                    372000.0   \n",
       "1                                 310000.0                    393000.0   \n",
       "2                                 332000.0                    417000.0   \n",
       "3                                 356000.0                    445000.0   \n",
       "4                                 364000.0                    456000.0   \n",
       "...                                    ...                         ...   \n",
       "11787                                  NaN                         NaN   \n",
       "11788                                  NaN                         NaN   \n",
       "11789                                  NaN                         NaN   \n",
       "11790                                  NaN                         NaN   \n",
       "11791                             539000.0                    668000.0   \n",
       "\n",
       "contents kommunenummer  \n",
       "0                 0101  \n",
       "1                 0101  \n",
       "2                 0101  \n",
       "3                 0101  \n",
       "4                 0101  \n",
       "...                ...  \n",
       "11787             5444  \n",
       "11788             5444  \n",
       "11789             5444  \n",
       "11790             5444  \n",
       "11791             5444  \n",
       "\n",
       "[11792 rows x 6 columns]"
      ]
     },
     "execution_count": 26,
     "metadata": {},
     "output_type": "execute_result"
    }
   ],
   "source": [
    "income_all"
   ]
  },
  {
   "cell_type": "markdown",
   "id": "cab97e9d",
   "metadata": {},
   "source": [
    "We can simplifiy some names: "
   ]
  },
  {
   "cell_type": "code",
   "execution_count": 27,
   "id": "31579181",
   "metadata": {},
   "outputs": [],
   "source": [
    "income_all = income_all.rename(columns={\"Income after taxes, median (NOK)\":\"med_income_at\", \"Total income, median (NOK)\":\"med_income_bt\"})"
   ]
  },
  {
   "cell_type": "markdown",
   "id": "32867f3a",
   "metadata": {},
   "source": [
    "Now let's merge together the income and population data sets with the *.merge* function. Notice that we are merging on both the \"kommunenummer\" variable and the \"year\" variable. "
   ]
  },
  {
   "cell_type": "code",
   "execution_count": 28,
   "id": "53b2f67a",
   "metadata": {},
   "outputs": [],
   "source": [
    "\n",
    "kommuneDF = pop.merge(income_all.loc[:,[\"year\", \"med_income_at\",\"med_income_bt\", \"kommunenummer\"]], how=\"left\", on=[\"kommunenummer\", \"year\"])\n"
   ]
  },
  {
   "cell_type": "markdown",
   "id": "926f584a",
   "metadata": {},
   "source": [
    "Since the data on incomes only goes back to 2005, we can get rid of everything prior to this: "
   ]
  },
  {
   "cell_type": "code",
   "execution_count": 29,
   "id": "007accb0",
   "metadata": {},
   "outputs": [],
   "source": [
    "kommuneDF = kommuneDF.loc[kommuneDF.year>=2005,:]"
   ]
  },
  {
   "cell_type": "code",
   "execution_count": 30,
   "id": "d49657a9",
   "metadata": {},
   "outputs": [
    {
     "data": {
      "text/html": [
       "<div>\n",
       "<style scoped>\n",
       "    .dataframe tbody tr th:only-of-type {\n",
       "        vertical-align: middle;\n",
       "    }\n",
       "\n",
       "    .dataframe tbody tr th {\n",
       "        vertical-align: top;\n",
       "    }\n",
       "\n",
       "    .dataframe thead th {\n",
       "        text-align: right;\n",
       "    }\n",
       "</style>\n",
       "<table border=\"1\" class=\"dataframe\">\n",
       "  <thead>\n",
       "    <tr style=\"text-align: right;\">\n",
       "      <th></th>\n",
       "      <th>region</th>\n",
       "      <th>year</th>\n",
       "      <th>contents</th>\n",
       "      <th>population</th>\n",
       "      <th>kommunenummer</th>\n",
       "      <th>med_income_at</th>\n",
       "      <th>med_income_bt</th>\n",
       "    </tr>\n",
       "  </thead>\n",
       "  <tbody>\n",
       "    <tr>\n",
       "      <th>19</th>\n",
       "      <td>K-3001 Halden</td>\n",
       "      <td>2005</td>\n",
       "      <td>Persons</td>\n",
       "      <td>27582</td>\n",
       "      <td>3001</td>\n",
       "      <td>NaN</td>\n",
       "      <td>NaN</td>\n",
       "    </tr>\n",
       "    <tr>\n",
       "      <th>20</th>\n",
       "      <td>K-3001 Halden</td>\n",
       "      <td>2006</td>\n",
       "      <td>Persons</td>\n",
       "      <td>27722</td>\n",
       "      <td>3001</td>\n",
       "      <td>NaN</td>\n",
       "      <td>NaN</td>\n",
       "    </tr>\n",
       "    <tr>\n",
       "      <th>21</th>\n",
       "      <td>K-3001 Halden</td>\n",
       "      <td>2007</td>\n",
       "      <td>Persons</td>\n",
       "      <td>27835</td>\n",
       "      <td>3001</td>\n",
       "      <td>NaN</td>\n",
       "      <td>NaN</td>\n",
       "    </tr>\n",
       "    <tr>\n",
       "      <th>22</th>\n",
       "      <td>K-3001 Halden</td>\n",
       "      <td>2008</td>\n",
       "      <td>Persons</td>\n",
       "      <td>28092</td>\n",
       "      <td>3001</td>\n",
       "      <td>NaN</td>\n",
       "      <td>NaN</td>\n",
       "    </tr>\n",
       "    <tr>\n",
       "      <th>23</th>\n",
       "      <td>K-3001 Halden</td>\n",
       "      <td>2009</td>\n",
       "      <td>Persons</td>\n",
       "      <td>28389</td>\n",
       "      <td>3001</td>\n",
       "      <td>NaN</td>\n",
       "      <td>NaN</td>\n",
       "    </tr>\n",
       "    <tr>\n",
       "      <th>...</th>\n",
       "      <td>...</td>\n",
       "      <td>...</td>\n",
       "      <td>...</td>\n",
       "      <td>...</td>\n",
       "      <td>...</td>\n",
       "      <td>...</td>\n",
       "      <td>...</td>\n",
       "    </tr>\n",
       "    <tr>\n",
       "      <th>13167</th>\n",
       "      <td>K-5444 Sør-Varanger</td>\n",
       "      <td>2018</td>\n",
       "      <td>Persons</td>\n",
       "      <td>10171</td>\n",
       "      <td>5444</td>\n",
       "      <td>NaN</td>\n",
       "      <td>NaN</td>\n",
       "    </tr>\n",
       "    <tr>\n",
       "      <th>13168</th>\n",
       "      <td>K-5444 Sør-Varanger</td>\n",
       "      <td>2019</td>\n",
       "      <td>Persons</td>\n",
       "      <td>10156</td>\n",
       "      <td>5444</td>\n",
       "      <td>NaN</td>\n",
       "      <td>NaN</td>\n",
       "    </tr>\n",
       "    <tr>\n",
       "      <th>13169</th>\n",
       "      <td>K-5444 Sør-Varanger</td>\n",
       "      <td>2020</td>\n",
       "      <td>Persons</td>\n",
       "      <td>10158</td>\n",
       "      <td>5444</td>\n",
       "      <td>539000.0</td>\n",
       "      <td>668000.0</td>\n",
       "    </tr>\n",
       "    <tr>\n",
       "      <th>13170</th>\n",
       "      <td>K-5444 Sør-Varanger</td>\n",
       "      <td>2021</td>\n",
       "      <td>Persons</td>\n",
       "      <td>10103</td>\n",
       "      <td>5444</td>\n",
       "      <td>NaN</td>\n",
       "      <td>NaN</td>\n",
       "    </tr>\n",
       "    <tr>\n",
       "      <th>13171</th>\n",
       "      <td>K-5444 Sør-Varanger</td>\n",
       "      <td>2022</td>\n",
       "      <td>Persons</td>\n",
       "      <td>9925</td>\n",
       "      <td>5444</td>\n",
       "      <td>NaN</td>\n",
       "      <td>NaN</td>\n",
       "    </tr>\n",
       "  </tbody>\n",
       "</table>\n",
       "<p>6408 rows × 7 columns</p>\n",
       "</div>"
      ],
      "text/plain": [
       "                    region  year contents  population kommunenummer  \\\n",
       "19           K-3001 Halden  2005  Persons       27582          3001   \n",
       "20           K-3001 Halden  2006  Persons       27722          3001   \n",
       "21           K-3001 Halden  2007  Persons       27835          3001   \n",
       "22           K-3001 Halden  2008  Persons       28092          3001   \n",
       "23           K-3001 Halden  2009  Persons       28389          3001   \n",
       "...                    ...   ...      ...         ...           ...   \n",
       "13167  K-5444 Sør-Varanger  2018  Persons       10171          5444   \n",
       "13168  K-5444 Sør-Varanger  2019  Persons       10156          5444   \n",
       "13169  K-5444 Sør-Varanger  2020  Persons       10158          5444   \n",
       "13170  K-5444 Sør-Varanger  2021  Persons       10103          5444   \n",
       "13171  K-5444 Sør-Varanger  2022  Persons        9925          5444   \n",
       "\n",
       "       med_income_at  med_income_bt  \n",
       "19               NaN            NaN  \n",
       "20               NaN            NaN  \n",
       "21               NaN            NaN  \n",
       "22               NaN            NaN  \n",
       "23               NaN            NaN  \n",
       "...              ...            ...  \n",
       "13167            NaN            NaN  \n",
       "13168            NaN            NaN  \n",
       "13169       539000.0       668000.0  \n",
       "13170            NaN            NaN  \n",
       "13171            NaN            NaN  \n",
       "\n",
       "[6408 rows x 7 columns]"
      ]
     },
     "execution_count": 30,
     "metadata": {},
     "output_type": "execute_result"
    }
   ],
   "source": [
    "kommuneDF"
   ]
  },
  {
   "cell_type": "markdown",
   "id": "566a8e04",
   "metadata": {},
   "source": [
    "If we want, we could save our dataset to our local disk: "
   ]
  },
  {
   "cell_type": "code",
   "execution_count": 32,
   "id": "1059c6c8",
   "metadata": {},
   "outputs": [],
   "source": [
    "kommuneDF.to_csv(\"data/kommunePopIncome.csv\")"
   ]
  },
  {
   "cell_type": "markdown",
   "id": "1022c6e9",
   "metadata": {},
   "source": [
    "Now we could start an analayis. We could create a scatterplot of population against medium income"
   ]
  },
  {
   "cell_type": "code",
   "execution_count": 206,
   "id": "2604fa58",
   "metadata": {},
   "outputs": [
    {
     "data": {
      "text/plain": [
       "<AxesSubplot:xlabel='population', ylabel='med_income_at'>"
      ]
     },
     "execution_count": 206,
     "metadata": {},
     "output_type": "execute_result"
    },
    {
     "data": {
      "image/png": "[encoded data removed]",
      "text/plain": [
       "<Figure size 432x288 with 1 Axes>"
      ]
     },
     "metadata": {
      "needs_background": "light"
     },
     "output_type": "display_data"
    }
   ],
   "source": [
    "kommuneDF.loc[kommuneDF.year==2020,:].plot.scatter(x=\"population\", y=\"med_income_at\")"
   ]
  },
  {
   "cell_type": "code",
   "execution_count": 175,
   "id": "1a6c9be3",
   "metadata": {},
   "outputs": [
    {
     "data": {
      "text/plain": [
       "<AxesSubplot:ylabel='Frequency'>"
      ]
     },
     "execution_count": 175,
     "metadata": {},
     "output_type": "execute_result"
    },
    {
     "data": {
      "image/png": "[encoded data removed]",
      "text/plain": [
       "<Figure size 432x288 with 1 Axes>"
      ]
     },
     "metadata": {
      "needs_background": "light"
     },
     "output_type": "display_data"
    }
   ],
   "source": [
    "kommuneDF.loc[kommuneDF.year==2020,\"med_income_at\"].plot.hist()"
   ]
  },
  {
   "cell_type": "code",
   "execution_count": 208,
   "id": "73e654ff",
   "metadata": {},
   "outputs": [
    {
     "data": {
      "text/plain": [
       "<AxesSubplot:ylabel='Frequency'>"
      ]
     },
     "execution_count": 208,
     "metadata": {},
     "output_type": "execute_result"
    },
    {
     "data": {
      "image/png": "[encoded data removed]",
      "text/plain": [
       "<Figure size 432x288 with 1 Axes>"
      ]
     },
     "metadata": {
      "needs_background": "light"
     },
     "output_type": "display_data"
    }
   ],
   "source": [
    "kommuneDF.loc[kommuneDF.year==2020,\"population\"].plot.hist(bins=25)"
   ]
  },
  {
   "cell_type": "code",
   "execution_count": null,
   "id": "5b29c130",
   "metadata": {},
   "outputs": [],
   "source": []
  }
 ],
 "metadata": {
  "kernelspec": {
   "display_name": "Python 3 (ipykernel)",
   "language": "python",
   "name": "python3"
  },
  "language_info": {
   "codemirror_mode": {
    "name": "ipython",
    "version": 3
   },
   "file_extension": ".py",
   "mimetype": "text/x-python",
   "name": "python",
   "nbconvert_exporter": "python",
   "pygments_lexer": "ipython3",
   "version": "3.9.12"
  }
 },
 "nbformat": 4,
 "nbformat_minor": 5
}
