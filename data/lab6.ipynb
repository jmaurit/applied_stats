{
 "cells": [
  {
   "cell_type": "markdown",
   "id": "9d1d8295",
   "metadata": {},
   "source": [
    "# Lab 6: Inference and simulation"
   ]
  },
  {
   "cell_type": "markdown",
   "id": "c7c19bcd",
   "metadata": {},
   "source": [
    "### Learning goals\n",
    "\n",
    "- Understand the meaning and how to contstruct standard errors and confidence intervals.\n",
    "- Understanding the idea of a sample distribution\n",
    "- Constructing standard errors and confidence intervals for proportions and comparisons\n",
    "- Understanding what \"Degrees of Freedom\" means. \n",
    "- Understanding the role of the t-distribution\n",
    "- Understanding the idea of statistical bias\n",
    "- The use and misuse of hypothesis testing and statistical significance\n",
    "- Understanding the idea of a p-value\n",
    "- Type 1 and II errors vs. Type S and Type M errors.\n",
    "- Simulation and sample simulation (bootstrapping)\n",
    "\n",
    "\n",
    "\n",
    "\n",
    "### Literature\n",
    "ROS Ch. 4 and 5"
   ]
  },
  {
   "cell_type": "code",
   "execution_count": 358,
   "id": "4424d955",
   "metadata": {},
   "outputs": [],
   "source": [
    "import pandas as pd\n",
    "import numpy as np\n",
    "import matplotlib.pyplot as plt\n",
    "import scipy.stats as spt\n"
   ]
  },
  {
   "cell_type": "markdown",
   "id": "5b3aa11e",
   "metadata": {},
   "source": [
    "### Standard Errors and Confidence intervalls"
   ]
  },
  {
   "cell_type": "markdown",
   "id": "907b25b4",
   "metadata": {},
   "source": [
    "Let's start off by playing god. \n",
    "\n",
    "We, as almighty deities, decide that real GDP per person (expenditure side) across countries will be normally distributed with a mean of 50,000 USD and a standard deviation of 25,000. We can write this in notation as:\n",
    "\n",
    "$rGDP \\sim N(50, 25)$\n",
    "\n"
   ]
  },
  {
   "cell_type": "markdown",
   "id": "060d1fe0",
   "metadata": {},
   "source": [
    "We can easily create a sample of data - let's say for 100 countries"
   ]
  },
  {
   "cell_type": "code",
   "execution_count": 110,
   "id": "f9dde160",
   "metadata": {},
   "outputs": [],
   "source": [
    "true_mean = 50\n",
    "true_std = 10\n",
    "S = 100\n",
    "\n",
    "rGDP = pd.Series(np.random.normal(true_mean,true_std,S))"
   ]
  },
  {
   "cell_type": "code",
   "execution_count": 111,
   "id": "cca0070a",
   "metadata": {
    "scrolled": true
   },
   "outputs": [
    {
     "data": {
      "text/plain": [
       "<AxesSubplot:>"
      ]
     },
     "execution_count": 111,
     "metadata": {},
     "output_type": "execute_result"
    },
    {
     "data": {
      "image/png": "[encoded data removed]",
      "text/plain": [
       "<Figure size 432x288 with 1 Axes>"
      ]
     },
     "metadata": {
      "needs_background": "light"
     },
     "output_type": "display_data"
    }
   ],
   "source": [
    "rGDP.hist()"
   ]
  },
  {
   "cell_type": "markdown",
   "id": "b6c5bf3a",
   "metadata": {},
   "source": [
    "We'll ignore the issue of potentially getting a negative value - which doesn't make sense -- we could relatively easily fix this by using the log-normal distribution and then transforming. "
   ]
  },
  {
   "cell_type": "markdown",
   "id": "c02daeb9",
   "metadata": {},
   "source": [
    "Now we switch to being the humble statistician who wants to know what the mean real GDP is among the countries of the world. \n",
    "\n",
    "We would of course make a sample estimate by taking the average:"
   ]
  },
  {
   "cell_type": "code",
   "execution_count": 74,
   "id": "a59efbd2",
   "metadata": {},
   "outputs": [
    {
     "name": "stdout",
     "output_type": "stream",
     "text": [
      "estimate of mean 49.717226372417464\n"
     ]
    }
   ],
   "source": [
    "mean_estimate = rGDP.mean()\n",
    "print(\"estimate of mean\", mean_estimate)"
   ]
  },
  {
   "cell_type": "markdown",
   "id": "105afe98",
   "metadata": {},
   "source": [
    "And we could esimate the sample standard deviation as well: "
   ]
  },
  {
   "cell_type": "code",
   "execution_count": 75,
   "id": "504f3216",
   "metadata": {},
   "outputs": [
    {
     "name": "stdout",
     "output_type": "stream",
     "text": [
      "estimate of std 10.041526316233965\n"
     ]
    }
   ],
   "source": [
    "std_estimate = rGDP.std(ddf=1)\n",
    "print(\"estimate of std\", std_estimate)"
   ]
  },
  {
   "cell_type": "markdown",
   "id": "3a5bd2b9",
   "metadata": {},
   "source": [
    "(We will explain the \"ddf=1\" a bit later)"
   ]
  },
  {
   "cell_type": "markdown",
   "id": "e3a0281b",
   "metadata": {},
   "source": [
    "#### Standard Error and estimate uncertainty"
   ]
  },
  {
   "cell_type": "markdown",
   "id": "0ce0d1a4",
   "metadata": {},
   "source": [
    "But how certain is the statistician that this number actually is close to the \"true\" mean of 50?"
   ]
  },
  {
   "cell_type": "markdown",
   "id": "ec0f1c67",
   "metadata": {},
   "source": [
    "Again switching to god-mode, we could have generated many--say 10000--different sets of 100 draws from our \"true\" distribution, and then see the amount of variation there is of the means. We could easily simulate this:"
   ]
  },
  {
   "cell_type": "code",
   "execution_count": 76,
   "id": "08287391",
   "metadata": {},
   "outputs": [],
   "source": [
    "N = 10000\n",
    "sampleMeans = []\n",
    "\n",
    "for i in range(N):\n",
    "    sample = np.random.normal(true_mean, true_std, S)\n",
    "    sampleMeans.append(sample.mean())\n",
    "\n"
   ]
  },
  {
   "cell_type": "code",
   "execution_count": 77,
   "id": "19ad3540",
   "metadata": {},
   "outputs": [
    {
     "data": {
      "text/plain": [
       "<AxesSubplot:>"
      ]
     },
     "execution_count": 77,
     "metadata": {},
     "output_type": "execute_result"
    },
    {
     "data": {
      "image/png": "[encoded data removed]",
      "text/plain": [
       "<Figure size 432x288 with 1 Axes>"
      ]
     },
     "metadata": {
      "needs_background": "light"
     },
     "output_type": "display_data"
    }
   ],
   "source": [
    "sampleMeans = pd.Series(sampleMeans)\n",
    "sampleMeans.hist(bins=50)\n",
    "                "
   ]
  },
  {
   "cell_type": "markdown",
   "id": "9e3c09e2",
   "metadata": {},
   "source": [
    "Now we can calculate the standard deviation of all these sample means:"
   ]
  },
  {
   "cell_type": "code",
   "execution_count": 78,
   "id": "9fe06100",
   "metadata": {},
   "outputs": [
    {
     "name": "stdout",
     "output_type": "stream",
     "text": [
      "1.0033047594640854\n"
     ]
    }
   ],
   "source": [
    "SE1 = sampleMeans.std()\n",
    "print(SE1)"
   ]
  },
  {
   "cell_type": "markdown",
   "id": "3139d1a1",
   "metadata": {},
   "source": [
    "The standard deviation of the sample estimate - you should get close to 1 - is what we call the **standard error**. It gives us information about how uncertain the sample estimate (in this case of our mean) is. "
   ]
  },
  {
   "cell_type": "markdown",
   "id": "44d396eb",
   "metadata": {},
   "source": [
    "Of course, we don't have access to the actual \"True\" mean and \"True\" standard deviation of the sample, so we could instead run the simulation based on the initial sample estimates: "
   ]
  },
  {
   "cell_type": "code",
   "execution_count": 93,
   "id": "eb9dd194",
   "metadata": {},
   "outputs": [],
   "source": [
    "N = 10000\n",
    "sampleMeans = []\n",
    "\n",
    "for i in range(N):\n",
    "    sample = np.random.normal(mean_estimate, std_estimate, S)\n",
    "    sampleMeans.append(sample.mean())\n",
    "\n",
    "\n"
   ]
  },
  {
   "cell_type": "code",
   "execution_count": 94,
   "id": "d144fca8",
   "metadata": {},
   "outputs": [
    {
     "name": "stdout",
     "output_type": "stream",
     "text": [
      "0.992568895783272\n"
     ]
    }
   ],
   "source": [
    "sampleMeans =  pd.Series(sampleMeans)\n",
    "SE2 =sampleMeans.std()\n",
    "print(SE2)"
   ]
  },
  {
   "cell_type": "markdown",
   "id": "a32598c8",
   "metadata": {},
   "source": [
    "Not much difference!"
   ]
  },
  {
   "cell_type": "markdown",
   "id": "be5012ce",
   "metadata": {},
   "source": [
    "If you recall from lab 5, around 68% percent of the estimates (\"probability mass\") should lie between +/- 1 **standard errors** of the sample mean. \n",
    "\n",
    "This is what we call a **Confidence Interval**\n",
    "\n",
    "We can confirm this by estimating the share of sample means between +/1 standard errors of our sample mean:"
   ]
  },
  {
   "cell_type": "code",
   "execution_count": 318,
   "id": "b152bab2",
   "metadata": {},
   "outputs": [
    {
     "name": "stdout",
     "output_type": "stream",
     "text": [
      "Confidence Interval between: 48.72465747663419 50.709795268200736\n"
     ]
    }
   ],
   "source": [
    "CI_neg = mean_estimate - 1*SE2\n",
    "CI_pos = mean_estimate + 1*SE2\n",
    "print(\"Confidence Interval between:\", CI_neg, CI_pos)"
   ]
  },
  {
   "cell_type": "code",
   "execution_count": 319,
   "id": "586f1296",
   "metadata": {},
   "outputs": [
    {
     "data": {
      "text/plain": [
       "0.6736"
      ]
     },
     "execution_count": 319,
     "metadata": {},
     "output_type": "execute_result"
    }
   ],
   "source": [
    "sampleMeans[(sampleMeans>CI_neg)&(sampleMeans<CI_pos)].count()/sampleMeans.count()"
   ]
  },
  {
   "cell_type": "markdown",
   "id": "610ec8ea",
   "metadata": {},
   "source": [
    "Pretty close!"
   ]
  },
  {
   "cell_type": "markdown",
   "id": "1691ce98",
   "metadata": {},
   "source": [
    "Depending on our viewpoint, we could interpret the confidence interval in several ways: \n",
    "\n",
    "Thomas B might say: \"We are about 68% sure that the mean lies between these two numbers\"\n",
    "\n",
    "or \n",
    "\n",
    "Ronald F might say \"In 68% of samples the mean will lie between these two numbers\n",
    "\n",
    "\n",
    "(More about this distinction later when we discuss Bayesian Theory, but just use whatever is most intuitive for a given situation)"
   ]
  },
  {
   "cell_type": "markdown",
   "id": "f4166f79",
   "metadata": {},
   "source": [
    "Now let's say that 68% doesn't quite do it. Let's try a confidence interval of 2 standard errors."
   ]
  },
  {
   "cell_type": "code",
   "execution_count": 320,
   "id": "1669a6b1",
   "metadata": {},
   "outputs": [
    {
     "name": "stdout",
     "output_type": "stream",
     "text": [
      "Confidence Interval between: 47.73208858085092 51.70236416398401\n"
     ]
    }
   ],
   "source": [
    "CI_neg = mean_estimate - 2*SE2\n",
    "CI_pos = mean_estimate + 2*SE2\n",
    "print(\"Confidence Interval between:\", CI_neg, CI_pos)"
   ]
  },
  {
   "cell_type": "markdown",
   "id": "5dc7c6c8",
   "metadata": {},
   "source": [
    "If you recall from lab 5, 2 standard deviations (or standard errors as wel call them here) in either direction of the mean for a normal distribution should cover about 95% of the estimates in our distribution of sample means. So we can call this a **95% confidence intervall**\n",
    "\n",
    "We can double-check:  "
   ]
  },
  {
   "cell_type": "code",
   "execution_count": 321,
   "id": "85baf7ff",
   "metadata": {},
   "outputs": [
    {
     "data": {
      "text/plain": [
       "0.9563"
      ]
     },
     "execution_count": 321,
     "metadata": {},
     "output_type": "execute_result"
    }
   ],
   "source": [
    "sampleMeans[(sampleMeans>CI_neg)&(sampleMeans<CI_pos)].count()/sampleMeans.count()"
   ]
  },
  {
   "cell_type": "markdown",
   "id": "ada9d762",
   "metadata": {},
   "source": [
    "(If you want to be pedantic, you might say that a 95% confidence interval is estimated by taking 1.96*SE)"
   ]
  },
  {
   "cell_type": "code",
   "execution_count": 322,
   "id": "eb13f09a",
   "metadata": {},
   "outputs": [
    {
     "data": {
      "text/plain": [
       "0.9512"
      ]
     },
     "execution_count": 322,
     "metadata": {},
     "output_type": "execute_result"
    }
   ],
   "source": [
    "CI_neg = mean_estimate - 1.96*SE2\n",
    "CI_pos = mean_estimate + 1.96*SE2\n",
    "\n",
    "sampleMeans[(sampleMeans>CI_neg)&(sampleMeans<CI_pos)].count()/sampleMeans.count()"
   ]
  },
  {
   "cell_type": "markdown",
   "id": "a34a08b2",
   "metadata": {},
   "source": [
    "Sure enough, slightly better, but saying +/- 2 standard errors is easier to remember"
   ]
  },
  {
   "cell_type": "markdown",
   "id": "78bffe42",
   "metadata": {},
   "source": [
    "Let's chart the confidence intervals with the histogram: "
   ]
  },
  {
   "cell_type": "code",
   "execution_count": 323,
   "id": "e46e3703",
   "metadata": {},
   "outputs": [
    {
     "data": {
      "text/plain": [
       "<matplotlib.lines.Line2D at 0x7fb8278fe760>"
      ]
     },
     "execution_count": 323,
     "metadata": {},
     "output_type": "execute_result"
    },
    {
     "data": {
      "image/png": "[encoded data removed]",
      "text/plain": [
       "<Figure size 432x288 with 1 Axes>"
      ]
     },
     "metadata": {
      "needs_background": "light"
     },
     "output_type": "display_data"
    }
   ],
   "source": [
    "fig, ax =plt.subplots()\n",
    "sampleMeans.hist(bins=50, ax=ax)\n",
    "ax.axvline(CI_neg, color=\"red\")\n",
    "ax.axvline(CI_pos, color=\"red\")\n"
   ]
  },
  {
   "cell_type": "markdown",
   "id": "b802db90",
   "metadata": {},
   "source": [
    "### Lazy statistician method"
   ]
  },
  {
   "cell_type": "markdown",
   "id": "2a66d107",
   "metadata": {},
   "source": [
    "The simulation approach above is intuitive and flexible (and variants of such simulations are used extensively in statistics and we will make use simulation throughout this course to understand and check our modelling.) \n",
    "\n",
    "But for relatively simple cases where we want to find the standard error and confidence interval of an estimate (like a sample mean), statisticians take a short cut. They assume--here based on the Central Limit Theorem--that the distribution of the estimate will be normal. Then they use some math based on the mathematical form of the normal distribution to come to the following formula for the standard error of a sample mean: \n",
    "\n",
    "$$SE_{mean} = \\frac{\\sigma}{\\sqrt(S)}$$\n",
    "\n",
    "Where $\\sigma$ is the \"true\" standard deviation (in our case 10) and S is the sample size (in our case 100). We could then calculate:"
   ]
  },
  {
   "cell_type": "code",
   "execution_count": 324,
   "id": "c670764c",
   "metadata": {},
   "outputs": [
    {
     "data": {
      "text/plain": [
       "0.1"
      ]
     },
     "execution_count": 324,
     "metadata": {},
     "output_type": "execute_result"
    }
   ],
   "source": [
    "true_std/np.sqrt(S)"
   ]
  },
  {
   "cell_type": "markdown",
   "id": "1c3c14a6",
   "metadata": {},
   "source": [
    "And we get an answer close to our simulation estimates for the standard error of the sample mean. \n",
    "\n",
    "Of course, in real life, we don't have access to the \"true\" standard deviation, and we would have to replace this with our sample standard deviation: \n",
    "\n",
    "$$\\hat{SE_{mean}} = \\frac{\\hat{\\sigma}}{\\sqrt{S}}$$\n",
    "\n",
    "The little triangular \"hats\" are meant to signify that the values are estimates in statistics. "
   ]
  },
  {
   "cell_type": "code",
   "execution_count": 325,
   "id": "641cbcae",
   "metadata": {},
   "outputs": [
    {
     "data": {
      "text/plain": [
       "1.0041526316233964"
      ]
     },
     "execution_count": 325,
     "metadata": {},
     "output_type": "execute_result"
    }
   ],
   "source": [
    "SE_hat = std_estimate/np.sqrt(S)\n",
    "SE_hat"
   ]
  },
  {
   "cell_type": "markdown",
   "id": "4c4d3d2b",
   "metadata": {},
   "source": [
    "We can then construct confidence intervals in the same way as above. An approximate 95 percent confidence interval would, for example be to take the estimated mean +/- 2 standard errors."
   ]
  },
  {
   "cell_type": "code",
   "execution_count": 326,
   "id": "9ef9ec94",
   "metadata": {},
   "outputs": [
    {
     "name": "stdout",
     "output_type": "stream",
     "text": [
      "95% confidence interval  47.708921109170674 51.725531635664254\n"
     ]
    }
   ],
   "source": [
    "CI_neg = mean_estimate - 2*SE_hat\n",
    "CI_pos = mean_estimate + 2*SE_hat\n",
    "print(\"95% confidence interval \", CI_neg, CI_pos)"
   ]
  },
  {
   "cell_type": "markdown",
   "id": "a2f95763",
   "metadata": {},
   "source": [
    "### Bootstrapping"
   ]
  },
  {
   "cell_type": "markdown",
   "id": "19707ff6",
   "metadata": {},
   "source": [
    "Before going on to more complicated estimations, we want to discuss one more important form of uncertainty simulation: Bootstrapping. "
   ]
  },
  {
   "cell_type": "markdown",
   "id": "c4eedf11",
   "metadata": {},
   "source": [
    "The term *bootstrapping* comes from the cowboy saying \"Pull yourself up by the bootstrap\", meaning you manage to accomplish something on your own with limited resources. The idea behind bootstrapping is to use the information in the limited sample you have collected to get a picture of the uncertainty of an estimate **without** relying on the assumption of a nice normal distribution (or other distributions for that matter). \n",
    "\n",
    "The key to bootstrapping is the idea of sampling with replacement. Starting with our initial sample of 100 observations, we demonstrate below:"
   ]
  },
  {
   "cell_type": "code",
   "execution_count": 327,
   "id": "d0ef0d84",
   "metadata": {},
   "outputs": [],
   "source": [
    "boot = rGDP.sample(n=100, replace=True)"
   ]
  },
  {
   "cell_type": "code",
   "execution_count": 328,
   "id": "61880ed5",
   "metadata": {},
   "outputs": [
    {
     "name": "stdout",
     "output_type": "stream",
     "text": [
      "10    42.250898\n",
      "20    38.120776\n",
      "80    42.320161\n",
      "35    61.457717\n",
      "81    58.689803\n",
      "        ...    \n",
      "78    57.175488\n",
      "77    54.167652\n",
      "45    38.311049\n",
      "71    52.069597\n",
      "80    42.320161\n",
      "Length: 100, dtype: float64 0     56.980429\n",
      "1     53.863921\n",
      "2     63.832246\n",
      "3     44.495047\n",
      "4     36.879256\n",
      "        ...    \n",
      "95    30.725251\n",
      "96    44.387047\n",
      "97    28.992325\n",
      "98    67.584609\n",
      "99    49.840760\n",
      "Length: 100, dtype: float64\n",
      "49.11130654407326\n"
     ]
    }
   ],
   "source": [
    "print(boot, rGDP)\n",
    "print(boot.mean())"
   ]
  },
  {
   "cell_type": "markdown",
   "id": "1bae6ef8",
   "metadata": {},
   "source": [
    "above we show one iteration of a bootstrap. We take the original sample, *rGDP* and then sample a 100 observations with replacement. So, we could visualize taking the original sample of 100 rGDP values, writing those values on a 100 balls and putting them in an urn. Then we draw balls from the urn, one-by-one, noting the number and replacing the ball after we have recorded our number. \n",
    "\n",
    "Taking the mean of the resampled, or \"bootstrapped\" sample, we now have generated an alternative mean sample. Now if we do this say, 10,000 times, we can generate a distribution of the means and say something about uncertainty: "
   ]
  },
  {
   "cell_type": "code",
   "execution_count": 329,
   "id": "c405bb25",
   "metadata": {},
   "outputs": [],
   "source": [
    "N=10000\n",
    "\n",
    "boots = []\n",
    "\n",
    "for i in range(N):\n",
    "    boot = rGDP.sample(n=100, replace=True)\n",
    "    boots.append(boot.mean())\n",
    "\n",
    "boots = pd.Series(boots)\n",
    "    "
   ]
  },
  {
   "cell_type": "code",
   "execution_count": 330,
   "id": "c4c16084",
   "metadata": {},
   "outputs": [
    {
     "data": {
      "text/plain": [
       "<AxesSubplot:>"
      ]
     },
     "execution_count": 330,
     "metadata": {},
     "output_type": "execute_result"
    },
    {
     "data": {
      "image/png": "[encoded data removed]",
      "text/plain": [
       "<Figure size 432x288 with 1 Axes>"
      ]
     },
     "metadata": {
      "needs_background": "light"
     },
     "output_type": "display_data"
    }
   ],
   "source": [
    "boots.hist(bins=50)"
   ]
  },
  {
   "cell_type": "markdown",
   "id": "dfb52bb1",
   "metadata": {},
   "source": [
    "And we can estimate the standard error: \n",
    "\n"
   ]
  },
  {
   "cell_type": "code",
   "execution_count": 331,
   "id": "22ec4ce9",
   "metadata": {},
   "outputs": [
    {
     "data": {
      "text/plain": [
       "0.9645023681545994"
      ]
     },
     "execution_count": 331,
     "metadata": {},
     "output_type": "execute_result"
    }
   ],
   "source": [
    "SE_BS = boots.std()\n",
    "SE_BS"
   ]
  },
  {
   "cell_type": "markdown",
   "id": "9c36d364",
   "metadata": {},
   "source": [
    "Using bootstrapping, we have managed to generate a distribution of our sample means. In this case we get a nice normal looking distribution, like we got when we (correctly) assumed normality. \n",
    "\n",
    "The cool thing about the bootstrap is that it will tend to give good approximations of the uncertainty of an estimate (assuming you design the bootsrap correctly) no matter the underlying distribution. This is why bootstrapping is often used to estimate standard errors in cases where you have complicated models.\n",
    "\n",
    "In the above example, we probably get a slightly better answer both by using the \"lazy\" analytical method ($\\hat{\\sigma}/\\sqrt{S}$) or by simulating with the assumption of normality, because we know that sample means are normal.\n",
    "\n",
    "Bootstrapping also has limitations, as is discussed in ROS p.75."
   ]
  },
  {
   "cell_type": "markdown",
   "id": "25fb5477",
   "metadata": {},
   "source": [
    "### Uncertainty of other estimates"
   ]
  },
  {
   "cell_type": "markdown",
   "id": "1144ecfa",
   "metadata": {},
   "source": [
    "We have spent a long time working through various ways of estimating the uncertainty around a samle mean. This is not because sample means are so important - they are not, we could have just used the \"lazy\" shortcut of getting the standard error by dividing by the square root of the sample standard deviation. The point has been to try to get an understanding of what we mean by uncertainty of an estimate and to give you some tools for generating uncertainty no matter what type of estimate you are looking at. \n",
    "\n",
    "Below we will look at other common sample estimates and we will estimate the uncertainty of these estimates both through simulation and by simple mathematical formulas where they exist."
   ]
  },
  {
   "cell_type": "markdown",
   "id": "30931748",
   "metadata": {},
   "source": [
    "#### Proportion"
   ]
  },
  {
   "cell_type": "markdown",
   "id": "ae1f953d",
   "metadata": {},
   "source": [
    "Let's say that we have survey data of 1000 representative likely voters from October of 2016 where the question is: will you vote for Donald Trump in the election. "
   ]
  },
  {
   "cell_type": "markdown",
   "id": "bdd29d04",
   "metadata": {},
   "source": [
    "Let's say that the true value for the population of voters is 49% will vote for Donald Trump (remember, in the weird US voting system, you can amazingly win without getting a majority of the votes). So let's model this as coming from a binomial distribution: "
   ]
  },
  {
   "cell_type": "code",
   "execution_count": 332,
   "id": "3c2d6623",
   "metadata": {},
   "outputs": [],
   "source": [
    "p=.49\n",
    "N=1000\n",
    "\n",
    "voteTrump = np.random.binomial(N,p)"
   ]
  },
  {
   "cell_type": "markdown",
   "id": "935fef6e",
   "metadata": {},
   "source": [
    "We can then estimate our sample **proportion** $\\hat{p}$"
   ]
  },
  {
   "cell_type": "code",
   "execution_count": 333,
   "id": "90b3eea4",
   "metadata": {},
   "outputs": [
    {
     "data": {
      "text/plain": [
       "0.484"
      ]
     },
     "execution_count": 333,
     "metadata": {},
     "output_type": "execute_result"
    }
   ],
   "source": [
    "p_hat = voteTrump/N\n",
    "p_hat"
   ]
  },
  {
   "cell_type": "markdown",
   "id": "358fe2fc",
   "metadata": {},
   "source": [
    "We can again use some simulation to generate uncertainty: "
   ]
  },
  {
   "cell_type": "code",
   "execution_count": 334,
   "id": "db3d50bd",
   "metadata": {},
   "outputs": [],
   "source": [
    "props = []\n",
    "\n",
    "for i in range(10000):\n",
    "    prop = np.random.binomial(N,p)/N\n",
    "    props.append(prop)\n",
    "\n",
    "props = pd.Series(props)"
   ]
  },
  {
   "cell_type": "code",
   "execution_count": 335,
   "id": "71dce272",
   "metadata": {},
   "outputs": [
    {
     "data": {
      "text/plain": [
       "<AxesSubplot:>"
      ]
     },
     "execution_count": 335,
     "metadata": {},
     "output_type": "execute_result"
    },
    {
     "data": {
      "image/png": "[encoded data removed]",
      "text/plain": [
       "<Figure size 432x288 with 1 Axes>"
      ]
     },
     "metadata": {
      "needs_background": "light"
     },
     "output_type": "display_data"
    }
   ],
   "source": [
    "props.hist(bins=40)"
   ]
  },
  {
   "cell_type": "markdown",
   "id": "60fc3a22",
   "metadata": {},
   "source": [
    "Then we can estimate a **standard error**:"
   ]
  },
  {
   "cell_type": "code",
   "execution_count": 336,
   "id": "a90a55e7",
   "metadata": {},
   "outputs": [
    {
     "data": {
      "text/plain": [
       "0.01570564886690889"
      ]
     },
     "execution_count": 336,
     "metadata": {},
     "output_type": "execute_result"
    }
   ],
   "source": [
    "SE_prop = props.std()\n",
    "SE_prop"
   ]
  },
  {
   "cell_type": "markdown",
   "id": "9d382bb7",
   "metadata": {},
   "source": [
    "And create a 95% confidence interval"
   ]
  },
  {
   "cell_type": "code",
   "execution_count": 337,
   "id": "56830a24",
   "metadata": {},
   "outputs": [
    {
     "name": "stdout",
     "output_type": "stream",
     "text": [
      "95% Confidence intervall 0.4525887022661822 0.5154112977338178\n"
     ]
    }
   ],
   "source": [
    "CI_neg = p_hat - 2*SE_prop\n",
    "CI_pos = p_hat + 2*SE_prop\n",
    "print(\"95% Confidence intervall\", CI_neg, CI_pos)"
   ]
  },
  {
   "cell_type": "markdown",
   "id": "25d0193e",
   "metadata": {},
   "source": [
    "#### Lazy shortcut "
   ]
  },
  {
   "cell_type": "markdown",
   "id": "1480470d",
   "metadata": {},
   "source": [
    "For a proportion from a binomial distribution we can also make use of a simple formula for the standard error:SE =  $\\sqrt{\\hat{p}(1-\\hat{p})/N}$"
   ]
  },
  {
   "cell_type": "code",
   "execution_count": 338,
   "id": "a998f526",
   "metadata": {},
   "outputs": [
    {
     "data": {
      "text/plain": [
       "0.015803290796539814"
      ]
     },
     "execution_count": 338,
     "metadata": {},
     "output_type": "execute_result"
    }
   ],
   "source": [
    "SE2_prop = np.sqrt(p_hat*(1-p_hat)/N)\n",
    "SE2_prop"
   ]
  },
  {
   "cell_type": "code",
   "execution_count": 339,
   "id": "ece360b6",
   "metadata": {},
   "outputs": [],
   "source": [
    "CI_neg = p_hat - 2*SE2_prop\n",
    "CI_pos = p_hat + 2*SE2_prop"
   ]
  },
  {
   "cell_type": "code",
   "execution_count": 340,
   "id": "ef9e0d43",
   "metadata": {},
   "outputs": [
    {
     "name": "stdout",
     "output_type": "stream",
     "text": [
      "95% Confidence intervall 0.4523934184069204 0.5156065815930796\n"
     ]
    }
   ],
   "source": [
    "print(\"95% Confidence intervall\", CI_neg, CI_pos)"
   ]
  },
  {
   "cell_type": "markdown",
   "id": "69d699cb",
   "metadata": {},
   "source": [
    "And we might also recall that with a large enough N, the normal distribution is a good proxy for the binomial distribution. "
   ]
  },
  {
   "cell_type": "markdown",
   "id": "3414ff6f",
   "metadata": {},
   "source": [
    "### Standard error for a comparison"
   ]
  },
  {
   "cell_type": "markdown",
   "id": "1445d53c",
   "metadata": {},
   "source": [
    "So far, what we have done hasn't been particularly useful. Estimating a mean or proportion in itself isn't usually that interesting. "
   ]
  },
  {
   "cell_type": "markdown",
   "id": "a04ce9cd",
   "metadata": {},
   "source": [
    "ROS (p.52) gives the example of trying to estimate the gender gap for voting. We can imagine that this is estimated by taking the difference between two independent surveys 400 men and 600 women. Using the numbers in the book, let's say that the *true* proportion of men is 57% who plan to vote for Donald Trump, while only 45% of women plan on voting for Donald Trump. We can simulate two sample proportions: "
   ]
  },
  {
   "cell_type": "code",
   "execution_count": 341,
   "id": "b0fb9715",
   "metadata": {},
   "outputs": [
    {
     "name": "stdout",
     "output_type": "stream",
     "text": [
      "sample male proportion 0.5875\n",
      "sample female proportion 0.43833333333333335\n"
     ]
    }
   ],
   "source": [
    "p_male = .57\n",
    "p_female = .45\n",
    "N_male = 400\n",
    "N_female = 600\n",
    "\n",
    "\n",
    "p_male_hat = np.random.binomial(N_male, p_male)/N_male\n",
    "p_female_hat = np.random.binomial(N_female, p_female)/N_female\n",
    "\n",
    "diff_hat = p_male_hat-p_female_hat\n",
    "\n",
    "print(\"sample male proportion\", p_male_hat)\n",
    "print(\"sample female proportion\", p_female_hat)\n"
   ]
  },
  {
   "cell_type": "markdown",
   "id": "f3df0477",
   "metadata": {},
   "source": [
    "If we then generate distributions for proportion (this time I will use a for-loop shortcut): "
   ]
  },
  {
   "cell_type": "code",
   "execution_count": 342,
   "id": "6b81e457",
   "metadata": {},
   "outputs": [
    {
     "data": {
      "text/plain": [
       "<AxesSubplot:>"
      ]
     },
     "execution_count": 342,
     "metadata": {},
     "output_type": "execute_result"
    },
    {
     "data": {
      "image/png": "[encoded data removed]",
      "text/plain": [
       "<Figure size 432x288 with 2 Axes>"
      ]
     },
     "metadata": {
      "needs_background": "light"
     },
     "output_type": "display_data"
    }
   ],
   "source": [
    "nsims = 10000\n",
    "\n",
    "ps_male = []\n",
    "ps_females = []\n",
    "\n",
    "#Males\n",
    "ps_male = pd.Series([np.random.binomial(N_male, p_male_hat)/N_male for i in range(nsims)])\n",
    "\n",
    "#Females\n",
    "ps_female = pd.Series([np.random.binomial(N_female, p_female_hat)/N_female for i in range(nsims)])\n",
    "\n",
    "#Difference:\n",
    "gender_gap = ps_male-ps_female\n",
    "\n",
    "fig, ax = plt.subplots(2)\n",
    "ps_male.hist(bins = 40, ax=ax[0], alpha=.5)\n",
    "ps_female.hist(bins=40,  ax=ax[0], alpha=.5)\n",
    "gender_gap.hist(bins=40, ax=ax[1])"
   ]
  },
  {
   "cell_type": "markdown",
   "id": "c45b7d3e",
   "metadata": {},
   "source": [
    "Then we can find estimate the standard error of the difference:  "
   ]
  },
  {
   "cell_type": "code",
   "execution_count": 343,
   "id": "0ac7eb81",
   "metadata": {},
   "outputs": [
    {
     "name": "stdout",
     "output_type": "stream",
     "text": [
      "SE of difference 0.031693502327467614\n",
      "95% percent confidence intervall 0.08577966201173144 0.2125536713216019\n"
     ]
    }
   ],
   "source": [
    "SE_diff = gender_gap.std()\n",
    "\n",
    "CI_neg = diff_hat - 2*SE_diff\n",
    "CI_pos = diff_hat + 2*SE_diff\n",
    "print(\"SE of difference\", SE_diff)\n",
    "print(\"95% percent confidence intervall\", CI_neg, CI_pos)"
   ]
  },
  {
   "cell_type": "markdown",
   "id": "152748e2",
   "metadata": {},
   "source": [
    "Or we can use a formula for the standard error of a difference, which is to take the square root of the sum of the squared standard errors: $SE_{diff} = \\sqrt{SE_{males}^2 + SE_{females}^2}$"
   ]
  },
  {
   "cell_type": "code",
   "execution_count": 344,
   "id": "f32530f2",
   "metadata": {},
   "outputs": [
    {
     "name": "stdout",
     "output_type": "stream",
     "text": [
      "SE of difference 0.03494785301782579\n",
      "95% confidence intervall 0.07927096063101509 0.21906237270231826\n"
     ]
    }
   ],
   "source": [
    "#Using our formulas for the standard errors for proportions\n",
    "\n",
    "SE2_male = np.sqrt(p_male_hat*(1-p_male_hat)/N_male)\n",
    "SE2_female = np.sqrt(p_female_hat*(1-p_female_hat)/N_male)\n",
    "\n",
    "#and then our formula for the standard error of a difference\n",
    "SE2_diff = np.sqrt(SE2_male**2 + SE2_female**2)\n",
    "print(\"SE of difference\", SE2_diff)\n",
    "\n",
    "#confidence intervall\n",
    "CI_low = diff_hat - 2*SE2_diff\n",
    "CI_high = diff_hat + 2*SE2_diff\n",
    "print(\"95% confidence intervall\", CI_low, CI_high)"
   ]
  },
  {
   "cell_type": "markdown",
   "id": "a225d1c4",
   "metadata": {},
   "source": [
    "Here we see that there is quite a lot of uncertainty around what the actual gender gap. "
   ]
  },
  {
   "cell_type": "markdown",
   "id": "0d2ba4b3",
   "metadata": {},
   "source": [
    "### Uncertainty about uncertainty: distribution of standard deviations and $\\chi^2$ distribution"
   ]
  },
  {
   "cell_type": "markdown",
   "id": "1f3b7055",
   "metadata": {},
   "source": [
    "Let's step back for a bit. \n",
    "\n",
    "We've introduced the idea of a sample of say n draws from a normal distribution. We'll follow ROS and call these samples $y_1,...y_n$. To be concrete, let's say it is a sample of 10, from standard normal distribution (0 mean, 1 std)"
   ]
  },
  {
   "cell_type": "code",
   "execution_count": 345,
   "id": "7ffcd713",
   "metadata": {},
   "outputs": [],
   "source": [
    "true_mean = 0\n",
    "true_std = 1\n",
    "\n",
    "n=10\n",
    "y = np.random.normal(true_mean,true_std,n)"
   ]
  },
  {
   "cell_type": "markdown",
   "id": "455b918c",
   "metadata": {},
   "source": [
    "We've talked extensively now about the sample mean $\\hat{y}$: "
   ]
  },
  {
   "cell_type": "code",
   "execution_count": 346,
   "id": "1805f832",
   "metadata": {},
   "outputs": [
    {
     "data": {
      "text/plain": [
       "-0.1213967271193789"
      ]
     },
     "execution_count": 346,
     "metadata": {},
     "output_type": "execute_result"
    }
   ],
   "source": [
    "y.mean()"
   ]
  },
  {
   "cell_type": "markdown",
   "id": "39622533",
   "metadata": {},
   "source": [
    "But sometimes we are equally interested in the spread of this random variable. For example, in finance we are often interested in estimating the spread (variance) of a series as a proxy for risk"
   ]
  },
  {
   "cell_type": "markdown",
   "id": "546eca73",
   "metadata": {},
   "source": [
    "Our formula for standard deviation is: $s_y = \\sqrt{\\frac{1}{n-1}\\sum^n_{i=1}(y_i - \\bar{y})^2}$"
   ]
  },
  {
   "cell_type": "code",
   "execution_count": 347,
   "id": "4bfe974e",
   "metadata": {},
   "outputs": [],
   "source": [
    "y_bar = y.mean()"
   ]
  },
  {
   "cell_type": "code",
   "execution_count": 348,
   "id": "f0344b39",
   "metadata": {},
   "outputs": [
    {
     "data": {
      "text/plain": [
       "1.415051723389499"
      ]
     },
     "execution_count": 348,
     "metadata": {},
     "output_type": "execute_result"
    }
   ],
   "source": [
    "s_y = np.sqrt(1/(n-1)*np.sum((y-y.mean())**2))\n",
    "s_y"
   ]
  },
  {
   "cell_type": "code",
   "execution_count": 349,
   "id": "b6dd11b7",
   "metadata": {},
   "outputs": [
    {
     "data": {
      "text/plain": [
       "1.3424359358572133"
      ]
     },
     "execution_count": 349,
     "metadata": {},
     "output_type": "execute_result"
    }
   ],
   "source": [
    "y.std()"
   ]
  },
  {
   "cell_type": "code",
   "execution_count": 350,
   "id": "c74f3440",
   "metadata": {},
   "outputs": [
    {
     "data": {
      "text/plain": [
       "1.4150517233894992"
      ]
     },
     "execution_count": 350,
     "metadata": {},
     "output_type": "execute_result"
    }
   ],
   "source": [
    "y.std(ddof=1)"
   ]
  },
  {
   "cell_type": "markdown",
   "id": "dc7af9a9",
   "metadata": {},
   "source": [
    "Let's create a distribution around the estimate. We'll start by creating our own sample standard deviation formula:"
   ]
  },
  {
   "cell_type": "code",
   "execution_count": 351,
   "id": "f39175fa",
   "metadata": {},
   "outputs": [],
   "source": [
    "def sstd(y):\n",
    "    return(np.sqrt(1/(n-1)*np.sum((y-y.mean())**2)))\n"
   ]
  },
  {
   "cell_type": "code",
   "execution_count": 352,
   "id": "da2f6317",
   "metadata": {},
   "outputs": [],
   "source": [
    "nSims = 10000\n",
    "\n",
    "sstd_dist = pd.Series([sstd(np.random.normal(y_bar, s_y, n)) for i in range(nSims)])"
   ]
  },
  {
   "cell_type": "code",
   "execution_count": 353,
   "id": "65d351c3",
   "metadata": {},
   "outputs": [
    {
     "data": {
      "text/plain": [
       "<AxesSubplot:>"
      ]
     },
     "execution_count": 353,
     "metadata": {},
     "output_type": "execute_result"
    },
    {
     "data": {
      "image/png": "[encoded data removed]",
      "text/plain": [
       "<Figure size 432x288 with 1 Axes>"
      ]
     },
     "metadata": {
      "needs_background": "light"
     },
     "output_type": "display_data"
    }
   ],
   "source": [
    "sstd_dist.hist(bins=30)"
   ]
  },
  {
   "cell_type": "markdown",
   "id": "f32376f3",
   "metadata": {},
   "source": [
    "The above distribution doesn't look quite normal. It seems to have more weight on the right side. "
   ]
  },
  {
   "cell_type": "markdown",
   "id": "706ff990",
   "metadata": {},
   "source": [
    "If we do the following transformation: $\\frac{s_y^2*(n-1)}{\\sigma^2}$, where we recall that $\\sigma^2$ is the \"true\" variance, then they will be distributed by what is called a $\\chi^2$ distribution with n-1 degrees of freedom: "
   ]
  },
  {
   "cell_type": "code",
   "execution_count": 354,
   "id": "8bcb2021",
   "metadata": {},
   "outputs": [
    {
     "data": {
      "text/plain": [
       "<AxesSubplot:>"
      ]
     },
     "execution_count": 354,
     "metadata": {},
     "output_type": "execute_result"
    },
    {
     "data": {
      "image/png": "[encoded data removed]",
      "text/plain": [
       "<Figure size 432x288 with 1 Axes>"
      ]
     },
     "metadata": {
      "needs_background": "light"
     },
     "output_type": "display_data"
    }
   ],
   "source": [
    "tr_sstd_dist = sstd_dist**2*(n-1)/(true_std**2)\n",
    "tr_sstd_dist.hist(bins=100)"
   ]
  },
  {
   "cell_type": "markdown",
   "id": "1d59da9d",
   "metadata": {},
   "source": [
    "\n",
    "\n",
    "We can generate random draws from a chi-squared distribution with numpy: \n",
    "\n"
   ]
  },
  {
   "cell_type": "code",
   "execution_count": 355,
   "id": "4a7b5f70",
   "metadata": {},
   "outputs": [
    {
     "data": {
      "text/plain": [
       "<AxesSubplot:>"
      ]
     },
     "execution_count": 355,
     "metadata": {},
     "output_type": "execute_result"
    },
    {
     "data": {
      "image/png": "[encoded data removed]",
      "text/plain": [
       "<Figure size 432x288 with 1 Axes>"
      ]
     },
     "metadata": {
      "needs_background": "light"
     },
     "output_type": "display_data"
    }
   ],
   "source": [
    "df = n-1 # degrees of freedom\n",
    "\n",
    "chisqDraws = pd.Series(np.random.chisquare(df, 10000))\n",
    "chisqDraws.hist(bins=50)"
   ]
  },
  {
   "cell_type": "markdown",
   "id": "96c3f1dc",
   "metadata": {},
   "source": [
    "### What is this \"degrees of freedom stuff?\""
   ]
  },
  {
   "cell_type": "markdown",
   "id": "29ba8b5f",
   "metadata": {},
   "source": [
    "In specifying the correct chi-squared distribution, we used the concept of \"degrees of freedom\". We will see this concept used more as we move into regression modelling. ROS explains that the concept is used to avoid \"overfitting\" of data. \n",
    "\n",
    "Let's try to add a little bit of intuition. \n",
    "\n",
    "Let's say we have one observation, to be concrete x=5. Can you calculate the mean of this observation. \n",
    "\n",
    "Obviously, the mean is x=5. \n",
    "\n",
    "Can we calculate the standard deviation? No! Because to calculate the standard deviation we need to first calculate the sample mean (see the formula above), but then we have run out of observations. \n",
    "\n",
    "To calculate a sample standard deviation we need at least 2 observations, giving us n-1 => 2-1 = 1 degree of freedom.  "
   ]
  },
  {
   "cell_type": "markdown",
   "id": "3b7c994b",
   "metadata": {},
   "source": [
    "### Fat tails and t-distribution"
   ]
  },
  {
   "cell_type": "markdown",
   "id": "4cb733f6",
   "metadata": {},
   "source": [
    "The normal distribution has what we call \"thin\" tails - that is if we were to look at a histogram of the number of observations on the left and right tails quickly becomes very small.\n",
    "\n",
    "But if we have a small sample, say n=5, these \"thin\" tails can become a problem when we are trying to estimate the uncertainty of an estimate (a sample mean for example). With small samples, there is more uncertainty then the normal distribution takes into account. This is why we use the *t-distribution* in such cases. "
   ]
  },
  {
   "cell_type": "code",
   "execution_count": 356,
   "id": "b073b018",
   "metadata": {},
   "outputs": [],
   "source": [
    "n= 5\n",
    "sample = np.random.normal(30,10)"
   ]
  },
  {
   "cell_type": "code",
   "execution_count": 370,
   "id": "ca697ff4",
   "metadata": {},
   "outputs": [
    {
     "data": {
      "text/plain": [
       "2.2621571627409915"
      ]
     },
     "execution_count": 370,
     "metadata": {},
     "output_type": "execute_result"
    }
   ],
   "source": [
    "s_mu = sample.mean() #sample mean\n",
    "SE = sample.std(ddof=1)/np.sqrt(n)\n",
    "\n",
    "#remember spt == scipy.stats\n",
    "t_025 = spt.t(df=n-1).ppf(.975)\n",
    "\n",
    "t_025"
   ]
  },
  {
   "cell_type": "markdown",
   "id": "b4f2dae5",
   "metadata": {},
   "source": [
    "Recall, that if we want a 95% confidence interval for a normal distribution, we can multiple 2 by the standard error (approximately). Above, we see that for the t-distribution this multiplier must be closer to 2.26. "
   ]
  },
  {
   "cell_type": "code",
   "execution_count": 372,
   "id": "f3a0fe37",
   "metadata": {},
   "outputs": [
    {
     "name": "stdout",
     "output_type": "stream",
     "text": [
      "Small-sample mean confidence intervall: 28.06911924310483 39.4102406490178\n"
     ]
    }
   ],
   "source": [
    "CI_low = s_mu - SE*t_025\n",
    "CI_high = s_mu + SE*t_025\n",
    "\n",
    "print(\"Small-sample mean confidence intervall:\", CI_low, CI_high)"
   ]
  },
  {
   "cell_type": "markdown",
   "id": "87f26aba",
   "metadata": {},
   "source": [
    "As soon as the number of observations in a sample increases, we can go back to using the normal approximation (see exercise below). "
   ]
  },
  {
   "cell_type": "markdown",
   "id": "ba8eaa78",
   "metadata": {},
   "source": [
    "### Bias"
   ]
  },
  {
   "cell_type": "markdown",
   "id": "e1ba91af",
   "metadata": {},
   "source": [
    "Let's go back to looking at the formula for sample standard deviation: \n",
    "\n",
    "$s_y = \\sqrt{\\frac{1}{n-1}\\sum^n_{i=1}(y_i - \\bar{y})^2}$\n",
    "\n",
    "why do we multiply by $\\frac{1}{n-1}$ rather than the more intuitive $\\frac{1}{n}$"
   ]
  },
  {
   "cell_type": "markdown",
   "id": "cff62be5",
   "metadata": {},
   "source": [
    "Let's try to understand by simulating. "
   ]
  },
  {
   "cell_type": "code",
   "execution_count": 380,
   "id": "dd58b60b",
   "metadata": {},
   "outputs": [
    {
     "data": {
      "text/plain": [
       "<matplotlib.lines.Line2D at 0x7fb829dab040>"
      ]
     },
     "execution_count": 380,
     "metadata": {},
     "output_type": "execute_result"
    },
    {
     "data": {
      "image/png": "[encoded data removed]",
      "text/plain": [
       "<Figure size 432x288 with 1 Axes>"
      ]
     },
     "metadata": {
      "needs_background": "light"
     },
     "output_type": "display_data"
    }
   ],
   "source": [
    "true_mean = 10\n",
    "true_sd = 5\n",
    "n=100\n",
    "\n",
    "#we'll generate a sample 100,000 times and take the sample standard deviation **without** the n-1 adjustment\n",
    "nsim=100000\n",
    "\n",
    "sstds = pd.Series([np.random.normal(true_mean, true_sd, n).std() for i in range(nsim)])\n",
    "\n",
    "simMeanSD = sstds.mean()\n",
    "\n",
    "fig, ax = plt.subplots()\n",
    "sstds.hist(bins=100, alpha=.5)\n",
    "ax.axvline(x=simMeanSD, color=\"red\")\n",
    "ax.axvline(x=true_sd, color=\"blue\")\n",
    "\n",
    "\n",
    "\n"
   ]
  },
  {
   "cell_type": "markdown",
   "id": "07990062",
   "metadata": {},
   "source": [
    "Above we have simulated 100,000 sample standard deviations. \n",
    "\n",
    "The blue line represents the \"true\" standard deviation form the actual normal distribution we were drawing from.\n",
    "\n",
    "The red line represents the mean of the simualted sample standard deviations. Notice how there is a gap between the mean of the simulated distribution and the actual standard deviation. This gap is what we call **statistical bias**. We have a sample estimate of the \"true\" standard deviation that *on average* is not equal to the value we are trying to estimate. \n",
    "\n",
    "Even if we increase the number of simulations - one million, one billion, there will still be a gap. \n",
    "\n",
    "We don't want biased estimators. We want estimators that, if in theory we could sample many times, the average of the estimates would get close to the \"true\" value we are trying to estimate. \n",
    "\n",
    "So let's try again, this time using our adjusted formula for calculating a sample standard deviation (multiply by $\\frac{1}{n-1}$"
   ]
  },
  {
   "cell_type": "code",
   "execution_count": 381,
   "id": "b73dbf48",
   "metadata": {},
   "outputs": [
    {
     "data": {
      "text/plain": [
       "<matplotlib.lines.Line2D at 0x7fb8299db310>"
      ]
     },
     "execution_count": 381,
     "metadata": {},
     "output_type": "execute_result"
    },
    {
     "data": {
      "image/png": "[encoded data removed]",
      "text/plain": [
       "<Figure size 432x288 with 1 Axes>"
      ]
     },
     "metadata": {
      "needs_background": "light"
     },
     "output_type": "display_data"
    }
   ],
   "source": [
    "nsim=100000\n",
    "\n",
    "sstds = pd.Series([np.random.normal(true_mean, true_sd, n).std(ddof=1) for i in range(nsim)])\n",
    "\n",
    "simMeanSD = sstds.mean()\n",
    "\n",
    "fig, ax = plt.subplots()\n",
    "sstds.hist(bins=100, alpha=.5)\n",
    "ax.axvline(x=simMeanSD, color=\"red\")\n",
    "ax.axvline(x=true_sd, color=\"blue\")\n",
    "\n",
    "\n"
   ]
  },
  {
   "cell_type": "markdown",
   "id": "9a3ddff8",
   "metadata": {},
   "source": [
    "### Hypothesis testing, p-value and statistical significance"
   ]
  },
  {
   "cell_type": "markdown",
   "id": "d989bc59",
   "metadata": {},
   "source": [
    "Let's consider a randomized control trial, and we'll take inspiration from [this study](https://www.nature.com/articles/ejcn201392) on the effects of a whole-foods low-fat plant-based diet on body weight (and other health metrics) among a sample of office workers who were overweight and/or type II diabetes. \n",
    "\n",
    "In this study, the investigators worked together with an insurance company to design an experiment. Employees at the insurance company who volunteered for the study were **randomly** placed either in a *intervention* or *treatment* group, where they were to follow a low-fat plant-based diet and went to weekly support groups and where work cafeteria options for healthy nutrition were available. \n",
    "\n",
    "The control group were simply to maintain their normal lifestyle. \n",
    "\n",
    "The study lasted for 18 months, after which several measures of health were recorded. We will just consider weight.\n",
    "\n",
    "(One note on research design: In a perfect medical intervention design, both the intervention group and the control group do not know which group they are in. For a medicine, this might mean that the control group gets a sugar pill every day, instead of the actual medicine.  The reason this is important is the well documented and sometimes large effects of placebo. This is nearly impossible in studies on nutrition. If you think you are taking a medicine, or doing something good for yourself, that in itself may have actual physical effects. )\n"
   ]
  },
  {
   "cell_type": "markdown",
   "id": "4d64fa20",
   "metadata": {},
   "source": [
    "## Hypothesis: \n",
    "\n",
    "In hypothesis testing, we of course start with a **null** hypothesis and an **alternative** hypothesis. The null hypothesis is often the conservative hypothesis we might like to show evidence against. So here: \n",
    "\n",
    "**Null hypothesis**: Changing to a low-fat plant-based diet has no effect on weight\n",
    "\n",
    "**Alternative hypothesis (one sided)**: Changing to a low-fat plant-based diet leads to weight loss. \n",
    "\n",
    "\n",
    "\n"
   ]
  },
  {
   "cell_type": "markdown",
   "id": "e7883af6",
   "metadata": {},
   "source": [
    "Our *parameter of interest*, $\\theta$ is then difference in weight loss between treatment ($\\theta_T$) and controll group ($\\theta_C$):  $\\theta = \\theta_T - \\theta_C\\$\n",
    "\n",
    "We don't have access to the actual data, so let's simulate some data. Let's say that the \"true\" or population distribution for people in the the control group is normally distributed with mean $\\theta_T = -4.3kg$ (this was in fact the mean change observed in the actual study among the control group.), and standard deviation of 12 ($\\sigma_T=12$) \n",
    "\n",
    "And let us assume that the true change in weight among the control group was 0: ($\\theta_C = 0$), with a standard deviation 7 (\\sigma_C=7). \n",
    "\n",
    "(So we could imagine that the above distribution represents all people, or all people in the US, or whatever population you are interested in). \n",
    "\n",
    "We have $n_T = 200$ participants in the treatment group.\n",
    "\n",
    "We have $n_C = 200$ participants in the control group. \n",
    "\n",
    "We simulate: "
   ]
  },
  {
   "cell_type": "code",
   "execution_count": 496,
   "id": "4add5cfc",
   "metadata": {},
   "outputs": [],
   "source": [
    "theta_T = -4.3\n",
    "theta_C = 0\n",
    "sigma_T = 14\n",
    "sigma_C = 7\n",
    "\n",
    "n = 200\n",
    "\n",
    "\n",
    "ys_T = np.random.normal(theta_T, sigma_T, n)\n",
    "ys_C = np.random.normal(theta_C, sigma_C, n)"
   ]
  },
  {
   "cell_type": "markdown",
   "id": "e54ebff4",
   "metadata": {},
   "source": [
    "Then we estimate sample means and sample standard deviations"
   ]
  },
  {
   "cell_type": "code",
   "execution_count": 497,
   "id": "eb287ebe",
   "metadata": {},
   "outputs": [
    {
     "name": "stdout",
     "output_type": "stream",
     "text": [
      "-3.688306859772294 13.75541121250745 -0.016598923144561562 6.504662285628622\n"
     ]
    }
   ],
   "source": [
    "y_T_bar = ys_T.mean()\n",
    "std_T = ys_T.std(ddof=1)\n",
    "y_C_bar = ys_C.mean()\n",
    "std_C = ys_C.std(ddof=1)\n",
    "\n",
    "print(y_T_bar, std_T, y_C_bar, std_C)"
   ]
  },
  {
   "cell_type": "code",
   "execution_count": null,
   "id": "24706caf",
   "metadata": {},
   "outputs": [],
   "source": []
  },
  {
   "cell_type": "markdown",
   "id": "736fefee",
   "metadata": {},
   "source": [
    "The estimate we are interested in is $\\hat{\\theta} = \\bar{y_T} - \\bar{y_C}$\n",
    "\n"
   ]
  },
  {
   "cell_type": "code",
   "execution_count": 498,
   "id": "91d11d6c",
   "metadata": {},
   "outputs": [
    {
     "data": {
      "text/plain": [
       "-3.6717079366277328"
      ]
     },
     "execution_count": 498,
     "metadata": {},
     "output_type": "execute_result"
    }
   ],
   "source": [
    "theta_hat = y_T_bar - y_C_bar\n",
    "theta_hat"
   ]
  },
  {
   "cell_type": "markdown",
   "id": "30819709",
   "metadata": {},
   "source": [
    "And since we are taking the difference of two sample means, the standard error is calculated: "
   ]
  },
  {
   "cell_type": "code",
   "execution_count": 499,
   "id": "70bb5e75",
   "metadata": {},
   "outputs": [],
   "source": [
    "SE_theta = np.sqrt(std_T**2/n + std_C**2/n)"
   ]
  },
  {
   "cell_type": "code",
   "execution_count": 500,
   "id": "388605f8",
   "metadata": {},
   "outputs": [
    {
     "data": {
      "text/plain": [
       "1.0759227878320428"
      ]
     },
     "execution_count": 500,
     "metadata": {},
     "output_type": "execute_result"
    }
   ],
   "source": [
    "SE_theta"
   ]
  },
  {
   "cell_type": "markdown",
   "id": "3bd7ffe0",
   "metadata": {},
   "source": [
    "So now we are ready to calculate our confidence interval. Since we have n=200 observations in our sample of both treatment and control, then it will probably be fine to assume that using the normal distribution will be a good approximation to the distribution of the estimate (rather than using the t-distribution). We can then add +/- 2*SE to our mean: "
   ]
  },
  {
   "cell_type": "code",
   "execution_count": 501,
   "id": "71723604",
   "metadata": {},
   "outputs": [
    {
     "name": "stdout",
     "output_type": "stream",
     "text": [
      "95% Confidence interval -5.823553512291818 -1.5198623609636472\n"
     ]
    }
   ],
   "source": [
    "CI_low = theta_hat - 2*SE_theta\n",
    "CI_high =theta_hat + 2*SE_theta\n",
    "\n",
    "print(\"95% Confidence interval\", CI_low, CI_high)"
   ]
  },
  {
   "cell_type": "markdown",
   "id": "45c16137",
   "metadata": {},
   "source": [
    "A traditional (\"frequentist\") way of interpreting this confidence interval would be to say that 95% percent of the time that such a experiment is run, we would expect to see a weight decrease of switching to a plant based diet of between this interval. "
   ]
  },
  {
   "cell_type": "markdown",
   "id": "1aaed34c",
   "metadata": {},
   "source": [
    "### Statistical significance"
   ]
  },
  {
   "cell_type": "markdown",
   "id": "29d79025",
   "metadata": {},
   "source": [
    "Notably, the confidence interval does not include 0, and thus we can say that we **reject** the null hypothesis (of 0 change in weight) at the 5% level. \n",
    "\n",
    "Another way of saying this is that our estimated effect is **statistically significant** at the 5% level. "
   ]
  },
  {
   "cell_type": "markdown",
   "id": "97673749",
   "metadata": {},
   "source": [
    "### p-value"
   ]
  },
  {
   "cell_type": "markdown",
   "id": "222f5e97",
   "metadata": {},
   "source": [
    "To understand what the p-value is, it can be helpful to simulate a distribution **assuming that our null hypothesis is true**, that is that $\\theta=0$"
   ]
  },
  {
   "cell_type": "code",
   "execution_count": 508,
   "id": "d4645ba5",
   "metadata": {},
   "outputs": [],
   "source": [
    "nsims=100000\n",
    "null_dist = pd.Series(np.random.normal(0, SE_theta, nsims))"
   ]
  },
  {
   "cell_type": "code",
   "execution_count": 509,
   "id": "73ee60cf",
   "metadata": {},
   "outputs": [
    {
     "data": {
      "text/plain": [
       "<matplotlib.lines.Line2D at 0x7fb82e1a26d0>"
      ]
     },
     "execution_count": 509,
     "metadata": {},
     "output_type": "execute_result"
    },
    {
     "data": {
      "image/png": "[encoded data removed]",
      "text/plain": [
       "<Figure size 432x288 with 1 Axes>"
      ]
     },
     "metadata": {
      "needs_background": "light"
     },
     "output_type": "display_data"
    }
   ],
   "source": [
    "fig, ax = plt.subplots()\n",
    "null_dist.hist(bins=200, alpha=.5, ax=ax)\n",
    "ax.axvline(x=0, color=\"red\")\n",
    "ax.axvline(x=theta_hat, color=\"blue\")\n",
    "\n"
   ]
  },
  {
   "cell_type": "markdown",
   "id": "01da22fe",
   "metadata": {},
   "source": [
    "The red line is our null hypothesis of 0 change, and the blue line is our actual test statistic. What is the change, according to our simulated distribution that we get a test statistic equal or greater than our actual test statistic **by pure change, assuming the null hypothesis is true**??"
   ]
  },
  {
   "cell_type": "markdown",
   "id": "b781261c",
   "metadata": {},
   "source": [
    "We can calculate this out: "
   ]
  },
  {
   "cell_type": "code",
   "execution_count": 511,
   "id": "c352626f",
   "metadata": {},
   "outputs": [
    {
     "data": {
      "text/plain": [
       "0.00033"
      ]
     },
     "execution_count": 511,
     "metadata": {},
     "output_type": "execute_result"
    }
   ],
   "source": [
    "null_dist[null_dist<theta_hat].count()/nsims"
   ]
  },
  {
   "cell_type": "markdown",
   "id": "44b529ff",
   "metadata": {},
   "source": [
    "This number is our p-value. If we were interested in a two-sided test, we would double the value to take into account a weight **gain** of corresponding value as well by pure change. "
   ]
  },
  {
   "cell_type": "markdown",
   "id": "9819cef0",
   "metadata": {},
   "source": [
    "If we are using a 5% significance level, as long as the p-value<.05, then we would say our test statistic is significant. "
   ]
  },
  {
   "cell_type": "markdown",
   "id": "250203d9",
   "metadata": {},
   "source": [
    "We can also calculate our p-value in Python without simulating using the cumulative distribution function from scipy.stats: "
   ]
  },
  {
   "cell_type": "code",
   "execution_count": null,
   "id": "872c203d",
   "metadata": {},
   "outputs": [],
   "source": []
  },
  {
   "cell_type": "code",
   "execution_count": 513,
   "id": "32b1f249",
   "metadata": {},
   "outputs": [
    {
     "data": {
      "text/plain": [
       "0.00032171639521680806"
      ]
     },
     "execution_count": 513,
     "metadata": {},
     "output_type": "execute_result"
    }
   ],
   "source": [
    "spt.norm(0,SE_theta).cdf(theta_hat)"
   ]
  },
  {
   "cell_type": "markdown",
   "id": "a1ac5967",
   "metadata": {},
   "source": [
    "The CDF function adds up all the combined probability up to the given value (here theta_hat)"
   ]
  },
  {
   "cell_type": "markdown",
   "id": "cefcaec5",
   "metadata": {},
   "source": [
    "## Data example"
   ]
  },
  {
   "cell_type": "markdown",
   "id": "271c91e9",
   "metadata": {},
   "source": [
    "Company data? "
   ]
  },
  {
   "cell_type": "markdown",
   "id": "39e760c5",
   "metadata": {},
   "source": [
    "# Exercises"
   ]
  },
  {
   "cell_type": "markdown",
   "id": "0627f4ed",
   "metadata": {},
   "source": [
    "# 1.\n",
    "\n",
    "Calculate some difference in two distributions"
   ]
  },
  {
   "cell_type": "markdown",
   "id": "1b33554c",
   "metadata": {},
   "source": [
    "# 2. \n",
    "\n",
    "Consider a sample mean, $\\bar{x}$, from a normal distribution with \\mu=30 and \\sigma=5 with a small sample size (n=5).\n",
    "\n",
    "- Simulate a distribution of the sample mean (with, say 10.000 simulations)\n",
    "\n",
    "- If we use the normal approximation to creating a 95% confidence interval (2*SE), calculate how much of the probability mass (proportion of simulated values) in the simulated distribution would actually be outside of these bounds. \n",
    "\n",
    "- Now use the t-distribution to calculate the 95% confidence interval. How much of the probability mass in the simulated distribution are outside these bounds.\n",
    "\n",
    "- Do the same steps above when the sample size is n=30"
   ]
  },
  {
   "cell_type": "markdown",
   "id": "26750353",
   "metadata": {},
   "source": [
    "# 3.  (using data)"
   ]
  },
  {
   "cell_type": "markdown",
   "id": "db1aaf67",
   "metadata": {},
   "source": []
  }
 ],
 "metadata": {
  "kernelspec": {
   "display_name": "Python 3 (ipykernel)",
   "language": "python",
   "name": "python3"
  },
  "language_info": {
   "codemirror_mode": {
    "name": "ipython",
    "version": 3
   },
   "file_extension": ".py",
   "mimetype": "text/x-python",
   "name": "python",
   "nbconvert_exporter": "python",
   "pygments_lexer": "ipython3",
   "version": "3.9.7"
  }
 },
 "nbformat": 4,
 "nbformat_minor": 5
}
